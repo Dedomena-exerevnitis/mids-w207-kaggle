{
 "cells": [
  {
   "cell_type": "markdown",
   "metadata": {},
   "source": [
    "# NCAA ML Competition - Women's 2018"
   ]
  },
  {
   "cell_type": "markdown",
   "metadata": {},
   "source": [
    "## Notes\n",
    "\n",
    "Notes about what's in the data files: https://www.kaggle.com/c/womens-machine-learning-competition-2018/data\n",
    "\n",
    "Starter Kernel might help: https://www.kaggle.com/juliaelliott/basic-starter-kernel-ncaa-women-s-dataset"
   ]
  },
  {
   "cell_type": "code",
   "execution_count": 1,
   "metadata": {},
   "outputs": [
    {
     "name": "stderr",
     "output_type": "stream",
     "text": [
      "/Users/chenyingcharlene/anaconda3/lib/python3.6/site-packages/sklearn/cross_validation.py:41: DeprecationWarning: This module was deprecated in version 0.18 in favor of the model_selection module into which all the refactored classes and functions are moved. Also note that the interface of the new CV iterators are different from that of this module. This module will be removed in 0.20.\n",
      "  \"This module will be removed in 0.20.\", DeprecationWarning)\n",
      "/Users/chenyingcharlene/anaconda3/lib/python3.6/site-packages/sklearn/grid_search.py:42: DeprecationWarning: This module was deprecated in version 0.18 in favor of the model_selection module into which all the refactored classes and functions are moved. This module will be removed in 0.20.\n",
      "  DeprecationWarning)\n"
     ]
    }
   ],
   "source": [
    "# This tells matplotlib not to try opening a new window for each plot.\n",
    "%matplotlib inline\n",
    "\n",
    "# General libraries.\n",
    "import numpy as np\n",
    "import pandas as pd\n",
    "import matplotlib.pyplot as plt\n",
    "\n",
    "import seaborn as sns\n",
    "\n",
    "# SK-learn libraries for learning.\n",
    "from sklearn.pipeline import Pipeline\n",
    "from sklearn.neighbors import KNeighborsClassifier\n",
    "from sklearn.linear_model import LogisticRegression\n",
    "from sklearn.naive_bayes import BernoulliNB\n",
    "from sklearn.naive_bayes import MultinomialNB\n",
    "from sklearn.grid_search import GridSearchCV\n",
    "\n",
    "\n",
    "# SK-learn libraries for evaluation.\n",
    "from sklearn.metrics import confusion_matrix\n",
    "from sklearn import metrics\n",
    "from sklearn.metrics import classification_report"
   ]
  },
  {
   "cell_type": "markdown",
   "metadata": {},
   "source": [
    "## Load Data"
   ]
  },
  {
   "cell_type": "code",
   "execution_count": 2,
   "metadata": {
    "collapsed": true
   },
   "outputs": [],
   "source": [
    "# update this as needed!\n",
    "\n",
    "# right now, only looking at tournament seed / performance, not regular season games\n",
    "data_dir = './WDataFiles/'\n",
    "data_dir_1 = './WPrelimData2018/'\n",
    "df_seeds = pd.read_csv(data_dir + 'WNCAATourneySeeds.csv')\n",
    "df_tour_compact = pd.read_csv(data_dir_1 + 'WNCAATourneyCompactResults_PrelimData2018.csv')\n",
    "\n",
    "df_tour = pd.read_csv(data_dir_1 + 'WNCAATourneyDetailedResults_PrelimData2018.csv')\n",
    "df_reg_compact = pd.read_csv(data_dir_1+'WRegularSeasonCompactResults_PrelimData2018.csv')\n",
    "\n",
    "df_reg_detail = pd.read_csv('./WPrelimData2018/WRegularSeasonDetailedResults_PrelimData2018.csv')\n",
    "\n",
    "df_teams = pd.read_csv(data_dir + 'WTeams.csv')"
   ]
  },
  {
   "cell_type": "code",
   "execution_count": 3,
   "metadata": {
    "collapsed": true
   },
   "outputs": [],
   "source": [
    "# Add winning an losing team names to the regular compact and tour compact dataframes\n",
    "\n",
    "df_teams_w = df_teams.rename(columns={'TeamID':'WTeamID','TeamName':'WTeamName'})\n",
    "df_teams_l = df_teams.rename(columns={'TeamID':'LTeamID','TeamName':'LTeamName'})\n",
    "\n",
    "df_reg_compact = pd.merge(left=df_reg_compact, right=df_teams_w, how='left', on=['WTeamID'])\n",
    "df_reg_compact = pd.merge(left=df_reg_compact, right=df_teams_l, how='left', on=['LTeamID'])\n",
    "df_reg_compact.head()\n",
    "\n",
    "df_tour_compact = pd.merge(left=df_tour_compact, right=df_teams_w, how='left', on=['WTeamID'])\n",
    "df_tour_compact = pd.merge(left=df_tour_compact, right=df_teams_l, how='left', on=['LTeamID'])\n",
    "\n"
   ]
  },
  {
   "cell_type": "code",
   "execution_count": 4,
   "metadata": {
    "collapsed": true
   },
   "outputs": [],
   "source": [
    "# Get the top 15 teams that are seeded No 1\n",
    "\n",
    "df_seeds['SeedNo'] = df_seeds.loc[:,['Seed']].apply(lambda x: x['Seed'][-1:] ,axis=1)\n",
    "\n",
    "df_seeds = pd.merge(left=df_seeds, right=df_teams, how='left', on=['TeamID'])\n",
    "\n",
    "\n",
    "df_seeds.loc[df_seeds.SeedNo == '1',:]\n",
    "\n",
    "df_teams_seed_count = pd.DataFrame({'count':df_seeds.loc[df_seeds.SeedNo == '1',:].groupby(['TeamID','TeamName']).size()}).reset_index()\n",
    "\n",
    "df_teams_seed_count_top_15 = df_teams_seed_count.nlargest(15,'count').sort_values('count',axis=0,ascending=False)\n"
   ]
  },
  {
   "cell_type": "code",
   "execution_count": 5,
   "metadata": {
    "collapsed": true
   },
   "outputs": [],
   "source": [
    "# Get the top 15 teams that have won the maximum number of regular season games\n",
    "\n",
    "df_reg_compact_team_wins = df_reg_compact[['WTeamName','WTeamID']]\n",
    "\n",
    "df_reg_compact_team_wins = pd.DataFrame({'count':df_reg_compact_team_wins.groupby(['WTeamID','WTeamName']).size()}).reset_index()\n",
    "\n",
    "df_reg_compact_team_wins_top_15 = df_reg_compact_team_wins.nlargest(15,'count').sort_values('count',axis=0,ascending=False)"
   ]
  },
  {
   "cell_type": "code",
   "execution_count": 6,
   "metadata": {
    "collapsed": true
   },
   "outputs": [],
   "source": [
    "# Get the top 15 teams that have won the maximum number of tour season games\n",
    "\n",
    "df_tour_compact_team_wins = df_tour_compact[['WTeamName','WTeamID']]\n",
    "\n",
    "df_tour_compact_team_wins = pd.DataFrame({'count':df_tour_compact_team_wins.groupby(['WTeamID','WTeamName']).size()}).reset_index() \\\n",
    ".rename(columns={'WTeamID':'TeamID','WTeamName':'TeamName'})\n",
    "\n",
    "df_tour_compact_team_wins_top_15 = df_tour_compact_team_wins.nlargest(15,'count').sort_values('count',axis=0,ascending=False)\n"
   ]
  },
  {
   "cell_type": "code",
   "execution_count": 7,
   "metadata": {
    "collapsed": true
   },
   "outputs": [],
   "source": [
    "# Get the top teams that have won the maximum number of NCAA championships\n",
    "\n",
    "\n",
    "df_tour_compact.sort_values(['Season', 'DayNum'], inplace=True)\n",
    "    \n",
    "df_tour_compact_champs = df_tour_compact.drop_duplicates(['Season'], keep='last', inplace=False)\n",
    "\n",
    "df_tour_compact_champs = pd.DataFrame({'count':df_tour_compact_champs.groupby(['WTeamID','WTeamName']).size()}).reset_index() \\\n",
    ".rename(columns={'WTeamID':'TeamID','WTeamName':'TeamName'})\n"
   ]
  },
  {
   "cell_type": "code",
   "execution_count": 8,
   "metadata": {},
   "outputs": [
    {
     "data": {
      "image/png": "[encoded data removed]",
      "text/plain": [
       "<matplotlib.figure.Figure at 0x1a14a193c8>"
      ]
     },
     "metadata": {},
     "output_type": "display_data"
    }
   ],
   "source": [
    "# Set up the figure,axes and style for the plots\n",
    "fig, axes = plt.subplots(nrows=2,ncols=2, sharey=False)\n",
    "fig.tight_layout()\n",
    "plt.subplots_adjust(left=None, bottom=None, right=None, top=None, wspace=None, hspace=1.5)\n",
    "fig.set_size_inches(15, 5, forward=True)\n",
    "sns.set_style(\"whitegrid\")\n",
    "\n",
    "# Plot a barplot for Top 15 Winning Teams\n",
    "ax = sns.barplot(x=\"WTeamName\", y=\"count\", data=df_reg_compact_team_wins_top_15,ax=axes[0,0])\n",
    "ax.set(xlabel='Team Name', ylabel='Win Count')\n",
    "ax.set_title('Top 15 Winning Teams')\n",
    "\n",
    "for item in ax.get_xticklabels():\n",
    "    item.set_rotation(90)\n",
    "\n",
    "# Plot a barplot for Top 15 No:1 Seeded Teams\n",
    "\n",
    "ax1 = sns.barplot(x=\"TeamName\", y=\"count\", data=df_teams_seed_count_top_15,ax=axes[0,1])\n",
    "ax1.set(xlabel='Team Name', ylabel='Win Count')\n",
    "ax1.set_title('Top 15 No:1 Seeded Teams')\n",
    "\n",
    "\n",
    "for item in ax1.get_xticklabels():\n",
    "    item.set_rotation(90)\n",
    "    \n",
    "# Plot a barplot for Top 15 Tournament winning Teams\n",
    "\n",
    "ax1 = sns.barplot(x=\"TeamName\", y=\"count\", data=df_tour_compact_team_wins_top_15,ax=axes[1,0])\n",
    "ax1.set(xlabel='Team Name', ylabel='Win Count')\n",
    "ax1.set_title('Top 15 Tournament winning Teams')\n",
    "\n",
    "\n",
    "for item in ax1.get_xticklabels():\n",
    "    item.set_rotation(90)\n",
    "    \n",
    "# Plot a barplot for Top Tournament Champions\n",
    "\n",
    "ax1 = sns.barplot(x=\"TeamName\", y=\"count\", data=df_tour_compact_champs,ax=axes[1,1])\n",
    "ax1.set(xlabel='Team Name', ylabel='Win Count')\n",
    "ax1.set_title('Top Tournament Champions')\n",
    "\n",
    "\n",
    "for item in ax1.get_xticklabels():\n",
    "    item.set_rotation(90)\n",
    "\n"
   ]
  },
  {
   "cell_type": "markdown",
   "metadata": {},
   "source": [
    "# Indicators of Regular Season Success\n",
    "\n",
    "Let’s now turn to the regular season game statistics. We are interested in knowing how certain statistics correlate with winning vs losing. We will take the regular season detail and first convert it to a more ‘long’ format with only 1 column of TeamIDs and a factor indicating whether that row corresponds to a win or a loss. Here I also add some additional game statistcs. These include field goal percentage, free throw percentage, offensive/defensive rebounding efficiency, and possessions. "
   ]
  },
  {
   "cell_type": "code",
   "execution_count": 9,
   "metadata": {
    "collapsed": true
   },
   "outputs": [],
   "source": [
    "# Calculate additional metrics for the winning team\n",
    "\n",
    "# Calculate Field Goal Percentage \n",
    "\n",
    "df_reg_detail['WFGP'] = df_reg_detail.WFGM / df_reg_detail.WFGA\n",
    "\n",
    "# Calculate 2Pt Field Goal Percentage\n",
    "\n",
    "df_reg_detail['WFGP2'] = (df_reg_detail.WFGM - df_reg_detail.WFGM3) / (df_reg_detail.WFGA - df_reg_detail.WFGA3)\n",
    "\n",
    "# Calculate 3Pt Field Goal Percentage\n",
    "\n",
    "df_reg_detail['WFGP3'] = df_reg_detail.WFGM3 / df_reg_detail.WFGA3\n",
    "\n",
    "# Calculate Free Throw Shooting\n",
    "\n",
    "df_reg_detail['WFTP'] = df_reg_detail.WFTM / df_reg_detail.WFTA\n",
    "\n",
    "# Calculate Offensive Rebounding Efficiency\n",
    "\n",
    "df_reg_detail['WORP'] = df_reg_detail.WOR / (df_reg_detail.WOR + df_reg_detail.LDR)\n",
    "\n",
    "# Calculate Defensive Rebounding Efficiency\n",
    "\n",
    "df_reg_detail['WDRP'] = df_reg_detail.WDR / (df_reg_detail.WDR + df_reg_detail.LOR)\n",
    "\n",
    "# Calculate Possessions\n",
    "\n",
    "df_reg_detail['WPOS'] = 0.96 * (df_reg_detail.WFGA + df_reg_detail.WTO + 0.44 * df_reg_detail.WFTA - df_reg_detail.WOR)"
   ]
  },
  {
   "cell_type": "code",
   "execution_count": 10,
   "metadata": {
    "collapsed": true
   },
   "outputs": [],
   "source": [
    "# Calculate additional metrics for the Losing team\n",
    "\n",
    "# Calculate Field Goal Percentage \n",
    "\n",
    "df_reg_detail['LFGP'] = df_reg_detail.LFGM / df_reg_detail.LFGA\n",
    "\n",
    "# Calculate 2Pt Field Goal Percentage\n",
    "\n",
    "df_reg_detail['LFGP2'] = (df_reg_detail.LFGM - df_reg_detail.LFGM3) / (df_reg_detail.LFGA - df_reg_detail.LFGA3)\n",
    "\n",
    "# Calculate 3Pt Field Goal Percentage\n",
    "\n",
    "df_reg_detail['LFGP3'] = df_reg_detail.LFGM3 / df_reg_detail.LFGA3\n",
    "\n",
    "# Calculate Free Throw Shooting\n",
    "\n",
    "df_reg_detail['LFTP'] = df_reg_detail.LFTM / df_reg_detail.LFTA\n",
    "\n",
    "# Calculate Offensive Rebounding Efficiency\n",
    "\n",
    "df_reg_detail['LORP'] = df_reg_detail.LOR / (df_reg_detail.LOR + df_reg_detail.LDR)\n",
    "\n",
    "# Calculate Defensive Rebounding Efficiency\n",
    "\n",
    "df_reg_detail['LDRP'] = df_reg_detail.LDR / (df_reg_detail.LDR + df_reg_detail.LOR)\n",
    "\n",
    "# Calculate Possessions\n",
    "\n",
    "df_reg_detail['LPOS'] = 0.96 * (df_reg_detail.LFGA + df_reg_detail.LTO + 0.44 * df_reg_detail.LFTA - df_reg_detail.LOR)"
   ]
  },
  {
   "cell_type": "code",
   "execution_count": 11,
   "metadata": {},
   "outputs": [
    {
     "data": {
      "text/html": [
       "<div>\n",
       "<style>\n",
       "    .dataframe thead tr:only-child th {\n",
       "        text-align: right;\n",
       "    }\n",
       "\n",
       "    .dataframe thead th {\n",
       "        text-align: left;\n",
       "    }\n",
       "\n",
       "    .dataframe tbody tr th {\n",
       "        vertical-align: top;\n",
       "    }\n",
       "</style>\n",
       "<table border=\"1\" class=\"dataframe\">\n",
       "  <thead>\n",
       "    <tr style=\"text-align: right;\">\n",
       "      <th></th>\n",
       "      <th>Season</th>\n",
       "      <th>DayNum</th>\n",
       "      <th>WTeamID</th>\n",
       "      <th>WScore</th>\n",
       "      <th>LTeamID</th>\n",
       "      <th>LScore</th>\n",
       "      <th>WLoc</th>\n",
       "      <th>NumOT</th>\n",
       "      <th>WFGM</th>\n",
       "      <th>WFGA</th>\n",
       "      <th>...</th>\n",
       "      <th>WORP</th>\n",
       "      <th>WDRP</th>\n",
       "      <th>WPOS</th>\n",
       "      <th>LFGP</th>\n",
       "      <th>LFGP2</th>\n",
       "      <th>LFGP3</th>\n",
       "      <th>LFTP</th>\n",
       "      <th>LORP</th>\n",
       "      <th>LDRP</th>\n",
       "      <th>LPOS</th>\n",
       "    </tr>\n",
       "  </thead>\n",
       "  <tbody>\n",
       "    <tr>\n",
       "      <th>0</th>\n",
       "      <td>2010</td>\n",
       "      <td>11</td>\n",
       "      <td>3103</td>\n",
       "      <td>63</td>\n",
       "      <td>3237</td>\n",
       "      <td>49</td>\n",
       "      <td>H</td>\n",
       "      <td>0</td>\n",
       "      <td>23</td>\n",
       "      <td>54</td>\n",
       "      <td>...</td>\n",
       "      <td>0.270270</td>\n",
       "      <td>0.702703</td>\n",
       "      <td>67.5456</td>\n",
       "      <td>0.370370</td>\n",
       "      <td>0.414634</td>\n",
       "      <td>0.230769</td>\n",
       "      <td>0.600000</td>\n",
       "      <td>0.289474</td>\n",
       "      <td>0.710526</td>\n",
       "      <td>67.5840</td>\n",
       "    </tr>\n",
       "    <tr>\n",
       "      <th>1</th>\n",
       "      <td>2010</td>\n",
       "      <td>11</td>\n",
       "      <td>3104</td>\n",
       "      <td>73</td>\n",
       "      <td>3399</td>\n",
       "      <td>68</td>\n",
       "      <td>N</td>\n",
       "      <td>0</td>\n",
       "      <td>26</td>\n",
       "      <td>62</td>\n",
       "      <td>...</td>\n",
       "      <td>0.380952</td>\n",
       "      <td>0.688889</td>\n",
       "      <td>75.1872</td>\n",
       "      <td>0.396825</td>\n",
       "      <td>0.500000</td>\n",
       "      <td>0.190476</td>\n",
       "      <td>0.518519</td>\n",
       "      <td>0.350000</td>\n",
       "      <td>0.650000</td>\n",
       "      <td>77.6448</td>\n",
       "    </tr>\n",
       "    <tr>\n",
       "      <th>2</th>\n",
       "      <td>2010</td>\n",
       "      <td>11</td>\n",
       "      <td>3110</td>\n",
       "      <td>71</td>\n",
       "      <td>3224</td>\n",
       "      <td>59</td>\n",
       "      <td>A</td>\n",
       "      <td>0</td>\n",
       "      <td>29</td>\n",
       "      <td>62</td>\n",
       "      <td>...</td>\n",
       "      <td>0.378378</td>\n",
       "      <td>0.575000</td>\n",
       "      <td>63.6288</td>\n",
       "      <td>0.327586</td>\n",
       "      <td>0.386364</td>\n",
       "      <td>0.142857</td>\n",
       "      <td>0.826087</td>\n",
       "      <td>0.425000</td>\n",
       "      <td>0.575000</td>\n",
       "      <td>63.4752</td>\n",
       "    </tr>\n",
       "    <tr>\n",
       "      <th>3</th>\n",
       "      <td>2010</td>\n",
       "      <td>11</td>\n",
       "      <td>3111</td>\n",
       "      <td>63</td>\n",
       "      <td>3267</td>\n",
       "      <td>58</td>\n",
       "      <td>A</td>\n",
       "      <td>0</td>\n",
       "      <td>27</td>\n",
       "      <td>52</td>\n",
       "      <td>...</td>\n",
       "      <td>0.214286</td>\n",
       "      <td>0.645161</td>\n",
       "      <td>73.8816</td>\n",
       "      <td>0.243243</td>\n",
       "      <td>0.250000</td>\n",
       "      <td>0.230769</td>\n",
       "      <td>0.640000</td>\n",
       "      <td>0.500000</td>\n",
       "      <td>0.500000</td>\n",
       "      <td>71.0400</td>\n",
       "    </tr>\n",
       "    <tr>\n",
       "      <th>4</th>\n",
       "      <td>2010</td>\n",
       "      <td>11</td>\n",
       "      <td>3119</td>\n",
       "      <td>74</td>\n",
       "      <td>3447</td>\n",
       "      <td>70</td>\n",
       "      <td>H</td>\n",
       "      <td>1</td>\n",
       "      <td>30</td>\n",
       "      <td>74</td>\n",
       "      <td>...</td>\n",
       "      <td>0.304348</td>\n",
       "      <td>0.611111</td>\n",
       "      <td>72.8064</td>\n",
       "      <td>0.337838</td>\n",
       "      <td>0.280702</td>\n",
       "      <td>0.529412</td>\n",
       "      <td>0.523810</td>\n",
       "      <td>0.396226</td>\n",
       "      <td>0.603774</td>\n",
       "      <td>73.1904</td>\n",
       "    </tr>\n",
       "  </tbody>\n",
       "</table>\n",
       "<p>5 rows × 48 columns</p>\n",
       "</div>"
      ],
      "text/plain": [
       "   Season  DayNum  WTeamID  WScore  LTeamID  LScore WLoc  NumOT  WFGM  WFGA  \\\n",
       "0    2010      11     3103      63     3237      49    H      0    23    54   \n",
       "1    2010      11     3104      73     3399      68    N      0    26    62   \n",
       "2    2010      11     3110      71     3224      59    A      0    29    62   \n",
       "3    2010      11     3111      63     3267      58    A      0    27    52   \n",
       "4    2010      11     3119      74     3447      70    H      1    30    74   \n",
       "\n",
       "    ...         WORP      WDRP     WPOS      LFGP     LFGP2     LFGP3  \\\n",
       "0   ...     0.270270  0.702703  67.5456  0.370370  0.414634  0.230769   \n",
       "1   ...     0.380952  0.688889  75.1872  0.396825  0.500000  0.190476   \n",
       "2   ...     0.378378  0.575000  63.6288  0.327586  0.386364  0.142857   \n",
       "3   ...     0.214286  0.645161  73.8816  0.243243  0.250000  0.230769   \n",
       "4   ...     0.304348  0.611111  72.8064  0.337838  0.280702  0.529412   \n",
       "\n",
       "       LFTP      LORP      LDRP     LPOS  \n",
       "0  0.600000  0.289474  0.710526  67.5840  \n",
       "1  0.518519  0.350000  0.650000  77.6448  \n",
       "2  0.826087  0.425000  0.575000  63.4752  \n",
       "3  0.640000  0.500000  0.500000  71.0400  \n",
       "4  0.523810  0.396226  0.603774  73.1904  \n",
       "\n",
       "[5 rows x 48 columns]"
      ]
     },
     "execution_count": 11,
     "metadata": {},
     "output_type": "execute_result"
    }
   ],
   "source": [
    "df_reg_detail.head()"
   ]
  },
  {
   "cell_type": "code",
   "execution_count": null,
   "metadata": {
    "collapsed": true
   },
   "outputs": [],
   "source": []
  },
  {
   "cell_type": "code",
   "execution_count": null,
   "metadata": {
    "collapsed": true
   },
   "outputs": [],
   "source": []
  },
  {
   "cell_type": "code",
   "execution_count": null,
   "metadata": {
    "collapsed": true
   },
   "outputs": [],
   "source": []
  },
  {
   "cell_type": "markdown",
   "metadata": {
    "collapsed": true
   },
   "source": [
    "Here is the start for PCA analysis."
   ]
  },
  {
   "cell_type": "code",
   "execution_count": 12,
   "metadata": {
    "collapsed": true
   },
   "outputs": [],
   "source": [
    "# extract data set only for PCA\n",
    "\n",
    "#Win_F_pca = list([\"WFGP\",\"WFGP2\", \"WFGP3\", \"WFTP\", \"WORP\", \"WDRP\", \"WPOS\", \"WAst\", \"WStl\", \"WBlk\", \"WPF\"])\n",
    "#Loss_F_pca = list([\"LFGP\",\"LFGP2\", \"LFGP3\", \"LFTP\", \"LORP\", \"LDRP\", \"LPOS\", \"LAst\", \"LStl\", \"LBlk\", \"LPF\"])\n",
    "\n",
    "Win_F_pca = list([\"WFGP\",\"WFGP2\", \"WORP\", \"WDRP\", \"WPOS\", \"WAst\", \"WStl\", \"WBlk\", \"WPF\"])\n",
    "Loss_F_pca = list([\"LFGP\",\"LFGP2\", \"LORP\", \"LDRP\", \"LPOS\", \"LAst\", \"LStl\", \"LBlk\", \"LPF\"])\n",
    "\n",
    "df_reg_detail_winners_pca = df_reg_detail.loc[:,Win_F_pca]\n",
    "df_reg_detail_losers_pca = df_reg_detail.loc[:,Loss_F_pca]"
   ]
  },
  {
   "cell_type": "code",
   "execution_count": 13,
   "metadata": {},
   "outputs": [
    {
     "name": "stderr",
     "output_type": "stream",
     "text": [
      "/Users/chenyingcharlene/anaconda3/lib/python3.6/site-packages/sklearn/utils/validation.py:475: DataConversionWarning: Data with input dtype int64 was converted to float64 by the scale function.\n",
      "  warnings.warn(msg, DataConversionWarning)\n"
     ]
    }
   ],
   "source": [
    "# Normalize data (got issue)\n",
    "from sklearn import preprocessing\n",
    "\n",
    "df_reg_detail_winners_pca_scaled = df_reg_detail_winners_pca\n",
    "df_reg_detail_losers_pca_scaled = df_reg_detail_losers_pca\n",
    "\n",
    "for i in Win_F_pca:\n",
    "    df_reg_detail_winners_pca_scaled[i] = preprocessing.scale(df_reg_detail_winners_pca[i])\n",
    "    \n",
    "for i in Loss_F_pca:\n",
    "    df_reg_detail_losers_pca_scaled[i] = preprocessing.scale(df_reg_detail_losers_pca[i])"
   ]
  },
  {
   "cell_type": "code",
   "execution_count": null,
   "metadata": {
    "collapsed": true
   },
   "outputs": [],
   "source": []
  },
  {
   "cell_type": "code",
   "execution_count": 14,
   "metadata": {},
   "outputs": [
    {
     "data": {
      "text/html": [
       "<div>\n",
       "<style>\n",
       "    .dataframe thead tr:only-child th {\n",
       "        text-align: right;\n",
       "    }\n",
       "\n",
       "    .dataframe thead th {\n",
       "        text-align: left;\n",
       "    }\n",
       "\n",
       "    .dataframe tbody tr th {\n",
       "        vertical-align: top;\n",
       "    }\n",
       "</style>\n",
       "<table border=\"1\" class=\"dataframe\">\n",
       "  <thead>\n",
       "    <tr style=\"text-align: right;\">\n",
       "      <th></th>\n",
       "      <th>WFGP</th>\n",
       "      <th>WFGP2</th>\n",
       "      <th>WORP</th>\n",
       "      <th>WDRP</th>\n",
       "      <th>WPOS</th>\n",
       "      <th>WAst</th>\n",
       "      <th>WStl</th>\n",
       "      <th>WBlk</th>\n",
       "      <th>WPF</th>\n",
       "    </tr>\n",
       "  </thead>\n",
       "  <tbody>\n",
       "    <tr>\n",
       "      <th>WFGP</th>\n",
       "      <td>1.000022</td>\n",
       "      <td>0.849768</td>\n",
       "      <td>-0.011322</td>\n",
       "      <td>0.006132</td>\n",
       "      <td>0.098517</td>\n",
       "      <td>0.521966</td>\n",
       "      <td>-0.022434</td>\n",
       "      <td>0.043749</td>\n",
       "      <td>0.006937</td>\n",
       "    </tr>\n",
       "    <tr>\n",
       "      <th>WFGP2</th>\n",
       "      <td>0.849768</td>\n",
       "      <td>1.000022</td>\n",
       "      <td>-0.004125</td>\n",
       "      <td>0.025409</td>\n",
       "      <td>0.094343</td>\n",
       "      <td>0.430799</td>\n",
       "      <td>0.007237</td>\n",
       "      <td>0.045506</td>\n",
       "      <td>-0.003548</td>\n",
       "    </tr>\n",
       "    <tr>\n",
       "      <th>WORP</th>\n",
       "      <td>-0.011322</td>\n",
       "      <td>-0.004125</td>\n",
       "      <td>1.000022</td>\n",
       "      <td>0.021841</td>\n",
       "      <td>-0.018816</td>\n",
       "      <td>0.115908</td>\n",
       "      <td>0.094954</td>\n",
       "      <td>0.061897</td>\n",
       "      <td>0.008535</td>\n",
       "    </tr>\n",
       "    <tr>\n",
       "      <th>WDRP</th>\n",
       "      <td>0.006132</td>\n",
       "      <td>0.025409</td>\n",
       "      <td>0.021841</td>\n",
       "      <td>1.000022</td>\n",
       "      <td>0.017365</td>\n",
       "      <td>0.065377</td>\n",
       "      <td>-0.143256</td>\n",
       "      <td>-0.114787</td>\n",
       "      <td>-0.127109</td>\n",
       "    </tr>\n",
       "    <tr>\n",
       "      <th>WPOS</th>\n",
       "      <td>0.098517</td>\n",
       "      <td>0.094343</td>\n",
       "      <td>-0.018816</td>\n",
       "      <td>0.017365</td>\n",
       "      <td>1.000022</td>\n",
       "      <td>0.258910</td>\n",
       "      <td>0.319103</td>\n",
       "      <td>0.116791</td>\n",
       "      <td>0.383136</td>\n",
       "    </tr>\n",
       "  </tbody>\n",
       "</table>\n",
       "</div>"
      ],
      "text/plain": [
       "           WFGP     WFGP2      WORP      WDRP      WPOS      WAst      WStl  \\\n",
       "WFGP   1.000022  0.849768 -0.011322  0.006132  0.098517  0.521966 -0.022434   \n",
       "WFGP2  0.849768  1.000022 -0.004125  0.025409  0.094343  0.430799  0.007237   \n",
       "WORP  -0.011322 -0.004125  1.000022  0.021841 -0.018816  0.115908  0.094954   \n",
       "WDRP   0.006132  0.025409  0.021841  1.000022  0.017365  0.065377 -0.143256   \n",
       "WPOS   0.098517  0.094343 -0.018816  0.017365  1.000022  0.258910  0.319103   \n",
       "\n",
       "           WBlk       WPF  \n",
       "WFGP   0.043749  0.006937  \n",
       "WFGP2  0.045506 -0.003548  \n",
       "WORP   0.061897  0.008535  \n",
       "WDRP  -0.114787 -0.127109  \n",
       "WPOS   0.116791  0.383136  "
      ]
     },
     "execution_count": 14,
     "metadata": {},
     "output_type": "execute_result"
    }
   ],
   "source": [
    "#get the cov matrix\n",
    "df_reg_w_covar = df_reg_detail_winners_pca_scaled.cov()\n",
    "df_reg_l_covar = df_reg_detail_losers_pca_scaled.cov()\n",
    "\n",
    "df_reg_w_covar.head()"
   ]
  },
  {
   "cell_type": "code",
   "execution_count": 15,
   "metadata": {},
   "outputs": [
    {
     "data": {
      "text/html": [
       "<div>\n",
       "<style>\n",
       "    .dataframe thead tr:only-child th {\n",
       "        text-align: right;\n",
       "    }\n",
       "\n",
       "    .dataframe thead th {\n",
       "        text-align: left;\n",
       "    }\n",
       "\n",
       "    .dataframe tbody tr th {\n",
       "        vertical-align: top;\n",
       "    }\n",
       "</style>\n",
       "<table border=\"1\" class=\"dataframe\">\n",
       "  <thead>\n",
       "    <tr style=\"text-align: right;\">\n",
       "      <th></th>\n",
       "      <th>LFGP</th>\n",
       "      <th>LFGP2</th>\n",
       "      <th>LORP</th>\n",
       "      <th>LDRP</th>\n",
       "      <th>LPOS</th>\n",
       "      <th>LAst</th>\n",
       "      <th>LStl</th>\n",
       "      <th>LBlk</th>\n",
       "      <th>LPF</th>\n",
       "    </tr>\n",
       "  </thead>\n",
       "  <tbody>\n",
       "    <tr>\n",
       "      <th>LFGP</th>\n",
       "      <td>1.000022</td>\n",
       "      <td>0.855000</td>\n",
       "      <td>-0.278475</td>\n",
       "      <td>0.278475</td>\n",
       "      <td>0.094962</td>\n",
       "      <td>0.511744</td>\n",
       "      <td>-0.077667</td>\n",
       "      <td>0.013345</td>\n",
       "      <td>0.094431</td>\n",
       "    </tr>\n",
       "    <tr>\n",
       "      <th>LFGP2</th>\n",
       "      <td>0.855000</td>\n",
       "      <td>1.000022</td>\n",
       "      <td>-0.237666</td>\n",
       "      <td>0.237666</td>\n",
       "      <td>0.087602</td>\n",
       "      <td>0.398804</td>\n",
       "      <td>-0.045545</td>\n",
       "      <td>0.014951</td>\n",
       "      <td>0.084290</td>\n",
       "    </tr>\n",
       "    <tr>\n",
       "      <th>LORP</th>\n",
       "      <td>-0.278475</td>\n",
       "      <td>-0.237666</td>\n",
       "      <td>1.000022</td>\n",
       "      <td>-1.000022</td>\n",
       "      <td>-0.016179</td>\n",
       "      <td>-0.037348</td>\n",
       "      <td>0.237145</td>\n",
       "      <td>-0.052354</td>\n",
       "      <td>0.056279</td>\n",
       "    </tr>\n",
       "    <tr>\n",
       "      <th>LDRP</th>\n",
       "      <td>0.278475</td>\n",
       "      <td>0.237666</td>\n",
       "      <td>-1.000022</td>\n",
       "      <td>1.000022</td>\n",
       "      <td>0.016179</td>\n",
       "      <td>0.037348</td>\n",
       "      <td>-0.237145</td>\n",
       "      <td>0.052354</td>\n",
       "      <td>-0.056279</td>\n",
       "    </tr>\n",
       "    <tr>\n",
       "      <th>LPOS</th>\n",
       "      <td>0.094962</td>\n",
       "      <td>0.087602</td>\n",
       "      <td>-0.016179</td>\n",
       "      <td>0.016179</td>\n",
       "      <td>1.000022</td>\n",
       "      <td>0.228979</td>\n",
       "      <td>0.312651</td>\n",
       "      <td>0.090793</td>\n",
       "      <td>0.396053</td>\n",
       "    </tr>\n",
       "  </tbody>\n",
       "</table>\n",
       "</div>"
      ],
      "text/plain": [
       "           LFGP     LFGP2      LORP      LDRP      LPOS      LAst      LStl  \\\n",
       "LFGP   1.000022  0.855000 -0.278475  0.278475  0.094962  0.511744 -0.077667   \n",
       "LFGP2  0.855000  1.000022 -0.237666  0.237666  0.087602  0.398804 -0.045545   \n",
       "LORP  -0.278475 -0.237666  1.000022 -1.000022 -0.016179 -0.037348  0.237145   \n",
       "LDRP   0.278475  0.237666 -1.000022  1.000022  0.016179  0.037348 -0.237145   \n",
       "LPOS   0.094962  0.087602 -0.016179  0.016179  1.000022  0.228979  0.312651   \n",
       "\n",
       "           LBlk       LPF  \n",
       "LFGP   0.013345  0.094431  \n",
       "LFGP2  0.014951  0.084290  \n",
       "LORP  -0.052354  0.056279  \n",
       "LDRP   0.052354 -0.056279  \n",
       "LPOS   0.090793  0.396053  "
      ]
     },
     "execution_count": 15,
     "metadata": {},
     "output_type": "execute_result"
    }
   ],
   "source": [
    "df_reg_l_covar.head()"
   ]
  },
  {
   "cell_type": "code",
   "execution_count": 16,
   "metadata": {},
   "outputs": [
    {
     "name": "stdout",
     "output_type": "stream",
     "text": [
      "9.00019894339 9.00019894339\n"
     ]
    }
   ],
   "source": [
    "#total variance\n",
    "print(np.trace(df_reg_w_covar),np.trace(df_reg_l_covar))"
   ]
  },
  {
   "cell_type": "code",
   "execution_count": 17,
   "metadata": {
    "collapsed": true
   },
   "outputs": [],
   "source": [
    "#fit pca\n",
    "from sklearn.decomposition import PCA\n",
    "\n",
    "pca = PCA()\n",
    "df_reg_detail_winners_pca_scaled_tran = pca.fit_transform(df_reg_detail_winners_pca_scaled)\n",
    "\n",
    "pca_l = PCA()\n",
    "df_reg_detail_losers_pca_scaled_tran = pca_l.fit_transform(df_reg_detail_losers_pca_scaled)"
   ]
  },
  {
   "cell_type": "code",
   "execution_count": 18,
   "metadata": {},
   "outputs": [
    {
     "data": {
      "text/html": [
       "<div>\n",
       "<style>\n",
       "    .dataframe thead tr:only-child th {\n",
       "        text-align: right;\n",
       "    }\n",
       "\n",
       "    .dataframe thead th {\n",
       "        text-align: left;\n",
       "    }\n",
       "\n",
       "    .dataframe tbody tr th {\n",
       "        vertical-align: top;\n",
       "    }\n",
       "</style>\n",
       "<table border=\"1\" class=\"dataframe\">\n",
       "  <thead>\n",
       "    <tr style=\"text-align: right;\">\n",
       "      <th></th>\n",
       "      <th>0</th>\n",
       "      <th>1</th>\n",
       "      <th>2</th>\n",
       "      <th>3</th>\n",
       "      <th>4</th>\n",
       "      <th>5</th>\n",
       "      <th>6</th>\n",
       "      <th>7</th>\n",
       "      <th>8</th>\n",
       "    </tr>\n",
       "  </thead>\n",
       "  <tbody>\n",
       "    <tr>\n",
       "      <th>0</th>\n",
       "      <td>2.30266</td>\n",
       "      <td>0.000000</td>\n",
       "      <td>-0.000000</td>\n",
       "      <td>-0.000000</td>\n",
       "      <td>-0.000000</td>\n",
       "      <td>0.0</td>\n",
       "      <td>0.0</td>\n",
       "      <td>-0.0</td>\n",
       "      <td>0.0</td>\n",
       "    </tr>\n",
       "    <tr>\n",
       "      <th>1</th>\n",
       "      <td>0.00000</td>\n",
       "      <td>1.561199</td>\n",
       "      <td>-0.000000</td>\n",
       "      <td>0.000000</td>\n",
       "      <td>-0.000000</td>\n",
       "      <td>0.0</td>\n",
       "      <td>0.0</td>\n",
       "      <td>0.0</td>\n",
       "      <td>-0.0</td>\n",
       "    </tr>\n",
       "    <tr>\n",
       "      <th>2</th>\n",
       "      <td>-0.00000</td>\n",
       "      <td>-0.000000</td>\n",
       "      <td>1.109856</td>\n",
       "      <td>0.000000</td>\n",
       "      <td>-0.000000</td>\n",
       "      <td>0.0</td>\n",
       "      <td>-0.0</td>\n",
       "      <td>-0.0</td>\n",
       "      <td>0.0</td>\n",
       "    </tr>\n",
       "    <tr>\n",
       "      <th>3</th>\n",
       "      <td>-0.00000</td>\n",
       "      <td>0.000000</td>\n",
       "      <td>0.000000</td>\n",
       "      <td>1.062532</td>\n",
       "      <td>0.000000</td>\n",
       "      <td>-0.0</td>\n",
       "      <td>0.0</td>\n",
       "      <td>0.0</td>\n",
       "      <td>-0.0</td>\n",
       "    </tr>\n",
       "    <tr>\n",
       "      <th>4</th>\n",
       "      <td>-0.00000</td>\n",
       "      <td>-0.000000</td>\n",
       "      <td>-0.000000</td>\n",
       "      <td>0.000000</td>\n",
       "      <td>0.935624</td>\n",
       "      <td>-0.0</td>\n",
       "      <td>0.0</td>\n",
       "      <td>-0.0</td>\n",
       "      <td>-0.0</td>\n",
       "    </tr>\n",
       "  </tbody>\n",
       "</table>\n",
       "</div>"
      ],
      "text/plain": [
       "         0         1         2         3         4    5    6    7    8\n",
       "0  2.30266  0.000000 -0.000000 -0.000000 -0.000000  0.0  0.0 -0.0  0.0\n",
       "1  0.00000  1.561199 -0.000000  0.000000 -0.000000  0.0  0.0  0.0 -0.0\n",
       "2 -0.00000 -0.000000  1.109856  0.000000 -0.000000  0.0 -0.0 -0.0  0.0\n",
       "3 -0.00000  0.000000  0.000000  1.062532  0.000000 -0.0  0.0  0.0 -0.0\n",
       "4 -0.00000 -0.000000 -0.000000  0.000000  0.935624 -0.0  0.0 -0.0 -0.0"
      ]
     },
     "execution_count": 18,
     "metadata": {},
     "output_type": "execute_result"
    }
   ],
   "source": [
    "#new cov\n",
    "new_df_reg_w_covar = np.round(pd.DataFrame(df_reg_detail_winners_pca_scaled_tran).cov(), 10)\n",
    "new_df_reg_l_covar = np.round(pd.DataFrame(df_reg_detail_losers_pca_scaled_tran).cov(), 10)\n",
    "\n",
    "new_df_reg_w_covar.head()"
   ]
  },
  {
   "cell_type": "code",
   "execution_count": 19,
   "metadata": {},
   "outputs": [
    {
     "data": {
      "text/html": [
       "<div>\n",
       "<style>\n",
       "    .dataframe thead tr:only-child th {\n",
       "        text-align: right;\n",
       "    }\n",
       "\n",
       "    .dataframe thead th {\n",
       "        text-align: left;\n",
       "    }\n",
       "\n",
       "    .dataframe tbody tr th {\n",
       "        vertical-align: top;\n",
       "    }\n",
       "</style>\n",
       "<table border=\"1\" class=\"dataframe\">\n",
       "  <thead>\n",
       "    <tr style=\"text-align: right;\">\n",
       "      <th></th>\n",
       "      <th>0</th>\n",
       "      <th>1</th>\n",
       "      <th>2</th>\n",
       "      <th>3</th>\n",
       "      <th>4</th>\n",
       "      <th>5</th>\n",
       "      <th>6</th>\n",
       "      <th>7</th>\n",
       "      <th>8</th>\n",
       "    </tr>\n",
       "  </thead>\n",
       "  <tbody>\n",
       "    <tr>\n",
       "      <th>0</th>\n",
       "      <td>2.662143</td>\n",
       "      <td>-0.000000</td>\n",
       "      <td>0.000000</td>\n",
       "      <td>-0.000000</td>\n",
       "      <td>0.000000</td>\n",
       "      <td>0.0</td>\n",
       "      <td>-0.0</td>\n",
       "      <td>0.0</td>\n",
       "      <td>0.0</td>\n",
       "    </tr>\n",
       "    <tr>\n",
       "      <th>1</th>\n",
       "      <td>-0.000000</td>\n",
       "      <td>1.896138</td>\n",
       "      <td>0.000000</td>\n",
       "      <td>-0.000000</td>\n",
       "      <td>-0.000000</td>\n",
       "      <td>-0.0</td>\n",
       "      <td>0.0</td>\n",
       "      <td>-0.0</td>\n",
       "      <td>-0.0</td>\n",
       "    </tr>\n",
       "    <tr>\n",
       "      <th>2</th>\n",
       "      <td>0.000000</td>\n",
       "      <td>0.000000</td>\n",
       "      <td>1.333709</td>\n",
       "      <td>-0.000000</td>\n",
       "      <td>-0.000000</td>\n",
       "      <td>0.0</td>\n",
       "      <td>0.0</td>\n",
       "      <td>0.0</td>\n",
       "      <td>0.0</td>\n",
       "    </tr>\n",
       "    <tr>\n",
       "      <th>3</th>\n",
       "      <td>-0.000000</td>\n",
       "      <td>-0.000000</td>\n",
       "      <td>-0.000000</td>\n",
       "      <td>0.985907</td>\n",
       "      <td>0.000000</td>\n",
       "      <td>-0.0</td>\n",
       "      <td>0.0</td>\n",
       "      <td>0.0</td>\n",
       "      <td>-0.0</td>\n",
       "    </tr>\n",
       "    <tr>\n",
       "      <th>4</th>\n",
       "      <td>0.000000</td>\n",
       "      <td>-0.000000</td>\n",
       "      <td>-0.000000</td>\n",
       "      <td>0.000000</td>\n",
       "      <td>0.862137</td>\n",
       "      <td>0.0</td>\n",
       "      <td>0.0</td>\n",
       "      <td>0.0</td>\n",
       "      <td>0.0</td>\n",
       "    </tr>\n",
       "  </tbody>\n",
       "</table>\n",
       "</div>"
      ],
      "text/plain": [
       "          0         1         2         3         4    5    6    7    8\n",
       "0  2.662143 -0.000000  0.000000 -0.000000  0.000000  0.0 -0.0  0.0  0.0\n",
       "1 -0.000000  1.896138  0.000000 -0.000000 -0.000000 -0.0  0.0 -0.0 -0.0\n",
       "2  0.000000  0.000000  1.333709 -0.000000 -0.000000  0.0  0.0  0.0  0.0\n",
       "3 -0.000000 -0.000000 -0.000000  0.985907  0.000000 -0.0  0.0  0.0 -0.0\n",
       "4  0.000000 -0.000000 -0.000000  0.000000  0.862137  0.0  0.0  0.0  0.0"
      ]
     },
     "execution_count": 19,
     "metadata": {},
     "output_type": "execute_result"
    }
   ],
   "source": [
    "new_df_reg_l_covar.head()"
   ]
  },
  {
   "cell_type": "code",
   "execution_count": 20,
   "metadata": {},
   "outputs": [
    {
     "name": "stdout",
     "output_type": "stream",
     "text": [
      "9.0001989433 9.0001989433\n"
     ]
    }
   ],
   "source": [
    "#total new variance\n",
    "print (np.trace(new_df_reg_w_covar),np.trace(new_df_reg_w_covar))"
   ]
  },
  {
   "cell_type": "code",
   "execution_count": 21,
   "metadata": {},
   "outputs": [
    {
     "data": {
      "text/plain": [
       "array([ 2.30265958,  1.56119856,  1.10985637,  1.06253166,  0.93562435,\n",
       "        0.89190305,  0.57297708,  0.42324871,  0.14019958])"
      ]
     },
     "execution_count": 21,
     "metadata": {},
     "output_type": "execute_result"
    }
   ],
   "source": [
    "pca.explained_variance_"
   ]
  },
  {
   "cell_type": "code",
   "execution_count": 22,
   "metadata": {},
   "outputs": [
    {
     "data": {
      "text/plain": [
       "array([  2.66214259e+00,   1.89613808e+00,   1.33370900e+00,\n",
       "         9.85906699e-01,   8.62136685e-01,   6.70973524e-01,\n",
       "         4.57514300e-01,   1.31678076e-01,   1.74623875e-31])"
      ]
     },
     "execution_count": 22,
     "metadata": {},
     "output_type": "execute_result"
    }
   ],
   "source": [
    "pca_l.explained_variance_"
   ]
  },
  {
   "cell_type": "code",
   "execution_count": 23,
   "metadata": {},
   "outputs": [
    {
     "data": {
      "text/plain": [
       "[<matplotlib.lines.Line2D at 0x1a1fd4c518>]"
      ]
     },
     "execution_count": 23,
     "metadata": {},
     "output_type": "execute_result"
    },
    {
     "data": {
      "image/png": "[encoded data removed]",
      "text/plain": [
       "<matplotlib.figure.Figure at 0x1a1fc02160>"
      ]
     },
     "metadata": {},
     "output_type": "display_data"
    }
   ],
   "source": [
    "#plot winer features\n",
    "\n",
    "import matplotlib.pyplot as plt\n",
    "\n",
    "plt.plot(np.cumsum(pca.explained_variance_ratio_))"
   ]
  },
  {
   "cell_type": "code",
   "execution_count": 24,
   "metadata": {},
   "outputs": [
    {
     "data": {
      "text/plain": [
       "[<matplotlib.lines.Line2D at 0x1a1fd215f8>]"
      ]
     },
     "execution_count": 24,
     "metadata": {},
     "output_type": "execute_result"
    },
    {
     "data": {
      "image/png": "[encoded data removed]",
      "text/plain": [
       "<matplotlib.figure.Figure at 0x1a1fd6d710>"
      ]
     },
     "metadata": {},
     "output_type": "display_data"
    }
   ],
   "source": [
    "#plot loser features\n",
    "\n",
    "plt.plot(np.cumsum(pca_l.explained_variance_ratio_))"
   ]
  },
  {
   "cell_type": "code",
   "execution_count": 25,
   "metadata": {},
   "outputs": [
    {
     "name": "stdout",
     "output_type": "stream",
     "text": [
      "6 and 5 out of  9\n"
     ]
    }
   ],
   "source": [
    "num_comp = np.sum(np.cumsum(pca.explained_variance_ratio_) < .9)\n",
    "num_comp_l = np.sum(np.cumsum(pca_l.explained_variance_ratio_) < .9)\n",
    "\n",
    "print(num_comp, \"and\", num_comp_l,\"out of \", len(Win_F_pca))\n",
    "#not a good case to do the PCA"
   ]
  },
  {
   "cell_type": "code",
   "execution_count": null,
   "metadata": {
    "collapsed": true
   },
   "outputs": [],
   "source": []
  },
  {
   "cell_type": "code",
   "execution_count": null,
   "metadata": {
    "collapsed": true
   },
   "outputs": [],
   "source": []
  },
  {
   "cell_type": "code",
   "execution_count": null,
   "metadata": {
    "collapsed": true
   },
   "outputs": [],
   "source": []
  },
  {
   "cell_type": "code",
   "execution_count": null,
   "metadata": {
    "collapsed": true
   },
   "outputs": [],
   "source": []
  }
 ],
 "metadata": {
  "kernelspec": {
   "display_name": "Python 3",
   "language": "python",
   "name": "python3"
  },
  "language_info": {
   "codemirror_mode": {
    "name": "ipython",
    "version": 3
   },
   "file_extension": ".py",
   "mimetype": "text/x-python",
   "name": "python",
   "nbconvert_exporter": "python",
   "pygments_lexer": "ipython3",
   "version": "3.6.3"
  }
 },
 "nbformat": 4,
 "nbformat_minor": 2
}
