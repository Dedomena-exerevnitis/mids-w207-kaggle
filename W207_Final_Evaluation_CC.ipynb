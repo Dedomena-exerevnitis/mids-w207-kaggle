{
 "cells": [
  {
   "cell_type": "markdown",
   "metadata": {},
   "source": [
    "# NCAA ML Competition - Women's 2018"
   ]
  },
  {
   "cell_type": "markdown",
   "metadata": {},
   "source": [
    "## Notes\n",
    "\n",
    "Notes about what's in the data files: https://www.kaggle.com/c/womens-machine-learning-competition-2018/data\n",
    "\n",
    "Starter Kernel might help: https://www.kaggle.com/juliaelliott/basic-starter-kernel-ncaa-women-s-dataset"
   ]
  },
  {
   "cell_type": "code",
   "execution_count": 143,
   "metadata": {},
   "outputs": [],
   "source": [
    "# This tells matplotlib not to try opening a new window for each plot.\n",
    "%matplotlib inline\n",
    "\n",
    "# General libraries.\n",
    "import numpy as np\n",
    "import pandas as pd\n",
    "import matplotlib.pyplot as plt\n",
    "import itertools as it\n",
    "\n",
    "# SK-learn libraries for learning.\n",
    "from sklearn.pipeline import Pipeline\n",
    "from sklearn.neighbors import KNeighborsClassifier\n",
    "from sklearn.linear_model import LogisticRegression\n",
    "from sklearn.naive_bayes import BernoulliNB\n",
    "from sklearn.naive_bayes import MultinomialNB\n",
    "from sklearn.naive_bayes import GaussianNB\n",
    "from sklearn.grid_search import GridSearchCV\n",
    "from sklearn.model_selection import train_test_split\n",
    "from sklearn import tree \n",
    "\n",
    "# SK-learn libraries for evaluation.\n",
    "from sklearn.metrics import confusion_matrix\n",
    "from sklearn import metrics\n",
    "from sklearn.metrics import classification_report\n"
   ]
  },
  {
   "cell_type": "markdown",
   "metadata": {},
   "source": [
    "## Load Data"
   ]
  },
  {
   "cell_type": "code",
   "execution_count": 144,
   "metadata": {
    "collapsed": true
   },
   "outputs": [],
   "source": [
    "# Load the data\n",
    "data_dir = './WStage2DataFiles/'\n",
    "df_seeds = pd.read_csv(data_dir + 'WNCAATourneySeeds.csv')\n",
    "df_tour_compact = pd.read_csv(data_dir + 'WNCAATourneyCompactResults.csv')\n",
    "df_tour_detail = pd.read_csv(data_dir + 'WNCAATourneyDetailedResults.csv')\n",
    "df_reg_compact = pd.read_csv(data_dir + 'WRegularSeasonCompactResults.csv')\n",
    "df_reg_detail = pd.read_csv(data_dir + 'WRegularSeasonDetailedResults.csv')\n",
    "df_teams = pd.read_csv(data_dir + 'WTeams.csv')\n",
    "df_teams_leagues = pd.merge(left=df_teams, right=pd.read_csv(data_dir + 'WLeagues.csv'), how='left', on=['TeamName'])\n"
   ]
  },
  {
   "cell_type": "markdown",
   "metadata": {},
   "source": [
    "### Get Matchups of interest for Training & Test Data"
   ]
  },
  {
   "cell_type": "code",
   "execution_count": 145,
   "metadata": {
    "collapsed": true
   },
   "outputs": [],
   "source": [
    "## Get 2018 data - update for Charlene's fine\n",
    "\n",
    "# sorting ensures that we work through smallest to largest \n",
    "# no repeats, smallest always first in pair\n",
    "current_year = df_seeds[df_seeds['Season'] == 2018].sort_values(by=['TeamID'])\n",
    "current_year_pairs = list(it.combinations(current_year['TeamID'],2))\n",
    "\n",
    "team1, team2 = map(list, zip(*current_year_pairs))\n",
    "\n",
    "df_test_pairs = pd.DataFrame({\n",
    "    'Season' : [2018] * len(team1),\n",
    "    'Team1' : team1,\n",
    "    'Team2' : team2\n",
    "})"
   ]
  },
  {
   "cell_type": "code",
   "execution_count": 146,
   "metadata": {},
   "outputs": [
    {
     "data": {
      "text/html": [
       "<div>\n",
       "<style>\n",
       "    .dataframe thead tr:only-child th {\n",
       "        text-align: right;\n",
       "    }\n",
       "\n",
       "    .dataframe thead th {\n",
       "        text-align: left;\n",
       "    }\n",
       "\n",
       "    .dataframe tbody tr th {\n",
       "        vertical-align: top;\n",
       "    }\n",
       "</style>\n",
       "<table border=\"1\" class=\"dataframe\">\n",
       "  <thead>\n",
       "    <tr style=\"text-align: right;\">\n",
       "      <th></th>\n",
       "      <th>Season</th>\n",
       "      <th>Team1</th>\n",
       "      <th>Team2</th>\n",
       "    </tr>\n",
       "  </thead>\n",
       "  <tbody>\n",
       "    <tr>\n",
       "      <th>0</th>\n",
       "      <td>2018</td>\n",
       "      <td>3110</td>\n",
       "      <td>3113</td>\n",
       "    </tr>\n",
       "    <tr>\n",
       "      <th>1</th>\n",
       "      <td>2018</td>\n",
       "      <td>3110</td>\n",
       "      <td>3114</td>\n",
       "    </tr>\n",
       "    <tr>\n",
       "      <th>2</th>\n",
       "      <td>2018</td>\n",
       "      <td>3110</td>\n",
       "      <td>3124</td>\n",
       "    </tr>\n",
       "    <tr>\n",
       "      <th>3</th>\n",
       "      <td>2018</td>\n",
       "      <td>3110</td>\n",
       "      <td>3125</td>\n",
       "    </tr>\n",
       "    <tr>\n",
       "      <th>4</th>\n",
       "      <td>2018</td>\n",
       "      <td>3110</td>\n",
       "      <td>3129</td>\n",
       "    </tr>\n",
       "  </tbody>\n",
       "</table>\n",
       "</div>"
      ],
      "text/plain": [
       "   Season  Team1  Team2\n",
       "0    2018   3110   3113\n",
       "1    2018   3110   3114\n",
       "2    2018   3110   3124\n",
       "3    2018   3110   3125\n",
       "4    2018   3110   3129"
      ]
     },
     "execution_count": 146,
     "metadata": {},
     "output_type": "execute_result"
    }
   ],
   "source": [
    "# this gives us test pairings! Season, Team1, Team2\n",
    "df_test_pairs.head()"
   ]
  },
  {
   "cell_type": "code",
   "execution_count": 147,
   "metadata": {
    "scrolled": true
   },
   "outputs": [
    {
     "data": {
      "text/html": [
       "<div>\n",
       "<style>\n",
       "    .dataframe thead tr:only-child th {\n",
       "        text-align: right;\n",
       "    }\n",
       "\n",
       "    .dataframe thead th {\n",
       "        text-align: left;\n",
       "    }\n",
       "\n",
       "    .dataframe tbody tr th {\n",
       "        vertical-align: top;\n",
       "    }\n",
       "</style>\n",
       "<table border=\"1\" class=\"dataframe\">\n",
       "  <thead>\n",
       "    <tr style=\"text-align: right;\">\n",
       "      <th></th>\n",
       "      <th>Season</th>\n",
       "      <th>Team1</th>\n",
       "      <th>Team2</th>\n",
       "    </tr>\n",
       "  </thead>\n",
       "  <tbody>\n",
       "    <tr>\n",
       "      <th>1255</th>\n",
       "      <td>2017</td>\n",
       "      <td>3163</td>\n",
       "      <td>3332</td>\n",
       "    </tr>\n",
       "    <tr>\n",
       "      <th>1256</th>\n",
       "      <td>2017</td>\n",
       "      <td>3376</td>\n",
       "      <td>3199</td>\n",
       "    </tr>\n",
       "    <tr>\n",
       "      <th>1257</th>\n",
       "      <td>2017</td>\n",
       "      <td>3280</td>\n",
       "      <td>3163</td>\n",
       "    </tr>\n",
       "    <tr>\n",
       "      <th>1258</th>\n",
       "      <td>2017</td>\n",
       "      <td>3376</td>\n",
       "      <td>3390</td>\n",
       "    </tr>\n",
       "    <tr>\n",
       "      <th>1259</th>\n",
       "      <td>2017</td>\n",
       "      <td>3376</td>\n",
       "      <td>3280</td>\n",
       "    </tr>\n",
       "  </tbody>\n",
       "</table>\n",
       "</div>"
      ],
      "text/plain": [
       "      Season  Team1  Team2\n",
       "1255    2017   3163   3332\n",
       "1256    2017   3376   3199\n",
       "1257    2017   3280   3163\n",
       "1258    2017   3376   3390\n",
       "1259    2017   3376   3280"
      ]
     },
     "execution_count": 147,
     "metadata": {},
     "output_type": "execute_result"
    }
   ],
   "source": [
    "# also need previous matchups (1998 - 2017)\n",
    "df_train_pairs = pd.DataFrame(\n",
    "    { 'Team1' : df_tour_compact['WTeamID'],\n",
    "     'Team2' : df_tour_compact['LTeamID'],\n",
    "     'Season' : df_tour_compact['Season']\n",
    "    })\n",
    "\n",
    "df_train_pairs.tail()"
   ]
  },
  {
   "cell_type": "code",
   "execution_count": 148,
   "metadata": {
    "collapsed": true
   },
   "outputs": [],
   "source": [
    "# this is what we will use as a base to build our dataset\n",
    "df_train_test_matchups = df_train_pairs.append(df_test_pairs)"
   ]
  },
  {
   "cell_type": "markdown",
   "metadata": {},
   "source": [
    "## Feature Engineering for Training & Test Data"
   ]
  },
  {
   "cell_type": "markdown",
   "metadata": {},
   "source": [
    "### Current Year Seeds"
   ]
  },
  {
   "cell_type": "code",
   "execution_count": 149,
   "metadata": {
    "collapsed": true
   },
   "outputs": [],
   "source": [
    "# get just integer value of seed (exclude region information)\n",
    "def seed_to_int(seed):\n",
    "    #Get just the digits from the seeding. Return as int\n",
    "    s_int = int(seed[1:3])\n",
    "    return s_int\n",
    "df_seeds['SeedInt'] = df_seeds.Seed.apply(seed_to_int)\n",
    "df_seeds.drop(labels=['Seed'], inplace=True, axis=1) # This is the string label"
   ]
  },
  {
   "cell_type": "code",
   "execution_count": 150,
   "metadata": {},
   "outputs": [
    {
     "data": {
      "text/html": [
       "<div>\n",
       "<style>\n",
       "    .dataframe thead tr:only-child th {\n",
       "        text-align: right;\n",
       "    }\n",
       "\n",
       "    .dataframe thead th {\n",
       "        text-align: left;\n",
       "    }\n",
       "\n",
       "    .dataframe tbody tr th {\n",
       "        vertical-align: top;\n",
       "    }\n",
       "</style>\n",
       "<table border=\"1\" class=\"dataframe\">\n",
       "  <thead>\n",
       "    <tr style=\"text-align: right;\">\n",
       "      <th></th>\n",
       "      <th>Season</th>\n",
       "      <th>Team1</th>\n",
       "      <th>Team2</th>\n",
       "      <th>Team1Seed</th>\n",
       "      <th>Team2Seed</th>\n",
       "    </tr>\n",
       "  </thead>\n",
       "  <tbody>\n",
       "    <tr>\n",
       "      <th>3271</th>\n",
       "      <td>2018</td>\n",
       "      <td>3437</td>\n",
       "      <td>3443</td>\n",
       "      <td>9</td>\n",
       "      <td>11</td>\n",
       "    </tr>\n",
       "    <tr>\n",
       "      <th>3272</th>\n",
       "      <td>2018</td>\n",
       "      <td>3437</td>\n",
       "      <td>3453</td>\n",
       "      <td>9</td>\n",
       "      <td>7</td>\n",
       "    </tr>\n",
       "    <tr>\n",
       "      <th>3273</th>\n",
       "      <td>2018</td>\n",
       "      <td>3438</td>\n",
       "      <td>3443</td>\n",
       "      <td>10</td>\n",
       "      <td>11</td>\n",
       "    </tr>\n",
       "    <tr>\n",
       "      <th>3274</th>\n",
       "      <td>2018</td>\n",
       "      <td>3438</td>\n",
       "      <td>3453</td>\n",
       "      <td>10</td>\n",
       "      <td>7</td>\n",
       "    </tr>\n",
       "    <tr>\n",
       "      <th>3275</th>\n",
       "      <td>2018</td>\n",
       "      <td>3443</td>\n",
       "      <td>3453</td>\n",
       "      <td>11</td>\n",
       "      <td>7</td>\n",
       "    </tr>\n",
       "  </tbody>\n",
       "</table>\n",
       "</div>"
      ],
      "text/plain": [
       "      Season  Team1  Team2  Team1Seed  Team2Seed\n",
       "3271    2018   3437   3443          9         11\n",
       "3272    2018   3437   3453          9          7\n",
       "3273    2018   3438   3443         10         11\n",
       "3274    2018   3438   3453         10          7\n",
       "3275    2018   3443   3453         11          7"
      ]
     },
     "execution_count": 150,
     "metadata": {},
     "output_type": "execute_result"
    }
   ],
   "source": [
    "# merge seeds with team IDs for tourney performance\n",
    "df_W = df_seeds.rename(columns={'TeamID':'Team1', 'SeedInt':'Team1Seed'})\n",
    "df_L = df_seeds.rename(columns={'TeamID':'Team2', 'SeedInt':'Team2Seed'})\n",
    "df_dummy = pd.merge(left=df_train_test_matchups, right=df_W, how='left', on=['Season', 'Team1'])\n",
    "df_matchups = pd.merge(left=df_dummy, right=df_L, how='left', on=['Season', 'Team2'])\n",
    "\n",
    "df_matchups.tail()"
   ]
  },
  {
   "cell_type": "markdown",
   "metadata": {},
   "source": [
    "### Current Year Seed Difference"
   ]
  },
  {
   "cell_type": "code",
   "execution_count": 151,
   "metadata": {
    "scrolled": true
   },
   "outputs": [
    {
     "data": {
      "text/html": [
       "<div>\n",
       "<style>\n",
       "    .dataframe thead tr:only-child th {\n",
       "        text-align: right;\n",
       "    }\n",
       "\n",
       "    .dataframe thead th {\n",
       "        text-align: left;\n",
       "    }\n",
       "\n",
       "    .dataframe tbody tr th {\n",
       "        vertical-align: top;\n",
       "    }\n",
       "</style>\n",
       "<table border=\"1\" class=\"dataframe\">\n",
       "  <thead>\n",
       "    <tr style=\"text-align: right;\">\n",
       "      <th></th>\n",
       "      <th>Season</th>\n",
       "      <th>Team1</th>\n",
       "      <th>Team2</th>\n",
       "      <th>Team1Seed</th>\n",
       "      <th>Team2Seed</th>\n",
       "      <th>SeedDiff</th>\n",
       "    </tr>\n",
       "  </thead>\n",
       "  <tbody>\n",
       "    <tr>\n",
       "      <th>3271</th>\n",
       "      <td>2018</td>\n",
       "      <td>3437</td>\n",
       "      <td>3443</td>\n",
       "      <td>9</td>\n",
       "      <td>11</td>\n",
       "      <td>2</td>\n",
       "    </tr>\n",
       "    <tr>\n",
       "      <th>3272</th>\n",
       "      <td>2018</td>\n",
       "      <td>3437</td>\n",
       "      <td>3453</td>\n",
       "      <td>9</td>\n",
       "      <td>7</td>\n",
       "      <td>-2</td>\n",
       "    </tr>\n",
       "    <tr>\n",
       "      <th>3273</th>\n",
       "      <td>2018</td>\n",
       "      <td>3438</td>\n",
       "      <td>3443</td>\n",
       "      <td>10</td>\n",
       "      <td>11</td>\n",
       "      <td>1</td>\n",
       "    </tr>\n",
       "    <tr>\n",
       "      <th>3274</th>\n",
       "      <td>2018</td>\n",
       "      <td>3438</td>\n",
       "      <td>3453</td>\n",
       "      <td>10</td>\n",
       "      <td>7</td>\n",
       "      <td>-3</td>\n",
       "    </tr>\n",
       "    <tr>\n",
       "      <th>3275</th>\n",
       "      <td>2018</td>\n",
       "      <td>3443</td>\n",
       "      <td>3453</td>\n",
       "      <td>11</td>\n",
       "      <td>7</td>\n",
       "      <td>-4</td>\n",
       "    </tr>\n",
       "  </tbody>\n",
       "</table>\n",
       "</div>"
      ],
      "text/plain": [
       "      Season  Team1  Team2  Team1Seed  Team2Seed  SeedDiff\n",
       "3271    2018   3437   3443          9         11         2\n",
       "3272    2018   3437   3453          9          7        -2\n",
       "3273    2018   3438   3443         10         11         1\n",
       "3274    2018   3438   3453         10          7        -3\n",
       "3275    2018   3443   3453         11          7        -4"
      ]
     },
     "execution_count": 151,
     "metadata": {},
     "output_type": "execute_result"
    }
   ],
   "source": [
    "# negative number indicates that team 2 (loser, in this case) has higher seed\n",
    "df_matchups['SeedDiff'] = df_matchups['Team2Seed'].sub(df_matchups['Team1Seed'], axis=0)\n",
    "\n",
    "df_matchups.tail()"
   ]
  },
  {
   "cell_type": "markdown",
   "metadata": {},
   "source": [
    "### Last Year's Tournament Seed "
   ]
  },
  {
   "cell_type": "code",
   "execution_count": 152,
   "metadata": {},
   "outputs": [],
   "source": [
    "# what to do for games where we had no previous year (1998)?\n",
    "\n",
    "# add 1 so easily referenced\n",
    "df_prev_seeds = pd.DataFrame({\n",
    "    'TeamID' : df_seeds['TeamID'],\n",
    "    'SeedInt' : df_seeds['SeedInt'],\n",
    "    'Season' : df_seeds['Season'].apply(lambda x: x + 1)\n",
    "})"
   ]
  },
  {
   "cell_type": "code",
   "execution_count": 153,
   "metadata": {},
   "outputs": [
    {
     "data": {
      "text/html": [
       "<div>\n",
       "<style>\n",
       "    .dataframe thead tr:only-child th {\n",
       "        text-align: right;\n",
       "    }\n",
       "\n",
       "    .dataframe thead th {\n",
       "        text-align: left;\n",
       "    }\n",
       "\n",
       "    .dataframe tbody tr th {\n",
       "        vertical-align: top;\n",
       "    }\n",
       "</style>\n",
       "<table border=\"1\" class=\"dataframe\">\n",
       "  <thead>\n",
       "    <tr style=\"text-align: right;\">\n",
       "      <th></th>\n",
       "      <th>Season</th>\n",
       "      <th>Team1</th>\n",
       "      <th>Team2</th>\n",
       "      <th>Team1Seed</th>\n",
       "      <th>Team2Seed</th>\n",
       "      <th>SeedDiff</th>\n",
       "      <th>Team1PrevSeed</th>\n",
       "      <th>Team2PrevSeed</th>\n",
       "    </tr>\n",
       "  </thead>\n",
       "  <tbody>\n",
       "    <tr>\n",
       "      <th>0</th>\n",
       "      <td>1998</td>\n",
       "      <td>3104</td>\n",
       "      <td>3422</td>\n",
       "      <td>2</td>\n",
       "      <td>15</td>\n",
       "      <td>13</td>\n",
       "      <td>17.0</td>\n",
       "      <td>17.0</td>\n",
       "    </tr>\n",
       "    <tr>\n",
       "      <th>1</th>\n",
       "      <td>1998</td>\n",
       "      <td>3112</td>\n",
       "      <td>3365</td>\n",
       "      <td>3</td>\n",
       "      <td>14</td>\n",
       "      <td>11</td>\n",
       "      <td>17.0</td>\n",
       "      <td>17.0</td>\n",
       "    </tr>\n",
       "    <tr>\n",
       "      <th>2</th>\n",
       "      <td>1998</td>\n",
       "      <td>3163</td>\n",
       "      <td>3193</td>\n",
       "      <td>2</td>\n",
       "      <td>15</td>\n",
       "      <td>13</td>\n",
       "      <td>17.0</td>\n",
       "      <td>17.0</td>\n",
       "    </tr>\n",
       "    <tr>\n",
       "      <th>3</th>\n",
       "      <td>1998</td>\n",
       "      <td>3198</td>\n",
       "      <td>3266</td>\n",
       "      <td>7</td>\n",
       "      <td>10</td>\n",
       "      <td>3</td>\n",
       "      <td>17.0</td>\n",
       "      <td>17.0</td>\n",
       "    </tr>\n",
       "    <tr>\n",
       "      <th>4</th>\n",
       "      <td>1998</td>\n",
       "      <td>3203</td>\n",
       "      <td>3208</td>\n",
       "      <td>10</td>\n",
       "      <td>7</td>\n",
       "      <td>-3</td>\n",
       "      <td>17.0</td>\n",
       "      <td>17.0</td>\n",
       "    </tr>\n",
       "  </tbody>\n",
       "</table>\n",
       "</div>"
      ],
      "text/plain": [
       "   Season  Team1  Team2  Team1Seed  Team2Seed  SeedDiff  Team1PrevSeed  \\\n",
       "0    1998   3104   3422          2         15        13           17.0   \n",
       "1    1998   3112   3365          3         14        11           17.0   \n",
       "2    1998   3163   3193          2         15        13           17.0   \n",
       "3    1998   3198   3266          7         10         3           17.0   \n",
       "4    1998   3203   3208         10          7        -3           17.0   \n",
       "\n",
       "   Team2PrevSeed  \n",
       "0           17.0  \n",
       "1           17.0  \n",
       "2           17.0  \n",
       "3           17.0  \n",
       "4           17.0  "
      ]
     },
     "execution_count": 153,
     "metadata": {},
     "output_type": "execute_result"
    }
   ],
   "source": [
    "df_W = df_prev_seeds.rename(columns={'TeamID':'Team1','SeedInt':'Team1PrevSeed'})\n",
    "df_L = df_prev_seeds.rename(columns={'TeamID':'Team2','SeedInt':'Team2PrevSeed'})\n",
    "df_dummy = pd.merge(left=df_matchups, right=df_W, how='left', on=['Season', 'Team1'])\n",
    "df_matchups = pd.merge(left=df_dummy, right=df_L, how='left', on=['Season', 'Team2'])\n",
    "\n",
    "## what to do if they weren't in the tournament last year (17?)\n",
    "df_matchups = df_matchups.fillna(value=17)\n",
    "\n",
    "df_matchups.head()"
   ]
  },
  {
   "cell_type": "markdown",
   "metadata": {},
   "source": [
    "### Average Tournament Seed & Games Won Over Past X Years"
   ]
  },
  {
   "cell_type": "code",
   "execution_count": 154,
   "metadata": {
    "collapsed": true
   },
   "outputs": [],
   "source": [
    "# this indicates how far back we want to go\n",
    "# don't have to worry about missing data if we're not starting until 2010\n",
    "hist = 2.0"
   ]
  },
  {
   "cell_type": "code",
   "execution_count": 155,
   "metadata": {},
   "outputs": [
    {
     "data": {
      "text/html": [
       "<div>\n",
       "<style>\n",
       "    .dataframe thead tr:only-child th {\n",
       "        text-align: right;\n",
       "    }\n",
       "\n",
       "    .dataframe thead th {\n",
       "        text-align: left;\n",
       "    }\n",
       "\n",
       "    .dataframe tbody tr th {\n",
       "        vertical-align: top;\n",
       "    }\n",
       "</style>\n",
       "<table border=\"1\" class=\"dataframe\">\n",
       "  <thead>\n",
       "    <tr style=\"text-align: right;\">\n",
       "      <th></th>\n",
       "      <th>Season</th>\n",
       "      <th>Team1</th>\n",
       "      <th>Team2</th>\n",
       "      <th>Team1Seed</th>\n",
       "      <th>Team2Seed</th>\n",
       "      <th>SeedDiff</th>\n",
       "      <th>Team1PrevSeed</th>\n",
       "      <th>Team2PrevSeed</th>\n",
       "      <th>Team1AvgSeed</th>\n",
       "      <th>Team2AvgSeed</th>\n",
       "      <th>Team1AvgGames</th>\n",
       "      <th>Team2AvgGames</th>\n",
       "    </tr>\n",
       "  </thead>\n",
       "  <tbody>\n",
       "    <tr>\n",
       "      <th>3266</th>\n",
       "      <td>2018</td>\n",
       "      <td>3417</td>\n",
       "      <td>3437</td>\n",
       "      <td>3</td>\n",
       "      <td>9</td>\n",
       "      <td>6</td>\n",
       "      <td>4.0</td>\n",
       "      <td>17.0</td>\n",
       "      <td>3.5</td>\n",
       "      <td>17.0</td>\n",
       "      <td>2.0</td>\n",
       "      <td>0.0</td>\n",
       "    </tr>\n",
       "    <tr>\n",
       "      <th>3267</th>\n",
       "      <td>2018</td>\n",
       "      <td>3417</td>\n",
       "      <td>3438</td>\n",
       "      <td>3</td>\n",
       "      <td>10</td>\n",
       "      <td>7</td>\n",
       "      <td>4.0</td>\n",
       "      <td>17.0</td>\n",
       "      <td>3.5</td>\n",
       "      <td>17.0</td>\n",
       "      <td>2.0</td>\n",
       "      <td>0.0</td>\n",
       "    </tr>\n",
       "    <tr>\n",
       "      <th>3268</th>\n",
       "      <td>2018</td>\n",
       "      <td>3417</td>\n",
       "      <td>3443</td>\n",
       "      <td>3</td>\n",
       "      <td>11</td>\n",
       "      <td>8</td>\n",
       "      <td>4.0</td>\n",
       "      <td>12.0</td>\n",
       "      <td>3.5</td>\n",
       "      <td>14.5</td>\n",
       "      <td>2.0</td>\n",
       "      <td>0.0</td>\n",
       "    </tr>\n",
       "    <tr>\n",
       "      <th>3269</th>\n",
       "      <td>2018</td>\n",
       "      <td>3417</td>\n",
       "      <td>3453</td>\n",
       "      <td>3</td>\n",
       "      <td>7</td>\n",
       "      <td>4</td>\n",
       "      <td>4.0</td>\n",
       "      <td>8.0</td>\n",
       "      <td>3.5</td>\n",
       "      <td>9.0</td>\n",
       "      <td>2.0</td>\n",
       "      <td>0.0</td>\n",
       "    </tr>\n",
       "    <tr>\n",
       "      <th>3270</th>\n",
       "      <td>2018</td>\n",
       "      <td>3437</td>\n",
       "      <td>3438</td>\n",
       "      <td>9</td>\n",
       "      <td>10</td>\n",
       "      <td>1</td>\n",
       "      <td>17.0</td>\n",
       "      <td>17.0</td>\n",
       "      <td>17.0</td>\n",
       "      <td>17.0</td>\n",
       "      <td>0.0</td>\n",
       "      <td>0.0</td>\n",
       "    </tr>\n",
       "    <tr>\n",
       "      <th>3271</th>\n",
       "      <td>2018</td>\n",
       "      <td>3437</td>\n",
       "      <td>3443</td>\n",
       "      <td>9</td>\n",
       "      <td>11</td>\n",
       "      <td>2</td>\n",
       "      <td>17.0</td>\n",
       "      <td>12.0</td>\n",
       "      <td>17.0</td>\n",
       "      <td>14.5</td>\n",
       "      <td>0.0</td>\n",
       "      <td>0.0</td>\n",
       "    </tr>\n",
       "    <tr>\n",
       "      <th>3272</th>\n",
       "      <td>2018</td>\n",
       "      <td>3437</td>\n",
       "      <td>3453</td>\n",
       "      <td>9</td>\n",
       "      <td>7</td>\n",
       "      <td>-2</td>\n",
       "      <td>17.0</td>\n",
       "      <td>8.0</td>\n",
       "      <td>17.0</td>\n",
       "      <td>9.0</td>\n",
       "      <td>0.0</td>\n",
       "      <td>0.0</td>\n",
       "    </tr>\n",
       "    <tr>\n",
       "      <th>3273</th>\n",
       "      <td>2018</td>\n",
       "      <td>3438</td>\n",
       "      <td>3443</td>\n",
       "      <td>10</td>\n",
       "      <td>11</td>\n",
       "      <td>1</td>\n",
       "      <td>17.0</td>\n",
       "      <td>12.0</td>\n",
       "      <td>17.0</td>\n",
       "      <td>14.5</td>\n",
       "      <td>0.0</td>\n",
       "      <td>0.0</td>\n",
       "    </tr>\n",
       "    <tr>\n",
       "      <th>3274</th>\n",
       "      <td>2018</td>\n",
       "      <td>3438</td>\n",
       "      <td>3453</td>\n",
       "      <td>10</td>\n",
       "      <td>7</td>\n",
       "      <td>-3</td>\n",
       "      <td>17.0</td>\n",
       "      <td>8.0</td>\n",
       "      <td>17.0</td>\n",
       "      <td>9.0</td>\n",
       "      <td>0.0</td>\n",
       "      <td>0.0</td>\n",
       "    </tr>\n",
       "    <tr>\n",
       "      <th>3275</th>\n",
       "      <td>2018</td>\n",
       "      <td>3443</td>\n",
       "      <td>3453</td>\n",
       "      <td>11</td>\n",
       "      <td>7</td>\n",
       "      <td>-4</td>\n",
       "      <td>12.0</td>\n",
       "      <td>8.0</td>\n",
       "      <td>14.5</td>\n",
       "      <td>9.0</td>\n",
       "      <td>0.0</td>\n",
       "      <td>0.0</td>\n",
       "    </tr>\n",
       "  </tbody>\n",
       "</table>\n",
       "</div>"
      ],
      "text/plain": [
       "      Season  Team1  Team2  Team1Seed  Team2Seed  SeedDiff  Team1PrevSeed  \\\n",
       "3266    2018   3417   3437          3          9         6            4.0   \n",
       "3267    2018   3417   3438          3         10         7            4.0   \n",
       "3268    2018   3417   3443          3         11         8            4.0   \n",
       "3269    2018   3417   3453          3          7         4            4.0   \n",
       "3270    2018   3437   3438          9         10         1           17.0   \n",
       "3271    2018   3437   3443          9         11         2           17.0   \n",
       "3272    2018   3437   3453          9          7        -2           17.0   \n",
       "3273    2018   3438   3443         10         11         1           17.0   \n",
       "3274    2018   3438   3453         10          7        -3           17.0   \n",
       "3275    2018   3443   3453         11          7        -4           12.0   \n",
       "\n",
       "      Team2PrevSeed  Team1AvgSeed  Team2AvgSeed  Team1AvgGames  Team2AvgGames  \n",
       "3266           17.0           3.5          17.0            2.0            0.0  \n",
       "3267           17.0           3.5          17.0            2.0            0.0  \n",
       "3268           12.0           3.5          14.5            2.0            0.0  \n",
       "3269            8.0           3.5           9.0            2.0            0.0  \n",
       "3270           17.0          17.0          17.0            0.0            0.0  \n",
       "3271           12.0          17.0          14.5            0.0            0.0  \n",
       "3272            8.0          17.0           9.0            0.0            0.0  \n",
       "3273           12.0          17.0          14.5            0.0            0.0  \n",
       "3274            8.0          17.0           9.0            0.0            0.0  \n",
       "3275            8.0          14.5           9.0            0.0            0.0  "
      ]
     },
     "execution_count": 155,
     "metadata": {},
     "output_type": "execute_result"
    }
   ],
   "source": [
    "w_seed_hist = []\n",
    "l_seed_hist = []\n",
    "\n",
    "w_game_hist = []\n",
    "l_game_hist = []\n",
    "\n",
    "# for each one, get past X years of tourney seeds\n",
    "for i,r in df_matchups.iterrows():\n",
    "    w_team_apps =  df_seeds[(df_seeds['TeamID'] == r['Team1'])] #all apps for this team\n",
    "    # recent appearances (does not include current year)\n",
    "    w_team_recent_apps = w_team_apps[(w_team_apps['Season'] >= (r['Season'] - hist)) & (w_team_apps['Season'] < r['Season'])]\n",
    "    \n",
    "    # all wins for this team - this takes advantage of the fact that we're currently organized \n",
    "    w_wins = df_matchups[(df_matchups['Team1'] == r['Team1'])]\n",
    "    w_recent_wins = w_wins[(w_wins['Season'] >= (r['Season'] - hist)) & (w_wins['Season'] < r['Season'])]\n",
    "\n",
    "    # take into account years they weren't in the tournament, penalizes for that (approx. seed = 17)\n",
    "    w_avg_seed = (w_team_recent_apps['SeedInt'].sum() + (((hist) - len(w_team_recent_apps)) * 17)) / float(hist)\n",
    "    \n",
    "    # not making it recently is same as making it and losing \n",
    "    if len(w_team_recent_apps) == 0:\n",
    "        w_avg_games = 0\n",
    "    else:\n",
    "        w_avg_games = (len(w_recent_wins)) / hist\n",
    "\n",
    "    w_game_hist.append(round(w_avg_games,2))\n",
    "    w_seed_hist.append(round(w_avg_seed,2))\n",
    "    \n",
    "    l_team_apps =  df_seeds[(df_seeds['TeamID'] == r['Team2'])]\n",
    "    l_team_recent_apps = l_team_apps[(l_team_apps['Season'] >= (r['Season'] - hist)) & (l_team_apps['Season'] < r['Season'])]\n",
    "    \n",
    "    l_wins = df_matchups[(df_matchups['Team1'] == r['Team2'])]\n",
    "    l_recent_wins = l_wins[(l_wins['Season'] >= (r['Season'] - hist)) & (l_wins['Season'] < r['Season'])]\n",
    "\n",
    "    # take into account years they weren't in the tournament, penalizes for that (approx. seed = 17)\n",
    "    l_avg_seed = (l_team_recent_apps['SeedInt'].sum() + (((hist) - len(l_team_recent_apps)) * 17)) / float(hist)\n",
    "    if len(l_team_recent_apps) == 0:\n",
    "        l_avg_games = 0\n",
    "    else:\n",
    "        l_avg_games = (len(l_recent_wins)) / hist\n",
    "    \n",
    "    l_game_hist.append(round(l_avg_games,2))\n",
    "    l_seed_hist.append(round(l_avg_seed,2))\n",
    "\n",
    "\n",
    "df_matchups['Team1AvgSeed'] = w_seed_hist\n",
    "df_matchups['Team2AvgSeed'] = l_seed_hist\n",
    "df_matchups['Team1AvgGames'] = w_game_hist\n",
    "df_matchups['Team2AvgGames'] = l_game_hist\n",
    "\n",
    "# for now, inspect the tail \n",
    "df_matchups.tail(10)"
   ]
  },
  {
   "cell_type": "markdown",
   "metadata": {},
   "source": [
    "### Last Year's Tournament Performance "
   ]
  },
  {
   "cell_type": "code",
   "execution_count": null,
   "metadata": {},
   "outputs": [],
   "source": []
  },
  {
   "cell_type": "markdown",
   "metadata": {},
   "source": [
    "### League Competitiveness"
   ]
  },
  {
   "cell_type": "code",
   "execution_count": 156,
   "metadata": {},
   "outputs": [],
   "source": [
    "# don't overwrite training dataset!\n",
    "df_tour_hist = df_matchups"
   ]
  },
  {
   "cell_type": "code",
   "execution_count": 157,
   "metadata": {},
   "outputs": [
    {
     "data": {
      "text/html": [
       "<div>\n",
       "<style>\n",
       "    .dataframe thead tr:only-child th {\n",
       "        text-align: right;\n",
       "    }\n",
       "\n",
       "    .dataframe thead th {\n",
       "        text-align: left;\n",
       "    }\n",
       "\n",
       "    .dataframe tbody tr th {\n",
       "        vertical-align: top;\n",
       "    }\n",
       "</style>\n",
       "<table border=\"1\" class=\"dataframe\">\n",
       "  <thead>\n",
       "    <tr style=\"text-align: right;\">\n",
       "      <th></th>\n",
       "      <th>Season</th>\n",
       "      <th>Team1</th>\n",
       "      <th>Team2</th>\n",
       "      <th>Team1Seed</th>\n",
       "      <th>Team2Seed</th>\n",
       "      <th>SeedDiff</th>\n",
       "      <th>Team1PrevSeed</th>\n",
       "      <th>Team2PrevSeed</th>\n",
       "      <th>Team1AvgSeed</th>\n",
       "      <th>Team2AvgSeed</th>\n",
       "      <th>Team1AvgGames</th>\n",
       "      <th>Team2AvgGames</th>\n",
       "      <th>WWins</th>\n",
       "      <th>LWins</th>\n",
       "      <th>WLosses</th>\n",
       "      <th>LLosses</th>\n",
       "      <th>WTotGames</th>\n",
       "      <th>WPctWins</th>\n",
       "      <th>LTotGames</th>\n",
       "      <th>LPctWins</th>\n",
       "    </tr>\n",
       "  </thead>\n",
       "  <tbody>\n",
       "    <tr>\n",
       "      <th>0</th>\n",
       "      <td>1998</td>\n",
       "      <td>3104</td>\n",
       "      <td>3422</td>\n",
       "      <td>2</td>\n",
       "      <td>15</td>\n",
       "      <td>13</td>\n",
       "      <td>17.0</td>\n",
       "      <td>17.0</td>\n",
       "      <td>17.0</td>\n",
       "      <td>17.0</td>\n",
       "      <td>0.0</td>\n",
       "      <td>0.0</td>\n",
       "      <td>3</td>\n",
       "      <td>0.0</td>\n",
       "      <td>2</td>\n",
       "      <td>1</td>\n",
       "      <td>5</td>\n",
       "      <td>0.600000</td>\n",
       "      <td>1.0</td>\n",
       "      <td>0.000000</td>\n",
       "    </tr>\n",
       "    <tr>\n",
       "      <th>1</th>\n",
       "      <td>1998</td>\n",
       "      <td>3112</td>\n",
       "      <td>3365</td>\n",
       "      <td>3</td>\n",
       "      <td>14</td>\n",
       "      <td>11</td>\n",
       "      <td>17.0</td>\n",
       "      <td>17.0</td>\n",
       "      <td>17.0</td>\n",
       "      <td>17.0</td>\n",
       "      <td>0.0</td>\n",
       "      <td>0.0</td>\n",
       "      <td>5</td>\n",
       "      <td>0.0</td>\n",
       "      <td>6</td>\n",
       "      <td>4</td>\n",
       "      <td>11</td>\n",
       "      <td>0.454545</td>\n",
       "      <td>4.0</td>\n",
       "      <td>0.000000</td>\n",
       "    </tr>\n",
       "    <tr>\n",
       "      <th>2</th>\n",
       "      <td>1998</td>\n",
       "      <td>3163</td>\n",
       "      <td>3193</td>\n",
       "      <td>2</td>\n",
       "      <td>15</td>\n",
       "      <td>13</td>\n",
       "      <td>17.0</td>\n",
       "      <td>17.0</td>\n",
       "      <td>17.0</td>\n",
       "      <td>17.0</td>\n",
       "      <td>0.0</td>\n",
       "      <td>0.0</td>\n",
       "      <td>147</td>\n",
       "      <td>0.0</td>\n",
       "      <td>19</td>\n",
       "      <td>2</td>\n",
       "      <td>166</td>\n",
       "      <td>0.885542</td>\n",
       "      <td>2.0</td>\n",
       "      <td>0.000000</td>\n",
       "    </tr>\n",
       "    <tr>\n",
       "      <th>3</th>\n",
       "      <td>1998</td>\n",
       "      <td>3198</td>\n",
       "      <td>3266</td>\n",
       "      <td>7</td>\n",
       "      <td>10</td>\n",
       "      <td>3</td>\n",
       "      <td>17.0</td>\n",
       "      <td>17.0</td>\n",
       "      <td>17.0</td>\n",
       "      <td>17.0</td>\n",
       "      <td>0.0</td>\n",
       "      <td>0.0</td>\n",
       "      <td>2</td>\n",
       "      <td>38.0</td>\n",
       "      <td>3</td>\n",
       "      <td>35</td>\n",
       "      <td>5</td>\n",
       "      <td>0.400000</td>\n",
       "      <td>73.0</td>\n",
       "      <td>0.520548</td>\n",
       "    </tr>\n",
       "    <tr>\n",
       "      <th>4</th>\n",
       "      <td>1998</td>\n",
       "      <td>3203</td>\n",
       "      <td>3208</td>\n",
       "      <td>10</td>\n",
       "      <td>7</td>\n",
       "      <td>-3</td>\n",
       "      <td>17.0</td>\n",
       "      <td>17.0</td>\n",
       "      <td>17.0</td>\n",
       "      <td>17.0</td>\n",
       "      <td>0.0</td>\n",
       "      <td>0.0</td>\n",
       "      <td>53</td>\n",
       "      <td>70.0</td>\n",
       "      <td>30</td>\n",
       "      <td>38</td>\n",
       "      <td>83</td>\n",
       "      <td>0.638554</td>\n",
       "      <td>108.0</td>\n",
       "      <td>0.648148</td>\n",
       "    </tr>\n",
       "  </tbody>\n",
       "</table>\n",
       "</div>"
      ],
      "text/plain": [
       "   Season  Team1  Team2  Team1Seed  Team2Seed  SeedDiff  Team1PrevSeed  \\\n",
       "0    1998   3104   3422          2         15        13           17.0   \n",
       "1    1998   3112   3365          3         14        11           17.0   \n",
       "2    1998   3163   3193          2         15        13           17.0   \n",
       "3    1998   3198   3266          7         10         3           17.0   \n",
       "4    1998   3203   3208         10          7        -3           17.0   \n",
       "\n",
       "   Team2PrevSeed  Team1AvgSeed  Team2AvgSeed  Team1AvgGames  Team2AvgGames  \\\n",
       "0           17.0          17.0          17.0            0.0            0.0   \n",
       "1           17.0          17.0          17.0            0.0            0.0   \n",
       "2           17.0          17.0          17.0            0.0            0.0   \n",
       "3           17.0          17.0          17.0            0.0            0.0   \n",
       "4           17.0          17.0          17.0            0.0            0.0   \n",
       "\n",
       "   WWins  LWins  WLosses  LLosses  WTotGames  WPctWins  LTotGames  LPctWins  \n",
       "0      3    0.0        2        1          5  0.600000        1.0  0.000000  \n",
       "1      5    0.0        6        4         11  0.454545        4.0  0.000000  \n",
       "2    147    0.0       19        2        166  0.885542        2.0  0.000000  \n",
       "3      2   38.0        3       35          5  0.400000       73.0  0.520548  \n",
       "4     53   70.0       30       38         83  0.638554      108.0  0.648148  "
      ]
     },
     "execution_count": 157,
     "metadata": {},
     "output_type": "execute_result"
    }
   ],
   "source": [
    "#\n",
    "winning_games_w = df_tour_hist.groupby('Team1').count().reset_index()[['Team1','Season']].rename(columns={'Season':'WWins'})\n",
    "winning_games_l = df_tour_hist.groupby('Team1').count().reset_index()[['Team1','Season']].rename(columns={'Season':'LWins','Team1':'Team2'})\n",
    "\n",
    "losing_games_w = df_tour_hist.groupby('Team2').count().reset_index()[['Team2','Season']].rename(columns={'Season':'WLosses','Team2':'Team1'})\n",
    "losing_games_l = df_tour_hist.groupby('Team2').count().reset_index()[['Team2','Season']].rename(columns={'Season':'LLosses'})\n",
    "\n",
    "# get total tournament games - all games, could be more than 1 appearance per year\n",
    "df_total_apps = pd.merge(left=df_tour_hist, right=winning_games_w, how='left', on=['Team1']).fillna(0)\n",
    "df_total_apps = pd.merge(left=df_total_apps, right=winning_games_l, how='left', on=['Team2']).fillna(0)\n",
    "df_total_apps = pd.merge(left=df_total_apps, right=losing_games_w, how='left', on=['Team1']).fillna(0)\n",
    "df_total_apps = pd.merge(left=df_total_apps, right=losing_games_l, how='left', on=['Team2']).fillna(0)\n",
    "\n",
    "\n",
    "df_total_apps['WTotGames'] = df_total_apps['WWins'] + df_total_apps['WLosses']\n",
    "df_total_apps['WPctWins'] = df_total_apps['WWins'] / df_total_apps['WTotGames'] \n",
    "\n",
    "df_total_apps['LTotGames'] = df_total_apps['LWins'] + df_total_apps['LLosses']\n",
    "df_total_apps['LPctWins'] = df_total_apps['LWins'] / df_total_apps['LTotGames'] \n",
    "\n",
    "# This now includes: \n",
    "df_total_apps.head()"
   ]
  },
  {
   "cell_type": "code",
   "execution_count": 158,
   "metadata": {
    "collapsed": true
   },
   "outputs": [],
   "source": [
    "# determine 'competitiveness of league' \n",
    "## What teams have good win percentages\n",
    "df_win_apps = df_total_apps.rename(columns={'WPctWins' : 'PctWins','Team1' : 'TeamID', 'WTotGames': 'TotGames'})\n",
    "df_loss_apps = df_total_apps.rename(columns={'LPctWins' : 'PctWins', 'Team2' : 'TeamID', 'LTotGames': 'TotGames'})\n",
    "\n",
    "df_apps = df_win_apps[['PctWins','TeamID','TotGames']].append(df_loss_apps[['PctWins','TeamID','TotGames']])\n",
    "df_apps = df_apps.drop_duplicates()\n",
    "\n",
    "## This means that a lot of these have never been to the tournament - makes sense\n",
    "#plt.hist(df_apps['PctWins'],bins=10)\n",
    "\n",
    "# Maybe need to filter for just teams that are currently in tourney\n",
    "#l = df_seeds.loc[df_seeds['Season'] == 2018]\n",
    "#plt.hist((df_apps[df_apps['TeamID'].isin(l['TeamID'])])['PctWins'],bins=10)"
   ]
  },
  {
   "cell_type": "code",
   "execution_count": 159,
   "metadata": {},
   "outputs": [
    {
     "data": {
      "text/html": [
       "<div>\n",
       "<style>\n",
       "    .dataframe thead tr:only-child th {\n",
       "        text-align: right;\n",
       "    }\n",
       "\n",
       "    .dataframe thead th {\n",
       "        text-align: left;\n",
       "    }\n",
       "\n",
       "    .dataframe tbody tr th {\n",
       "        vertical-align: top;\n",
       "    }\n",
       "</style>\n",
       "<table border=\"1\" class=\"dataframe\">\n",
       "  <thead>\n",
       "    <tr style=\"text-align: right;\">\n",
       "      <th></th>\n",
       "      <th>TeamID</th>\n",
       "      <th>TeamName</th>\n",
       "      <th>LeagueName</th>\n",
       "    </tr>\n",
       "  </thead>\n",
       "  <tbody>\n",
       "    <tr>\n",
       "      <th>0</th>\n",
       "      <td>3101</td>\n",
       "      <td>Abilene Chr</td>\n",
       "      <td>Southland</td>\n",
       "    </tr>\n",
       "    <tr>\n",
       "      <th>1</th>\n",
       "      <td>3102</td>\n",
       "      <td>Air Force</td>\n",
       "      <td>MWC</td>\n",
       "    </tr>\n",
       "    <tr>\n",
       "      <th>2</th>\n",
       "      <td>3103</td>\n",
       "      <td>Akron</td>\n",
       "      <td>MAC</td>\n",
       "    </tr>\n",
       "    <tr>\n",
       "      <th>3</th>\n",
       "      <td>3104</td>\n",
       "      <td>Alabama</td>\n",
       "      <td>SEC</td>\n",
       "    </tr>\n",
       "    <tr>\n",
       "      <th>4</th>\n",
       "      <td>3105</td>\n",
       "      <td>Alabama A&amp;M</td>\n",
       "      <td>SWAC</td>\n",
       "    </tr>\n",
       "  </tbody>\n",
       "</table>\n",
       "</div>"
      ],
      "text/plain": [
       "   TeamID     TeamName LeagueName\n",
       "0    3101  Abilene Chr  Southland\n",
       "1    3102    Air Force        MWC\n",
       "2    3103        Akron        MAC\n",
       "3    3104      Alabama        SEC\n",
       "4    3105  Alabama A&M       SWAC"
      ]
     },
     "execution_count": 159,
     "metadata": {},
     "output_type": "execute_result"
    }
   ],
   "source": [
    "df_teams_leagues.head()"
   ]
  },
  {
   "cell_type": "code",
   "execution_count": 160,
   "metadata": {},
   "outputs": [
    {
     "data": {
      "text/html": [
       "<div>\n",
       "<style>\n",
       "    .dataframe thead tr:only-child th {\n",
       "        text-align: right;\n",
       "    }\n",
       "\n",
       "    .dataframe thead th {\n",
       "        text-align: left;\n",
       "    }\n",
       "\n",
       "    .dataframe tbody tr th {\n",
       "        vertical-align: top;\n",
       "    }\n",
       "</style>\n",
       "<table border=\"1\" class=\"dataframe\">\n",
       "  <thead>\n",
       "    <tr style=\"text-align: right;\">\n",
       "      <th></th>\n",
       "      <th>LeagueName</th>\n",
       "      <th>PctWins</th>\n",
       "    </tr>\n",
       "  </thead>\n",
       "  <tbody>\n",
       "    <tr>\n",
       "      <th>0</th>\n",
       "      <td>AAC</td>\n",
       "      <td>0.227926</td>\n",
       "    </tr>\n",
       "    <tr>\n",
       "      <th>1</th>\n",
       "      <td>ACC</td>\n",
       "      <td>0.501126</td>\n",
       "    </tr>\n",
       "    <tr>\n",
       "      <th>2</th>\n",
       "      <td>ASUN</td>\n",
       "      <td>0.172794</td>\n",
       "    </tr>\n",
       "    <tr>\n",
       "      <th>3</th>\n",
       "      <td>America East</td>\n",
       "      <td>0.237395</td>\n",
       "    </tr>\n",
       "    <tr>\n",
       "      <th>4</th>\n",
       "      <td>Atlantic 10</td>\n",
       "      <td>0.323755</td>\n",
       "    </tr>\n",
       "  </tbody>\n",
       "</table>\n",
       "</div>"
      ],
      "text/plain": [
       "     LeagueName   PctWins\n",
       "0           AAC  0.227926\n",
       "1           ACC  0.501126\n",
       "2          ASUN  0.172794\n",
       "3  America East  0.237395\n",
       "4   Atlantic 10  0.323755"
      ]
     },
     "execution_count": 160,
     "metadata": {},
     "output_type": "execute_result"
    }
   ],
   "source": [
    "# Merge Performance Stats with league info\n",
    "df_league_pct = pd.merge(left=df_apps, right = df_teams_leagues, how='left', on=['TeamID'])\n",
    "\n",
    "# group by league to see how leagues perform\n",
    "df_league_perf = df_league_pct.groupby('LeagueName')['PctWins'].mean().reset_index()\n",
    "\n",
    "df_league_perf.head()"
   ]
  },
  {
   "cell_type": "code",
   "execution_count": 161,
   "metadata": {},
   "outputs": [
    {
     "data": {
      "text/html": [
       "<div>\n",
       "<style>\n",
       "    .dataframe thead tr:only-child th {\n",
       "        text-align: right;\n",
       "    }\n",
       "\n",
       "    .dataframe thead th {\n",
       "        text-align: left;\n",
       "    }\n",
       "\n",
       "    .dataframe tbody tr th {\n",
       "        vertical-align: top;\n",
       "    }\n",
       "</style>\n",
       "<table border=\"1\" class=\"dataframe\">\n",
       "  <thead>\n",
       "    <tr style=\"text-align: right;\">\n",
       "      <th></th>\n",
       "      <th>TeamID</th>\n",
       "      <th>TeamName</th>\n",
       "      <th>LeagueName</th>\n",
       "      <th>PctWins</th>\n",
       "    </tr>\n",
       "  </thead>\n",
       "  <tbody>\n",
       "    <tr>\n",
       "      <th>0</th>\n",
       "      <td>3101</td>\n",
       "      <td>Abilene Chr</td>\n",
       "      <td>Southland</td>\n",
       "      <td>0.084656</td>\n",
       "    </tr>\n",
       "    <tr>\n",
       "      <th>1</th>\n",
       "      <td>3102</td>\n",
       "      <td>Air Force</td>\n",
       "      <td>MWC</td>\n",
       "      <td>0.299423</td>\n",
       "    </tr>\n",
       "    <tr>\n",
       "      <th>2</th>\n",
       "      <td>3103</td>\n",
       "      <td>Akron</td>\n",
       "      <td>MAC</td>\n",
       "      <td>0.231940</td>\n",
       "    </tr>\n",
       "    <tr>\n",
       "      <th>3</th>\n",
       "      <td>3104</td>\n",
       "      <td>Alabama</td>\n",
       "      <td>SEC</td>\n",
       "      <td>0.507880</td>\n",
       "    </tr>\n",
       "    <tr>\n",
       "      <th>4</th>\n",
       "      <td>3105</td>\n",
       "      <td>Alabama A&amp;M</td>\n",
       "      <td>SWAC</td>\n",
       "      <td>0.090110</td>\n",
       "    </tr>\n",
       "  </tbody>\n",
       "</table>\n",
       "</div>"
      ],
      "text/plain": [
       "   TeamID     TeamName LeagueName   PctWins\n",
       "0    3101  Abilene Chr  Southland  0.084656\n",
       "1    3102    Air Force        MWC  0.299423\n",
       "2    3103        Akron        MAC  0.231940\n",
       "3    3104      Alabama        SEC  0.507880\n",
       "4    3105  Alabama A&M       SWAC  0.090110"
      ]
     },
     "execution_count": 161,
     "metadata": {},
     "output_type": "execute_result"
    }
   ],
   "source": [
    "df_teams_leagues = pd.merge(left=df_teams_leagues,right = df_league_perf, how='left', on=['LeagueName'])\n",
    "df_teams_leagues.head()"
   ]
  },
  {
   "cell_type": "markdown",
   "metadata": {},
   "source": [
    "#### Add this to our training dataset"
   ]
  },
  {
   "cell_type": "code",
   "execution_count": 162,
   "metadata": {},
   "outputs": [],
   "source": [
    "df_W = df_teams_leagues[['TeamID','PctWins']].rename(columns={'TeamID':'Team1', 'PctWins' : \"Team1LeaguePerf\"})\n",
    "df_L = df_teams_leagues[['TeamID','PctWins']].rename(columns={'TeamID':'Team2', 'PctWins' : \"Team2LeaguePerf\"})"
   ]
  },
  {
   "cell_type": "code",
   "execution_count": 163,
   "metadata": {},
   "outputs": [
    {
     "data": {
      "text/html": [
       "<div>\n",
       "<style>\n",
       "    .dataframe thead tr:only-child th {\n",
       "        text-align: right;\n",
       "    }\n",
       "\n",
       "    .dataframe thead th {\n",
       "        text-align: left;\n",
       "    }\n",
       "\n",
       "    .dataframe tbody tr th {\n",
       "        vertical-align: top;\n",
       "    }\n",
       "</style>\n",
       "<table border=\"1\" class=\"dataframe\">\n",
       "  <thead>\n",
       "    <tr style=\"text-align: right;\">\n",
       "      <th></th>\n",
       "      <th>Season</th>\n",
       "      <th>Team1</th>\n",
       "      <th>Team2</th>\n",
       "      <th>Team1Seed</th>\n",
       "      <th>Team2Seed</th>\n",
       "      <th>SeedDiff</th>\n",
       "      <th>Team1PrevSeed</th>\n",
       "      <th>Team2PrevSeed</th>\n",
       "      <th>Team1AvgSeed</th>\n",
       "      <th>Team2AvgSeed</th>\n",
       "      <th>Team1AvgGames</th>\n",
       "      <th>Team2AvgGames</th>\n",
       "      <th>Team1LeaguePerf</th>\n",
       "      <th>Team2LeaguePerf</th>\n",
       "      <th>LeaguePerfDiff</th>\n",
       "    </tr>\n",
       "  </thead>\n",
       "  <tbody>\n",
       "    <tr>\n",
       "      <th>3271</th>\n",
       "      <td>2018</td>\n",
       "      <td>3437</td>\n",
       "      <td>3443</td>\n",
       "      <td>9</td>\n",
       "      <td>11</td>\n",
       "      <td>2</td>\n",
       "      <td>17.0</td>\n",
       "      <td>12.0</td>\n",
       "      <td>17.0</td>\n",
       "      <td>14.5</td>\n",
       "      <td>0.0</td>\n",
       "      <td>0.0</td>\n",
       "      <td>0.454189</td>\n",
       "      <td>0.282576</td>\n",
       "      <td>0.171613</td>\n",
       "    </tr>\n",
       "    <tr>\n",
       "      <th>3272</th>\n",
       "      <td>2018</td>\n",
       "      <td>3437</td>\n",
       "      <td>3453</td>\n",
       "      <td>9</td>\n",
       "      <td>7</td>\n",
       "      <td>-2</td>\n",
       "      <td>17.0</td>\n",
       "      <td>8.0</td>\n",
       "      <td>17.0</td>\n",
       "      <td>9.0</td>\n",
       "      <td>0.0</td>\n",
       "      <td>0.0</td>\n",
       "      <td>0.454189</td>\n",
       "      <td>0.067320</td>\n",
       "      <td>0.386869</td>\n",
       "    </tr>\n",
       "    <tr>\n",
       "      <th>3273</th>\n",
       "      <td>2018</td>\n",
       "      <td>3438</td>\n",
       "      <td>3443</td>\n",
       "      <td>10</td>\n",
       "      <td>11</td>\n",
       "      <td>1</td>\n",
       "      <td>17.0</td>\n",
       "      <td>12.0</td>\n",
       "      <td>17.0</td>\n",
       "      <td>14.5</td>\n",
       "      <td>0.0</td>\n",
       "      <td>0.0</td>\n",
       "      <td>0.501126</td>\n",
       "      <td>0.282576</td>\n",
       "      <td>0.218550</td>\n",
       "    </tr>\n",
       "    <tr>\n",
       "      <th>3274</th>\n",
       "      <td>2018</td>\n",
       "      <td>3438</td>\n",
       "      <td>3453</td>\n",
       "      <td>10</td>\n",
       "      <td>7</td>\n",
       "      <td>-3</td>\n",
       "      <td>17.0</td>\n",
       "      <td>8.0</td>\n",
       "      <td>17.0</td>\n",
       "      <td>9.0</td>\n",
       "      <td>0.0</td>\n",
       "      <td>0.0</td>\n",
       "      <td>0.501126</td>\n",
       "      <td>0.067320</td>\n",
       "      <td>0.433806</td>\n",
       "    </tr>\n",
       "    <tr>\n",
       "      <th>3275</th>\n",
       "      <td>2018</td>\n",
       "      <td>3443</td>\n",
       "      <td>3453</td>\n",
       "      <td>11</td>\n",
       "      <td>7</td>\n",
       "      <td>-4</td>\n",
       "      <td>12.0</td>\n",
       "      <td>8.0</td>\n",
       "      <td>14.5</td>\n",
       "      <td>9.0</td>\n",
       "      <td>0.0</td>\n",
       "      <td>0.0</td>\n",
       "      <td>0.282576</td>\n",
       "      <td>0.067320</td>\n",
       "      <td>0.215255</td>\n",
       "    </tr>\n",
       "  </tbody>\n",
       "</table>\n",
       "</div>"
      ],
      "text/plain": [
       "      Season  Team1  Team2  Team1Seed  Team2Seed  SeedDiff  Team1PrevSeed  \\\n",
       "3271    2018   3437   3443          9         11         2           17.0   \n",
       "3272    2018   3437   3453          9          7        -2           17.0   \n",
       "3273    2018   3438   3443         10         11         1           17.0   \n",
       "3274    2018   3438   3453         10          7        -3           17.0   \n",
       "3275    2018   3443   3453         11          7        -4           12.0   \n",
       "\n",
       "      Team2PrevSeed  Team1AvgSeed  Team2AvgSeed  Team1AvgGames  Team2AvgGames  \\\n",
       "3271           12.0          17.0          14.5            0.0            0.0   \n",
       "3272            8.0          17.0           9.0            0.0            0.0   \n",
       "3273           12.0          17.0          14.5            0.0            0.0   \n",
       "3274            8.0          17.0           9.0            0.0            0.0   \n",
       "3275            8.0          14.5           9.0            0.0            0.0   \n",
       "\n",
       "      Team1LeaguePerf  Team2LeaguePerf  LeaguePerfDiff  \n",
       "3271         0.454189         0.282576        0.171613  \n",
       "3272         0.454189         0.067320        0.386869  \n",
       "3273         0.501126         0.282576        0.218550  \n",
       "3274         0.501126         0.067320        0.433806  \n",
       "3275         0.282576         0.067320        0.215255  "
      ]
     },
     "execution_count": 163,
     "metadata": {},
     "output_type": "execute_result"
    }
   ],
   "source": [
    "df_dummy = pd.merge(left=df_matchups, right=df_W, how='left', on=['Team1'])\n",
    "df_matchups = pd.merge(left=df_dummy, right=df_L, how='left', on=['Team2'])\n",
    "\n",
    "df_matchups['LeaguePerfDiff'] = df_matchups['Team1LeaguePerf'] - df_matchups['Team2LeaguePerf']\n",
    "df_matchups.tail()"
   ]
  },
  {
   "cell_type": "markdown",
   "metadata": {},
   "source": [
    "### LAST: Generate negative examples + Split into training (train + dev) and test"
   ]
  },
  {
   "cell_type": "code",
   "execution_count": 164,
   "metadata": {
    "collapsed": true
   },
   "outputs": [],
   "source": [
    "## Resolve this!! - for now, drop 1998 because we don't have a previous year\n",
    "df_matchups = df_matchups[(df_matchups['Season'] > 1998) & (df_matchups['Season'] < 2018)]\n",
    "\n",
    "# test data only\n",
    "x_test = df_matchups[df_matchups['Season'] == 2018]"
   ]
  },
  {
   "cell_type": "code",
   "execution_count": 165,
   "metadata": {},
   "outputs": [],
   "source": [
    "# Generate negative examples - update depending on columns used\n",
    "\n",
    "df_neg = pd.DataFrame(\n",
    "{\n",
    "    'Season' : df_matchups['Season']  ,\n",
    "    'SeedDiff' : -df_matchups['SeedDiff'],\n",
    "    'Team1' : df_matchups['Team2']  ,\n",
    "    'Team1Seed' : df_matchups['Team2Seed']  ,\n",
    "    'Team1PrevSeed' : df_matchups['Team2PrevSeed']  ,\n",
    "    'Team1LeaguePerf' : df_matchups['Team2LeaguePerf']  ,\n",
    "    'Team2' : df_matchups['Team1']  ,\n",
    "    'Team2Seed' : df_matchups['Team1Seed']  ,\n",
    "    'Team2PrevSeed' : df_matchups['Team1PrevSeed']  ,\n",
    "    'Team2LeaguePerf' : df_matchups['Team1LeaguePerf']  ,\n",
    "    'LeaguePerfDiff' : - df_matchups['LeaguePerfDiff'] ,\n",
    "    'Team1AvgSeed' : df_matchups['Team2AvgSeed'] ,\n",
    "    'Team2AvgSeed' : df_matchups['Team1AvgSeed'] ,\n",
    "    'Team1AvgGames' : df_matchups['Team2AvgGames'] ,\n",
    "    'Team2AvgGames' : df_matchups['Team1AvgGames']\n",
    "\n",
    "})"
   ]
  },
  {
   "cell_type": "code",
   "execution_count": 184,
   "metadata": {},
   "outputs": [],
   "source": [
    "# include positive and negative examples from 1999 - 2017 (for now)\n",
    "x_train = df_matchups.append(df_neg)"
   ]
  },
  {
   "cell_type": "code",
   "execution_count": 185,
   "metadata": {
    "collapsed": true
   },
   "outputs": [],
   "source": [
    "# build outcome = first 1/2 of data is positive, second 1/2 is negative \n",
    "y_train = ([1] * len(df_matchups)) + ([0] * len(df_matchups))"
   ]
  },
  {
   "cell_type": "markdown",
   "metadata": {},
   "source": [
    "### Play Around with Feature Selection"
   ]
  },
  {
   "cell_type": "markdown",
   "metadata": {},
   "source": [
    "#### Add/remove as needed; don't forget to do this for test and train"
   ]
  },
  {
   "cell_type": "code",
   "execution_count": 186,
   "metadata": {
    "collapsed": true
   },
   "outputs": [],
   "source": [
    "# Drop features as interested\n",
    "\n",
    "## Baseline\n",
    "#x_final_train = x_train[['SeedDiff']]\n",
    "\n",
    "## Testing\n",
    "#x_final_train = x_train\n",
    "x_final_train = x_train.drop(labels=['Team1','Team2','Team2LeaguePerf','Team1LeaguePerf'],axis=1)"
   ]
  },
  {
   "cell_type": "code",
   "execution_count": 189,
   "metadata": {
    "collapsed": true
   },
   "outputs": [],
   "source": [
    "# Split into train and dev\n",
    "train_x, dev_x, train_y, dev_y = train_test_split(x_final_train,y_train)"
   ]
  },
  {
   "cell_type": "code",
   "execution_count": 190,
   "metadata": {},
   "outputs": [
    {
     "data": {
      "text/html": [
       "<div>\n",
       "<style>\n",
       "    .dataframe thead tr:only-child th {\n",
       "        text-align: right;\n",
       "    }\n",
       "\n",
       "    .dataframe thead th {\n",
       "        text-align: left;\n",
       "    }\n",
       "\n",
       "    .dataframe tbody tr th {\n",
       "        vertical-align: top;\n",
       "    }\n",
       "</style>\n",
       "<table border=\"1\" class=\"dataframe\">\n",
       "  <thead>\n",
       "    <tr style=\"text-align: right;\">\n",
       "      <th></th>\n",
       "      <th>LeaguePerfDiff</th>\n",
       "      <th>Season</th>\n",
       "      <th>SeedDiff</th>\n",
       "      <th>Team1AvgGames</th>\n",
       "      <th>Team1AvgSeed</th>\n",
       "      <th>Team1PrevSeed</th>\n",
       "      <th>Team1Seed</th>\n",
       "      <th>Team2AvgGames</th>\n",
       "      <th>Team2AvgSeed</th>\n",
       "      <th>Team2PrevSeed</th>\n",
       "      <th>Team2Seed</th>\n",
       "    </tr>\n",
       "  </thead>\n",
       "  <tbody>\n",
       "    <tr>\n",
       "      <th>1257</th>\n",
       "      <td>-0.279954</td>\n",
       "      <td>2017</td>\n",
       "      <td>1</td>\n",
       "      <td>6.0</td>\n",
       "      <td>1.0</td>\n",
       "      <td>1.0</td>\n",
       "      <td>1</td>\n",
       "      <td>1.5</td>\n",
       "      <td>5.0</td>\n",
       "      <td>5.0</td>\n",
       "      <td>2</td>\n",
       "    </tr>\n",
       "    <tr>\n",
       "      <th>442</th>\n",
       "      <td>0.306612</td>\n",
       "      <td>2005</td>\n",
       "      <td>13</td>\n",
       "      <td>1.0</td>\n",
       "      <td>10.5</td>\n",
       "      <td>4.0</td>\n",
       "      <td>2</td>\n",
       "      <td>0.0</td>\n",
       "      <td>17.0</td>\n",
       "      <td>17.0</td>\n",
       "      <td>15</td>\n",
       "    </tr>\n",
       "    <tr>\n",
       "      <th>558</th>\n",
       "      <td>0.053787</td>\n",
       "      <td>2006</td>\n",
       "      <td>3</td>\n",
       "      <td>1.5</td>\n",
       "      <td>2.5</td>\n",
       "      <td>1.0</td>\n",
       "      <td>1</td>\n",
       "      <td>1.5</td>\n",
       "      <td>5.5</td>\n",
       "      <td>9.0</td>\n",
       "      <td>4</td>\n",
       "    </tr>\n",
       "    <tr>\n",
       "      <th>209</th>\n",
       "      <td>0.433806</td>\n",
       "      <td>2001</td>\n",
       "      <td>15</td>\n",
       "      <td>3.5</td>\n",
       "      <td>2.5</td>\n",
       "      <td>2.0</td>\n",
       "      <td>1</td>\n",
       "      <td>0.0</td>\n",
       "      <td>17.0</td>\n",
       "      <td>17.0</td>\n",
       "      <td>16</td>\n",
       "    </tr>\n",
       "    <tr>\n",
       "      <th>1233</th>\n",
       "      <td>-0.060540</td>\n",
       "      <td>2017</td>\n",
       "      <td>-1</td>\n",
       "      <td>1.5</td>\n",
       "      <td>4.0</td>\n",
       "      <td>3.0</td>\n",
       "      <td>5</td>\n",
       "      <td>1.5</td>\n",
       "      <td>2.5</td>\n",
       "      <td>3.0</td>\n",
       "      <td>4</td>\n",
       "    </tr>\n",
       "  </tbody>\n",
       "</table>\n",
       "</div>"
      ],
      "text/plain": [
       "      LeaguePerfDiff  Season  SeedDiff  Team1AvgGames  Team1AvgSeed  \\\n",
       "1257       -0.279954    2017         1            6.0           1.0   \n",
       "442         0.306612    2005        13            1.0          10.5   \n",
       "558         0.053787    2006         3            1.5           2.5   \n",
       "209         0.433806    2001        15            3.5           2.5   \n",
       "1233       -0.060540    2017        -1            1.5           4.0   \n",
       "\n",
       "      Team1PrevSeed  Team1Seed  Team2AvgGames  Team2AvgSeed  Team2PrevSeed  \\\n",
       "1257            1.0          1            1.5           5.0            5.0   \n",
       "442             4.0          2            0.0          17.0           17.0   \n",
       "558             1.0          1            1.5           5.5            9.0   \n",
       "209             2.0          1            0.0          17.0           17.0   \n",
       "1233            3.0          5            1.5           2.5            3.0   \n",
       "\n",
       "      Team2Seed  \n",
       "1257          2  \n",
       "442          15  \n",
       "558           4  \n",
       "209          16  \n",
       "1233          4  "
      ]
     },
     "execution_count": 190,
     "metadata": {},
     "output_type": "execute_result"
    }
   ],
   "source": [
    "train_x.head()"
   ]
  },
  {
   "cell_type": "markdown",
   "metadata": {},
   "source": [
    "### Build Model"
   ]
  },
  {
   "cell_type": "code",
   "execution_count": 191,
   "metadata": {},
   "outputs": [
    {
     "name": "stdout",
     "output_type": "stream",
     "text": [
      "Best log_loss: -0.4454, with best C: 0.01\n"
     ]
    }
   ],
   "source": [
    "## Fit a logistic regression model through grid search\n",
    "logreg = LogisticRegression()\n",
    "params = {'C': np.logspace(start=-5, stop=3, num=9)}\n",
    "clf = GridSearchCV(logreg, params, scoring='neg_log_loss', refit=True)\n",
    "clf.fit(train_x, train_y)\n",
    "print('Best log_loss: {:.4}, with best C: {}'.format(clf.best_score_, clf.best_params_['C']))"
   ]
  },
  {
   "cell_type": "code",
   "execution_count": 192,
   "metadata": {},
   "outputs": [
    {
     "data": {
      "text/plain": [
       "0.4410523434518494"
      ]
     },
     "execution_count": 192,
     "metadata": {},
     "output_type": "execute_result"
    }
   ],
   "source": [
    "lr = LogisticRegression()\n",
    "\n",
    "lr.fit(train_x,train_y)\n",
    "metrics.log_loss(train_y,lr.predict_proba(train_x))"
   ]
  },
  {
   "cell_type": "code",
   "execution_count": 193,
   "metadata": {},
   "outputs": [
    {
     "data": {
      "text/plain": [
       "0.4410523434518494"
      ]
     },
     "execution_count": 193,
     "metadata": {},
     "output_type": "execute_result"
    }
   ],
   "source": [
    "dt = tree.DecisionTreeRegressor()\n",
    "\n",
    "dt.fit(train_x,train_y)\n",
    "metrics.log_loss(train_y,lr.predict_proba(train_x))"
   ]
  },
  {
   "cell_type": "code",
   "execution_count": 194,
   "metadata": {},
   "outputs": [
    {
     "data": {
      "text/plain": [
       "0.97951047122568724"
      ]
     },
     "execution_count": 194,
     "metadata": {},
     "output_type": "execute_result"
    }
   ],
   "source": [
    "gnb = GaussianNB()\n",
    "\n",
    "gnb.fit(train_x,train_y)\n",
    "metrics.log_loss(train_y,gnb.predict_proba(train_x))"
   ]
  },
  {
   "cell_type": "code",
   "execution_count": 195,
   "metadata": {},
   "outputs": [
    {
     "data": {
      "text/plain": [
       "0.54902881003143889"
      ]
     },
     "execution_count": 195,
     "metadata": {},
     "output_type": "execute_result"
    }
   ],
   "source": [
    "bnb = BernoulliNB()\n",
    "\n",
    "bnb.fit(train_x,train_y)\n",
    "metrics.log_loss(train_y,bnb.predict_proba(train_x))"
   ]
  },
  {
   "cell_type": "markdown",
   "metadata": {},
   "source": [
    "### Examine Errors\n",
    "#### what do we make mistakes on?"
   ]
  },
  {
   "cell_type": "code",
   "execution_count": 206,
   "metadata": {},
   "outputs": [
    {
     "name": "stdout",
     "output_type": "stream",
     "text": [
      "0.128140703518\n",
      "398\n"
     ]
    },
    {
     "name": "stderr",
     "output_type": "stream",
     "text": [
      "/Users/juliabuffinton/anaconda2/lib/python2.7/site-packages/ipykernel_launcher.py:8: SettingWithCopyWarning: \n",
      "A value is trying to be set on a copy of a slice from a DataFrame.\n",
      "Try using .loc[row_indexer,col_indexer] = value instead\n",
      "\n",
      "See the caveats in the documentation: http://pandas.pydata.org/pandas-docs/stable/indexing.html#indexing-view-versus-copy\n",
      "  \n"
     ]
    },
    {
     "data": {
      "text/plain": [
       "(array([ 18.,  11.,   1.,  26.,   6.,  50.,  74.,  19.,  77.,   3.,  49.,\n",
       "         28.,   1.,  13.,  22.]),\n",
       " array([-9. , -7.8, -6.6, -5.4, -4.2, -3. , -1.8, -0.6,  0.6,  1.8,  3. ,\n",
       "         4.2,  5.4,  6.6,  7.8,  9. ]),\n",
       " <a list of 15 Patch objects>)"
      ]
     },
     "execution_count": 206,
     "metadata": {},
     "output_type": "execute_result"
    },
    {
     "data": {
      "image/png": "[encoded data removed]",
      "text/plain": [
       "<matplotlib.figure.Figure at 0x1a11ad6ad0>"
      ]
     },
     "metadata": {},
     "output_type": "display_data"
    }
   ],
   "source": [
    "# Logistic Regression\n",
    "errors = ((np.where(train_y != lr.predict(train_x)))[0]).tolist()\n",
    "\n",
    "train_errors = train_x.iloc[errors]\n",
    "\n",
    "bad_preds = [train_y[i] for i in errors]\n",
    "\n",
    "train_errors['Predictions'] = bad_preds\n",
    "\n",
    "# interestingly, looks like a lot of our errors are when the seed difference is small\n",
    "print train_errors['SeedDiff'].mean()\n",
    "\n",
    "print len(train_errors)\n",
    "\n",
    "plt.hist(x=train_errors['SeedDiff'],bins=15)"
   ]
  },
  {
   "cell_type": "markdown",
   "metadata": {},
   "source": [
    "## FROM BASELINE SUBMISSION - EDIT/REMOVE THIS"
   ]
  },
  {
   "cell_type": "code",
   "execution_count": 30,
   "metadata": {
    "scrolled": true
   },
   "outputs": [
    {
     "name": "stdout",
     "output_type": "stream",
     "text": [
      "Best log_loss: -0.5097, with best C: 0.001\n"
     ]
    }
   ],
   "source": [
    "## Fit a logistic regression model through grid search\n",
    "\n",
    "logreg = LogisticRegression()\n",
    "params = {'C': np.logspace(start=-5, stop=3, num=9)}\n",
    "clf = GridSearchCV(logreg, params, scoring='neg_log_loss', refit=True)\n",
    "clf.fit(train_x, train_y)\n",
    "print('Best log_loss: {:.4}, with best C: {}'.format(clf.best_score_, clf.best_params_['C']))"
   ]
  },
  {
   "cell_type": "code",
   "execution_count": 31,
   "metadata": {},
   "outputs": [
    {
     "data": {
      "text/plain": [
       "array([ 0.62456812,  0.65422996,  0.35796356, ...,  0.09473379,\n",
       "        0.70569841,  0.65212157])"
      ]
     },
     "execution_count": 31,
     "metadata": {},
     "output_type": "execute_result"
    }
   ],
   "source": [
    "## Make predictions\n",
    "preds = clf.predict_proba(train_x)[:,1]\n",
    "\n",
    "clipped_preds = np.clip(preds, 0.05, 0.95)\n",
    "clipped_preds"
   ]
  },
  {
   "cell_type": "code",
   "execution_count": 32,
   "metadata": {},
   "outputs": [
    {
     "data": {
      "text/plain": [
       "pandas.core.frame.DataFrame"
      ]
     },
     "execution_count": 32,
     "metadata": {},
     "output_type": "execute_result"
    }
   ],
   "source": [
    "type(train_x)"
   ]
  },
  {
   "cell_type": "code",
   "execution_count": 33,
   "metadata": {
    "collapsed": true
   },
   "outputs": [],
   "source": [
    "#pd.X"
   ]
  },
  {
   "cell_type": "code",
   "execution_count": 34,
   "metadata": {
    "collapsed": true
   },
   "outputs": [],
   "source": [
    "#np.arange(-10, 10).reshape(-1, 1)"
   ]
  },
  {
   "cell_type": "code",
   "execution_count": 35,
   "metadata": {
    "collapsed": true
   },
   "outputs": [],
   "source": [
    "#preds"
   ]
  },
  {
   "cell_type": "code",
   "execution_count": 36,
   "metadata": {
    "collapsed": true
   },
   "outputs": [],
   "source": [
    "#X"
   ]
  },
  {
   "cell_type": "code",
   "execution_count": 37,
   "metadata": {},
   "outputs": [
    {
     "data": {
      "image/png": "[encoded data removed]",
      "text/plain": [
       "<matplotlib.figure.Figure at 0x1a1056ac50>"
      ]
     },
     "metadata": {},
     "output_type": "display_data"
    }
   ],
   "source": [
    "## Plot to confirm intuition that greater positive seed difference indicates higher win probability\n",
    "X = np.arange(0, 10).reshape(1, -1)\n",
    "preds = clf.predict_proba(X)[:,1]\n",
    "\n",
    "plt.plot(X, preds)\n",
    "plt.xlabel('Team1 seed - Team2 seed')\n",
    "plt.ylabel('P(Team1 will win)')\n",
    "plt.ylim(0, 1)\n",
    "plt.show()"
   ]
  },
  {
   "cell_type": "code",
   "execution_count": 38,
   "metadata": {
    "collapsed": true
   },
   "outputs": [],
   "source": [
    "#df_sample_sub.to_csv('test-submission.csv', index=False)"
   ]
  },
  {
   "cell_type": "code",
   "execution_count": null,
   "metadata": {
    "collapsed": true
   },
   "outputs": [],
   "source": []
  },
  {
   "cell_type": "code",
   "execution_count": null,
   "metadata": {
    "collapsed": true
   },
   "outputs": [],
   "source": []
  },
  {
   "cell_type": "code",
   "execution_count": null,
   "metadata": {
    "collapsed": true
   },
   "outputs": [],
   "source": []
  },
  {
   "cell_type": "markdown",
   "metadata": {},
   "source": [
    "## Evaluation"
   ]
  },
  {
   "cell_type": "code",
   "execution_count": 39,
   "metadata": {
    "collapsed": true
   },
   "outputs": [],
   "source": [
    "#Suggest to move go the fiirst coding unite\n",
    "from sklearn.metrics import log_loss\n",
    "from sklearn.cross_validation import train_test_split, cross_val_score\n",
    "from sklearn.metrics import roc_curve, auc\n",
    "from sklearn.metrics import accuracy_score"
   ]
  },
  {
   "cell_type": "markdown",
   "metadata": {},
   "source": [
    "### Log Loss"
   ]
  },
  {
   "cell_type": "markdown",
   "metadata": {},
   "source": [
    "- Log Loss is the most important classification metric based on probabilities. It is also a key way of evaluation of our prediction from Kaggle NCAA page. \n",
    "- It is also called the Log Likelihood Function. The log of the likelihood that the 2018 tournament bracket actually happens based on our prediction of wining probability of each team matchups.\n",
    "\n",
    "$$\n",
    "LogLoss = \\sum_{i=1}^{n} [y_i log(\\hat{y_i})+(1-y_i) log(1-\\hat{y_i})]\n",
    "$$\n",
    "\n",
    "- The result will be a negative number that's in a range computers keep track of. However, Scikit-learn has a conventin in its metrics that lower scores are better. \n",
    "    - So, scikit-learn report $$-1* \\frac{LogLoss}{NumObservations}$$\n",
    "    \n",
    "$$\n",
    "LogLoss = -\\frac{1}{n} \\sum_{i=1}^{n} [y_i log(\\hat{y_i})+(1-y_i) log(1-\\hat{y_i})]\n",
    "$$\n",
    "    \n",
    "    The division by the number of datapoints is used so the range of values doesn't systematically vary with the dataset size. \n",
    "    - The rage of that is 0 to infinit. \n",
    "    - The lower the metrix is, the better model performance is.\n",
    "- Log loss penalizes both types of errors, but especially those predications that are confident and wrong."
   ]
  },
  {
   "cell_type": "code",
   "execution_count": 40,
   "metadata": {},
   "outputs": [
    {
     "data": {
      "text/html": [
       "<div>\n",
       "<style>\n",
       "    .dataframe thead tr:only-child th {\n",
       "        text-align: right;\n",
       "    }\n",
       "\n",
       "    .dataframe thead th {\n",
       "        text-align: left;\n",
       "    }\n",
       "\n",
       "    .dataframe tbody tr th {\n",
       "        vertical-align: top;\n",
       "    }\n",
       "</style>\n",
       "<table border=\"1\" class=\"dataframe\">\n",
       "  <thead>\n",
       "    <tr style=\"text-align: right;\">\n",
       "      <th></th>\n",
       "      <th>ID</th>\n",
       "      <th>Result</th>\n",
       "      <th>Pred</th>\n",
       "    </tr>\n",
       "  </thead>\n",
       "  <tbody>\n",
       "    <tr>\n",
       "      <th>0</th>\n",
       "      <td>2018_3163_3384</td>\n",
       "      <td>1</td>\n",
       "      <td>0.5</td>\n",
       "    </tr>\n",
       "    <tr>\n",
       "      <th>1</th>\n",
       "      <td>2018_3274_3346</td>\n",
       "      <td>0</td>\n",
       "      <td>0.5</td>\n",
       "    </tr>\n",
       "    <tr>\n",
       "      <th>2</th>\n",
       "      <td>2018_3125_3181</td>\n",
       "      <td>0</td>\n",
       "      <td>0.5</td>\n",
       "    </tr>\n",
       "    <tr>\n",
       "      <th>3</th>\n",
       "      <td>2018_3208_3273</td>\n",
       "      <td>1</td>\n",
       "      <td>0.5</td>\n",
       "    </tr>\n",
       "    <tr>\n",
       "      <th>4</th>\n",
       "      <td>2018_3138_3378</td>\n",
       "      <td>1</td>\n",
       "      <td>0.5</td>\n",
       "    </tr>\n",
       "  </tbody>\n",
       "</table>\n",
       "</div>"
      ],
      "text/plain": [
       "               ID  Result  Pred\n",
       "0  2018_3163_3384       1   0.5\n",
       "1  2018_3274_3346       0   0.5\n",
       "2  2018_3125_3181       0   0.5\n",
       "3  2018_3208_3273       1   0.5\n",
       "4  2018_3138_3378       1   0.5"
      ]
     },
     "execution_count": 40,
     "metadata": {},
     "output_type": "execute_result"
    }
   ],
   "source": [
    "df_sub = pd.read_csv('WSampleSubmissionStage2.csv')\n",
    "df_result = pd.read_csv('NCAA_Result_2018.csv')\n",
    "df_eval = df_result.merge(df_sub, left_on='ID', right_on='ID', how='left')\n",
    "df_eval.head()"
   ]
  },
  {
   "cell_type": "code",
   "execution_count": 41,
   "metadata": {},
   "outputs": [
    {
     "data": {
      "text/plain": [
       "0.69314718055994551"
      ]
     },
     "execution_count": 41,
     "metadata": {},
     "output_type": "execute_result"
    }
   ],
   "source": [
    "y_pred = df_eval.loc[:,'Pred'].as_matrix()\n",
    "y_true = df_eval.loc[:,'Result'].as_matrix()\n",
    "log_loss(y_true, y_pred, eps=1e-15)"
   ]
  },
  {
   "cell_type": "markdown",
   "metadata": {},
   "source": [
    "In our case, the Log Loss value is ......"
   ]
  },
  {
   "cell_type": "markdown",
   "metadata": {},
   "source": [
    "### Accuracy"
   ]
  },
  {
   "cell_type": "markdown",
   "metadata": {},
   "source": [
    "Accuracy measures a fraction of the classifier's predictions that are correct."
   ]
  },
  {
   "cell_type": "code",
   "execution_count": 42,
   "metadata": {},
   "outputs": [
    {
     "data": {
      "text/html": [
       "<div>\n",
       "<style>\n",
       "    .dataframe thead tr:only-child th {\n",
       "        text-align: right;\n",
       "    }\n",
       "\n",
       "    .dataframe thead th {\n",
       "        text-align: left;\n",
       "    }\n",
       "\n",
       "    .dataframe tbody tr th {\n",
       "        vertical-align: top;\n",
       "    }\n",
       "</style>\n",
       "<table border=\"1\" class=\"dataframe\">\n",
       "  <thead>\n",
       "    <tr style=\"text-align: right;\">\n",
       "      <th></th>\n",
       "      <th>ID</th>\n",
       "      <th>Result</th>\n",
       "      <th>Pred</th>\n",
       "      <th>Pred_b</th>\n",
       "    </tr>\n",
       "  </thead>\n",
       "  <tbody>\n",
       "    <tr>\n",
       "      <th>0</th>\n",
       "      <td>2018_3163_3384</td>\n",
       "      <td>1</td>\n",
       "      <td>0.5</td>\n",
       "      <td>1</td>\n",
       "    </tr>\n",
       "    <tr>\n",
       "      <th>1</th>\n",
       "      <td>2018_3274_3346</td>\n",
       "      <td>0</td>\n",
       "      <td>0.5</td>\n",
       "      <td>1</td>\n",
       "    </tr>\n",
       "    <tr>\n",
       "      <th>2</th>\n",
       "      <td>2018_3125_3181</td>\n",
       "      <td>0</td>\n",
       "      <td>0.5</td>\n",
       "      <td>1</td>\n",
       "    </tr>\n",
       "    <tr>\n",
       "      <th>3</th>\n",
       "      <td>2018_3208_3273</td>\n",
       "      <td>1</td>\n",
       "      <td>0.5</td>\n",
       "      <td>1</td>\n",
       "    </tr>\n",
       "    <tr>\n",
       "      <th>4</th>\n",
       "      <td>2018_3138_3378</td>\n",
       "      <td>1</td>\n",
       "      <td>0.5</td>\n",
       "      <td>1</td>\n",
       "    </tr>\n",
       "  </tbody>\n",
       "</table>\n",
       "</div>"
      ],
      "text/plain": [
       "               ID  Result  Pred  Pred_b\n",
       "0  2018_3163_3384       1   0.5       1\n",
       "1  2018_3274_3346       0   0.5       1\n",
       "2  2018_3125_3181       0   0.5       1\n",
       "3  2018_3208_3273       1   0.5       1\n",
       "4  2018_3138_3378       1   0.5       1"
      ]
     },
     "execution_count": 42,
     "metadata": {},
     "output_type": "execute_result"
    }
   ],
   "source": [
    "df_eval['Pred_b'] = np.where(df_eval['Pred']>=0.5, 1, 0) \n",
    "df_eval.head()"
   ]
  },
  {
   "cell_type": "code",
   "execution_count": 43,
   "metadata": {
    "collapsed": true
   },
   "outputs": [],
   "source": [
    "y_pred_b = df_eval.loc[:,'Pred_b'].as_matrix()\n",
    "y_true = df_eval.loc[:,'Result'].as_matrix()"
   ]
  },
  {
   "cell_type": "code",
   "execution_count": 44,
   "metadata": {},
   "outputs": [
    {
     "data": {
      "text/plain": [
       "0.53968253968253965"
      ]
     },
     "execution_count": 44,
     "metadata": {},
     "output_type": "execute_result"
    }
   ],
   "source": [
    "accuracy_score(y_true, y_pred_b)"
   ]
  },
  {
   "cell_type": "markdown",
   "metadata": {},
   "source": [
    "In our case, the accuracy score is ..."
   ]
  },
  {
   "cell_type": "markdown",
   "metadata": {},
   "source": [
    "### F1 measure with Cross Validation"
   ]
  },
  {
   "cell_type": "markdown",
   "metadata": {},
   "source": [
    "- **Precision** is the fraction of positive predictions that are correct, which means the team who we predicts as winner that are actually winner. \n",
    "    - (TP = True Positive, FP = False Positive)\n",
    "\n",
    "$$ P = \\frac{TP}{TP+FP}$$\n",
    "\n",
    "\n",
    "- **Recall**, the true positive rate, is the fraction of the truly positive instances that the classifier recognizes. A recall score of one indicates that the classifier did not make any false negative predictions.\n",
    "In our case, recall is the fraction of winner team that were truly classified as winner, according to our prediction of winning proberbility. \n",
    "    - (TP = True Positive, FN = False Negative)\n",
    "    \n",
    "$$ P = \\frac{TP}{TP+FN}$$"
   ]
  },
  {
   "cell_type": "code",
   "execution_count": 45,
   "metadata": {},
   "outputs": [
    {
     "name": "stdout",
     "output_type": "stream",
     "text": [
      "Precision 0.774215197293 [ 0.7703252   0.79324895  0.77593361  0.76171079  0.76985743]\n",
      "Recalls 0.774617962751 [ 0.77983539  0.77160494  0.77113402  0.77113402  0.77938144]\n"
     ]
    }
   ],
   "source": [
    "precisions = cross_val_score(logreg, train_x, train_y, cv=5, scoring='precision')\n",
    "print ('Precision', np.mean(precisions), precisions)\n",
    "\n",
    "recalls = cross_val_score(logreg, train_x, train_y, cv=5, scoring='recall')\n",
    "print ('Recalls', np.mean(recalls), recalls)"
   ]
  },
  {
   "cell_type": "markdown",
   "metadata": {},
   "source": [
    "In our case, the precision and recalls are..."
   ]
  },
  {
   "cell_type": "markdown",
   "metadata": {},
   "source": [
    "- The **F1 measure** is the harmonic mean, or weighted average, of the precision and recall scores. Also called the f-measure or the f-score. \n",
    "    - (P = precision, R = recall) \n",
    "    $$ F1 = 2 \\frac{PR}{P+R}$$\n",
    "\n",
    "    \n",
    "- The F1 measure penalizes classifiers with imbalanced precision and recall scores, like the trivial classifier that always predicts the positive class. \n",
    "- A model with perfect precision and recall scores will achieve an F1 score of 1. A model with a perfect precision score and a recall score of zero will achieve an F1 score of 0.\n",
    "- Models are sometimes evaluated using the F0.5 and F2 scores, which favor precision over recall and recall over precision, respectively."
   ]
  },
  {
   "cell_type": "code",
   "execution_count": 46,
   "metadata": {},
   "outputs": [
    {
     "name": "stdout",
     "output_type": "stream",
     "text": [
      "F1 0.77457888697 [ 0.77505112  0.78333333  0.77352637  0.76639344  0.77459016]\n"
     ]
    }
   ],
   "source": [
    "f1s = cross_val_score(logreg, train_x, train_y, cv=5, scoring='f1')\n",
    "print ('F1', np.mean(f1s), f1s)"
   ]
  },
  {
   "cell_type": "markdown",
   "metadata": {},
   "source": [
    "In our case, the arithmetic mean of our classifier's precision and recall scores is 0.77. As the difference between the classifier's precision and recall is small, the F1 measure's penalty is small. "
   ]
  },
  {
   "cell_type": "markdown",
   "metadata": {
    "collapsed": true
   },
   "source": [
    "### ROC Curve"
   ]
  },
  {
   "cell_type": "markdown",
   "metadata": {},
   "source": [
    "- Receiver Operating Characteristic, or ROC curve, visualizes a classifier's performance.\n",
    "- ROC curve illustrates the classifier's performance for all values of the discrimination threshold. \n",
    "    - The true positive rate (Sensitivity, Recall ) is plotted in function of the false positive rate (100-Specificity, Fall-out) for different cut-off points. \n",
    "    - Each point on the ROC curve represents a sensitivity/specificity pair corresponding to a particular decision threshold. \n",
    "- AUC is the area under the ROC curve; it reduces the ROC curve to a single value, which represents the expected performance of the classifier. \n",
    "- The dashed line in the following figure is for a classifier that predicts classes randomly; it has an AUC of 0.5. The solid curve is for a classifier that outperforms random guessing.\n",
    "- A test with perfect discrimination (no overlap in the two distributions) has a ROC curve that passes through the upper left corner (100% sensitivity, 100% specificity). Therefore the closer the ROC curve is to the upper left corner, the higher the overall accuracy of the test (Zweig & Campbell, 1993)\n",
    "\n",
    "https://www.medcalc.org/manual/roc-curves.php"
   ]
  },
  {
   "cell_type": "code",
   "execution_count": 47,
   "metadata": {},
   "outputs": [
    {
     "data": {
      "image/png": "[encoded data removed]",
      "text/plain": [
       "<matplotlib.figure.Figure at 0x1a105670f0>"
      ]
     },
     "metadata": {},
     "output_type": "display_data"
    }
   ],
   "source": [
    "false_positive_rate, recall, thresholds = roc_curve(y_true,\n",
    "y_pred)\n",
    "roc_auc = auc(false_positive_rate, recall)\n",
    "\n",
    "\n",
    "plt.title('Receiver Operating Characteristic (ROC curve)')\n",
    "plt.plot(false_positive_rate, recall, 'b', label='AUC = %0.2f' %\n",
    "roc_auc)\n",
    "plt.legend(loc='lower right')\n",
    "plt.plot([0, 1], [0, 1], 'r--')\n",
    "plt.xlim([0.0, 1.0])\n",
    "plt.ylim([0.0, 1.0])\n",
    "plt.ylabel('Recall: True positive rate (Sesitivity)')\n",
    "plt.xlabel('Fall-out: False positive rate (100-Specifity)')\n",
    "plt.show()"
   ]
  },
  {
   "cell_type": "markdown",
   "metadata": {},
   "source": [
    "In our case, the ROC curve ......"
   ]
  },
  {
   "cell_type": "markdown",
   "metadata": {},
   "source": [
    "### Evaluation Summary"
   ]
  },
  {
   "cell_type": "markdown",
   "metadata": {},
   "source": [
    "After checking Log Loss, Accuracy, Precision and recall, F1 measure, and ROC Curve, the model...."
   ]
  },
  {
   "cell_type": "markdown",
   "metadata": {},
   "source": [
    "## Deployment\n",
    "\n",
    "- How is the model deployed?\n",
    "  - prediction service?\n",
    "  - serialized model?\n",
    "  - regression coefficients?\n",
    "- What support is provided after initial deployment?"
   ]
  },
  {
   "cell_type": "code",
   "execution_count": null,
   "metadata": {
    "collapsed": true
   },
   "outputs": [],
   "source": []
  },
  {
   "cell_type": "code",
   "execution_count": null,
   "metadata": {
    "collapsed": true
   },
   "outputs": [],
   "source": []
  },
  {
   "cell_type": "code",
   "execution_count": null,
   "metadata": {
    "collapsed": true
   },
   "outputs": [],
   "source": []
  },
  {
   "cell_type": "code",
   "execution_count": null,
   "metadata": {
    "collapsed": true
   },
   "outputs": [],
   "source": []
  }
 ],
 "metadata": {
  "kernelspec": {
   "display_name": "Python 2",
   "language": "python",
   "name": "python2"
  },
  "language_info": {
   "codemirror_mode": {
    "name": "ipython",
    "version": 2
   },
   "file_extension": ".py",
   "mimetype": "text/x-python",
   "name": "python",
   "nbconvert_exporter": "python",
   "pygments_lexer": "ipython2",
   "version": "2.7.14"
  }
 },
 "nbformat": 4,
 "nbformat_minor": 2
}
