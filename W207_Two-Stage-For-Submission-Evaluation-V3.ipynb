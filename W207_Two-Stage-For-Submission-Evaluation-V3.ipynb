{
 "cells": [
  {
   "cell_type": "markdown",
   "metadata": {},
   "source": [
    "# NCAA ML Competition - Women's 2018\n",
    "## W207 Final Project\n",
    "## Julia Buffinton, Charlene Chen, Arvindh Ganesan, Prashant Kumar Sahay\n",
    "### Due: 4/17/18"
   ]
  },
  {
   "cell_type": "markdown",
   "metadata": {},
   "source": [
    "## Import Relevant Libraries"
   ]
  },
  {
   "cell_type": "code",
   "execution_count": 1,
   "metadata": {
    "scrolled": false
   },
   "outputs": [
    {
     "name": "stderr",
     "output_type": "stream",
     "text": [
      "/Users/chenyingcharlene/anaconda3/lib/python3.6/site-packages/sklearn/cross_validation.py:41: DeprecationWarning: This module was deprecated in version 0.18 in favor of the model_selection module into which all the refactored classes and functions are moved. Also note that the interface of the new CV iterators are different from that of this module. This module will be removed in 0.20.\n",
      "  \"This module will be removed in 0.20.\", DeprecationWarning)\n",
      "/Users/chenyingcharlene/anaconda3/lib/python3.6/site-packages/sklearn/grid_search.py:42: DeprecationWarning: This module was deprecated in version 0.18 in favor of the model_selection module into which all the refactored classes and functions are moved. This module will be removed in 0.20.\n",
      "  DeprecationWarning)\n"
     ]
    }
   ],
   "source": [
    "# This tells matplotlib not to try opening a new window for each plot.\n",
    "%matplotlib inline\n",
    "\n",
    "# General libraries.\n",
    "import numpy as np\n",
    "import pandas as pd\n",
    "import matplotlib.pyplot as plt\n",
    "import itertools as it\n",
    "\n",
    "# SK-learn libraries for learning.\n",
    "from sklearn.pipeline import Pipeline\n",
    "from sklearn.neighbors import KNeighborsClassifier\n",
    "from sklearn.linear_model import LogisticRegression\n",
    "from sklearn.linear_model import LogisticRegressionCV\n",
    "from sklearn.linear_model import LinearRegression\n",
    "from sklearn.naive_bayes import BernoulliNB\n",
    "from sklearn.naive_bayes import MultinomialNB\n",
    "from sklearn.naive_bayes import GaussianNB\n",
    "from sklearn.grid_search import GridSearchCV\n",
    "from sklearn.ensemble import RandomForestClassifier\n",
    "from sklearn.ensemble import GradientBoostingClassifier\n",
    "from sklearn import svm\n",
    "\n",
    "# SK-learn libraries for evaluation.\n",
    "from sklearn.metrics import confusion_matrix\n",
    "from sklearn import metrics\n",
    "from sklearn.metrics import classification_report\n",
    "from sklearn.metrics import log_loss\n",
    "from sklearn.cross_validation import train_test_split, cross_val_score\n",
    "from sklearn.metrics import roc_curve, auc\n",
    "from sklearn.metrics import accuracy_score"
   ]
  },
  {
   "cell_type": "markdown",
   "metadata": {},
   "source": [
    "## Load regular season data"
   ]
  },
  {
   "cell_type": "markdown",
   "metadata": {},
   "source": [
    "First we load the datasets that were provided from Kaggle. We did construct a `WLeagues.csv` file based on information from NCAA regarding to which leagues the teams below. Also, the `df_tour_18` file includes the games that were actually played in the NCAA tournament, which we will use for evaluation at the end. "
   ]
  },
  {
   "cell_type": "code",
   "execution_count": 2,
   "metadata": {
    "collapsed": true,
    "scrolled": true
   },
   "outputs": [],
   "source": [
    "# Load the data\n",
    "data_dir = './WStage2DataFiles/'\n",
    "df_seeds = pd.read_csv(data_dir + 'WNCAATourneySeeds.csv')\n",
    "df_tour_compact = pd.read_csv(data_dir + 'WNCAATourneyCompactResults.csv')\n",
    "df_tour_detail = pd.read_csv(data_dir + 'WNCAATourneyDetailedResults.csv')\n",
    "df_reg_compact = pd.read_csv(data_dir + 'WRegularSeasonCompactResults.csv')\n",
    "df_reg_detail = pd.read_csv(data_dir + 'WRegularSeasonDetailedResults.csv')\n",
    "df_teams = pd.read_csv(data_dir + 'WTeams.csv')\n",
    "df_teams_leagues = pd.merge(left=df_teams, right=pd.read_csv(data_dir + 'WLeagues.csv'), how='left', on=['TeamName'])\n",
    "df_tour_18 = pd.read_csv('NCAA_Result_2018_sep.csv')"
   ]
  },
  {
   "cell_type": "markdown",
   "metadata": {},
   "source": [
    "## Get just numeric seeds - we aren't interested in region"
   ]
  },
  {
   "cell_type": "markdown",
   "metadata": {},
   "source": [
    "We believe that the region to which a team belongs is not informative of their standings (Seed 7 in the East Region is not inherently different from Seed 7 in the South) so we strip that information and move forward with only the numerical seed information.\n"
   ]
  },
  {
   "cell_type": "code",
   "execution_count": 3,
   "metadata": {
    "collapsed": true
   },
   "outputs": [],
   "source": [
    "# get just integer value of seed (exclude region information)\n",
    "def seed_to_int(seed):\n",
    "    #Get just the digits from the seeding. Return as int\n",
    "    s_int = int(seed[1:3])\n",
    "    return s_int\n",
    "df_seeds['SeedInt'] = df_seeds.Seed.apply(seed_to_int)\n",
    "df_seeds.drop(labels=['Seed'], inplace=True, axis=1) # This is the string label"
   ]
  },
  {
   "cell_type": "markdown",
   "metadata": {},
   "source": [
    "## Load the league that each team belongs to"
   ]
  },
  {
   "cell_type": "code",
   "execution_count": 4,
   "metadata": {},
   "outputs": [
    {
     "data": {
      "text/html": [
       "<div>\n",
       "<style>\n",
       "    .dataframe thead tr:only-child th {\n",
       "        text-align: right;\n",
       "    }\n",
       "\n",
       "    .dataframe thead th {\n",
       "        text-align: left;\n",
       "    }\n",
       "\n",
       "    .dataframe tbody tr th {\n",
       "        vertical-align: top;\n",
       "    }\n",
       "</style>\n",
       "<table border=\"1\" class=\"dataframe\">\n",
       "  <thead>\n",
       "    <tr style=\"text-align: right;\">\n",
       "      <th></th>\n",
       "      <th>WTeamID</th>\n",
       "      <th>WLeagueName</th>\n",
       "    </tr>\n",
       "  </thead>\n",
       "  <tbody>\n",
       "    <tr>\n",
       "      <th>0</th>\n",
       "      <td>3101</td>\n",
       "      <td>Southland</td>\n",
       "    </tr>\n",
       "    <tr>\n",
       "      <th>1</th>\n",
       "      <td>3102</td>\n",
       "      <td>MWC</td>\n",
       "    </tr>\n",
       "    <tr>\n",
       "      <th>2</th>\n",
       "      <td>3103</td>\n",
       "      <td>MAC</td>\n",
       "    </tr>\n",
       "    <tr>\n",
       "      <th>3</th>\n",
       "      <td>3104</td>\n",
       "      <td>SEC</td>\n",
       "    </tr>\n",
       "    <tr>\n",
       "      <th>4</th>\n",
       "      <td>3105</td>\n",
       "      <td>SWAC</td>\n",
       "    </tr>\n",
       "  </tbody>\n",
       "</table>\n",
       "</div>"
      ],
      "text/plain": [
       "   WTeamID WLeagueName\n",
       "0     3101   Southland\n",
       "1     3102         MWC\n",
       "2     3103         MAC\n",
       "3     3104         SEC\n",
       "4     3105        SWAC"
      ]
     },
     "execution_count": 4,
     "metadata": {},
     "output_type": "execute_result"
    }
   ],
   "source": [
    "df_winning_team_leagues = df_teams_leagues.rename(columns={'TeamID' : 'WTeamID', 'LeagueName' : 'WLeagueName'}).drop('TeamName',1)\n",
    "df_winning_team_leagues.head()"
   ]
  },
  {
   "cell_type": "markdown",
   "metadata": {},
   "source": [
    "## Load and bin league performance (to dampen the effect of small variations)"
   ]
  },
  {
   "cell_type": "markdown",
   "metadata": {},
   "source": [
    "We gather league performance information (based on the performance of teams from that league in the NCAA tournament) and bin the values to dampen the effect of small variation.  We combine this with each team to represent the performance of the league they're in. This information can be used in conjunction with regular season field performance stats to indciate enhance our understanding of a team's performance."
   ]
  },
  {
   "cell_type": "code",
   "execution_count": 5,
   "metadata": {
    "scrolled": true
   },
   "outputs": [
    {
     "data": {
      "text/html": [
       "<div>\n",
       "<style>\n",
       "    .dataframe thead tr:only-child th {\n",
       "        text-align: right;\n",
       "    }\n",
       "\n",
       "    .dataframe thead th {\n",
       "        text-align: left;\n",
       "    }\n",
       "\n",
       "    .dataframe tbody tr th {\n",
       "        vertical-align: top;\n",
       "    }\n",
       "</style>\n",
       "<table border=\"1\" class=\"dataframe\">\n",
       "  <thead>\n",
       "    <tr style=\"text-align: right;\">\n",
       "      <th></th>\n",
       "      <th>TeamID</th>\n",
       "      <th>Leaguebin</th>\n",
       "    </tr>\n",
       "  </thead>\n",
       "  <tbody>\n",
       "    <tr>\n",
       "      <th>0</th>\n",
       "      <td>3101</td>\n",
       "      <td>1.0</td>\n",
       "    </tr>\n",
       "    <tr>\n",
       "      <th>1</th>\n",
       "      <td>3102</td>\n",
       "      <td>7.0</td>\n",
       "    </tr>\n",
       "    <tr>\n",
       "      <th>2</th>\n",
       "      <td>3103</td>\n",
       "      <td>2.0</td>\n",
       "    </tr>\n",
       "    <tr>\n",
       "      <th>3</th>\n",
       "      <td>3104</td>\n",
       "      <td>23.0</td>\n",
       "    </tr>\n",
       "    <tr>\n",
       "      <th>4</th>\n",
       "      <td>3105</td>\n",
       "      <td>0.0</td>\n",
       "    </tr>\n",
       "  </tbody>\n",
       "</table>\n",
       "</div>"
      ],
      "text/plain": [
       "   TeamID  Leaguebin\n",
       "0    3101        1.0\n",
       "1    3102        7.0\n",
       "2    3103        2.0\n",
       "3    3104       23.0\n",
       "4    3105        0.0"
      ]
     },
     "execution_count": 5,
     "metadata": {},
     "output_type": "execute_result"
    }
   ],
   "source": [
    "## Bin league performance into 10 bins\n",
    "df_league_perf = pd.read_pickle('league_performance')\n",
    "df_league_perf['Leaguebin'] = pd.cut(df_league_perf['PctWins mean'], 24, labels=False)\n",
    "\n",
    "df_league_perf = df_league_perf[['LeagueName', 'Leaguebin']]\n",
    "df_team_league_perf = pd.merge(left=df_teams_leagues, right=df_league_perf, how='left', on=['LeagueName'])\n",
    "\n",
    "df_team_league_perf = df_team_league_perf[['TeamID', 'Leaguebin']]\n",
    "df_team_league_perf.head()"
   ]
  },
  {
   "cell_type": "markdown",
   "metadata": {},
   "source": [
    "We then merge this information with the game statistics. "
   ]
  },
  {
   "cell_type": "code",
   "execution_count": 6,
   "metadata": {},
   "outputs": [
    {
     "data": {
      "text/html": [
       "<div>\n",
       "<style>\n",
       "    .dataframe thead tr:only-child th {\n",
       "        text-align: right;\n",
       "    }\n",
       "\n",
       "    .dataframe thead th {\n",
       "        text-align: left;\n",
       "    }\n",
       "\n",
       "    .dataframe tbody tr th {\n",
       "        vertical-align: top;\n",
       "    }\n",
       "</style>\n",
       "<table border=\"1\" class=\"dataframe\">\n",
       "  <thead>\n",
       "    <tr style=\"text-align: right;\">\n",
       "      <th></th>\n",
       "      <th>Season</th>\n",
       "      <th>DayNum</th>\n",
       "      <th>WTeamID</th>\n",
       "      <th>WScore</th>\n",
       "      <th>LTeamID</th>\n",
       "      <th>LScore</th>\n",
       "      <th>WLoc</th>\n",
       "      <th>NumOT</th>\n",
       "      <th>WFGM</th>\n",
       "      <th>WFGA</th>\n",
       "      <th>...</th>\n",
       "      <th>LFTA</th>\n",
       "      <th>LOR</th>\n",
       "      <th>LDR</th>\n",
       "      <th>LAst</th>\n",
       "      <th>LTO</th>\n",
       "      <th>LStl</th>\n",
       "      <th>LBlk</th>\n",
       "      <th>LPF</th>\n",
       "      <th>WLeagueName</th>\n",
       "      <th>LLeagueName</th>\n",
       "    </tr>\n",
       "  </thead>\n",
       "  <tbody>\n",
       "    <tr>\n",
       "      <th>0</th>\n",
       "      <td>2010</td>\n",
       "      <td>11</td>\n",
       "      <td>3103</td>\n",
       "      <td>63</td>\n",
       "      <td>3237</td>\n",
       "      <td>49</td>\n",
       "      <td>H</td>\n",
       "      <td>0</td>\n",
       "      <td>23</td>\n",
       "      <td>54</td>\n",
       "      <td>...</td>\n",
       "      <td>10</td>\n",
       "      <td>11</td>\n",
       "      <td>27</td>\n",
       "      <td>11</td>\n",
       "      <td>23</td>\n",
       "      <td>7</td>\n",
       "      <td>6</td>\n",
       "      <td>19</td>\n",
       "      <td>MAC</td>\n",
       "      <td>Horizon</td>\n",
       "    </tr>\n",
       "    <tr>\n",
       "      <th>1</th>\n",
       "      <td>2010</td>\n",
       "      <td>11</td>\n",
       "      <td>3104</td>\n",
       "      <td>73</td>\n",
       "      <td>3399</td>\n",
       "      <td>68</td>\n",
       "      <td>N</td>\n",
       "      <td>0</td>\n",
       "      <td>26</td>\n",
       "      <td>62</td>\n",
       "      <td>...</td>\n",
       "      <td>27</td>\n",
       "      <td>14</td>\n",
       "      <td>26</td>\n",
       "      <td>7</td>\n",
       "      <td>20</td>\n",
       "      <td>4</td>\n",
       "      <td>2</td>\n",
       "      <td>27</td>\n",
       "      <td>SEC</td>\n",
       "      <td>OVC</td>\n",
       "    </tr>\n",
       "    <tr>\n",
       "      <th>2</th>\n",
       "      <td>2010</td>\n",
       "      <td>11</td>\n",
       "      <td>3110</td>\n",
       "      <td>71</td>\n",
       "      <td>3224</td>\n",
       "      <td>59</td>\n",
       "      <td>A</td>\n",
       "      <td>0</td>\n",
       "      <td>29</td>\n",
       "      <td>62</td>\n",
       "      <td>...</td>\n",
       "      <td>23</td>\n",
       "      <td>17</td>\n",
       "      <td>23</td>\n",
       "      <td>8</td>\n",
       "      <td>15</td>\n",
       "      <td>6</td>\n",
       "      <td>0</td>\n",
       "      <td>15</td>\n",
       "      <td>Patriot</td>\n",
       "      <td>MEAC</td>\n",
       "    </tr>\n",
       "    <tr>\n",
       "      <th>3</th>\n",
       "      <td>2010</td>\n",
       "      <td>11</td>\n",
       "      <td>3111</td>\n",
       "      <td>63</td>\n",
       "      <td>3267</td>\n",
       "      <td>58</td>\n",
       "      <td>A</td>\n",
       "      <td>0</td>\n",
       "      <td>27</td>\n",
       "      <td>52</td>\n",
       "      <td>...</td>\n",
       "      <td>25</td>\n",
       "      <td>22</td>\n",
       "      <td>22</td>\n",
       "      <td>15</td>\n",
       "      <td>11</td>\n",
       "      <td>14</td>\n",
       "      <td>5</td>\n",
       "      <td>14</td>\n",
       "      <td>Sun Belt</td>\n",
       "      <td>C-USA</td>\n",
       "    </tr>\n",
       "    <tr>\n",
       "      <th>4</th>\n",
       "      <td>2010</td>\n",
       "      <td>11</td>\n",
       "      <td>3119</td>\n",
       "      <td>74</td>\n",
       "      <td>3447</td>\n",
       "      <td>70</td>\n",
       "      <td>H</td>\n",
       "      <td>1</td>\n",
       "      <td>30</td>\n",
       "      <td>74</td>\n",
       "      <td>...</td>\n",
       "      <td>21</td>\n",
       "      <td>21</td>\n",
       "      <td>32</td>\n",
       "      <td>12</td>\n",
       "      <td>14</td>\n",
       "      <td>4</td>\n",
       "      <td>2</td>\n",
       "      <td>14</td>\n",
       "      <td>Patriot</td>\n",
       "      <td>NEC</td>\n",
       "    </tr>\n",
       "  </tbody>\n",
       "</table>\n",
       "<p>5 rows × 36 columns</p>\n",
       "</div>"
      ],
      "text/plain": [
       "   Season  DayNum  WTeamID  WScore  LTeamID  LScore WLoc  NumOT  WFGM  WFGA  \\\n",
       "0    2010      11     3103      63     3237      49    H      0    23    54   \n",
       "1    2010      11     3104      73     3399      68    N      0    26    62   \n",
       "2    2010      11     3110      71     3224      59    A      0    29    62   \n",
       "3    2010      11     3111      63     3267      58    A      0    27    52   \n",
       "4    2010      11     3119      74     3447      70    H      1    30    74   \n",
       "\n",
       "      ...       LFTA  LOR  LDR  LAst  LTO  LStl  LBlk  LPF  WLeagueName  \\\n",
       "0     ...         10   11   27    11   23     7     6   19          MAC   \n",
       "1     ...         27   14   26     7   20     4     2   27          SEC   \n",
       "2     ...         23   17   23     8   15     6     0   15      Patriot   \n",
       "3     ...         25   22   22    15   11    14     5   14     Sun Belt   \n",
       "4     ...         21   21   32    12   14     4     2   14      Patriot   \n",
       "\n",
       "   LLeagueName  \n",
       "0      Horizon  \n",
       "1          OVC  \n",
       "2         MEAC  \n",
       "3        C-USA  \n",
       "4          NEC  \n",
       "\n",
       "[5 rows x 36 columns]"
      ]
     },
     "execution_count": 6,
     "metadata": {},
     "output_type": "execute_result"
    }
   ],
   "source": [
    "## Inject winning and losing teams' leaugues into df\n",
    "# Total of 36 columns\n",
    "df_reg_detail = pd.merge(left=df_reg_detail, right=df_winning_team_leagues, how='left', on=['WTeamID'])\n",
    "\n",
    "df_losing_team_leagues = df_winning_team_leagues.rename(columns={'WTeamID': 'LTeamID', 'WLeagueName': 'LLeagueName'})\n",
    "df_reg_detail = pd.merge(left=df_reg_detail, right=df_losing_team_leagues, how='left', on=['LTeamID'])\n",
    "df_reg_detail.head()"
   ]
  },
  {
   "cell_type": "markdown",
   "metadata": {
    "collapsed": true
   },
   "source": [
    "## Feature Engineering"
   ]
  },
  {
   "cell_type": "markdown",
   "metadata": {},
   "source": [
    "Operationalize the notion of Point Opportunities Developed (POD) and Opportunity Convertion Rate (OCR)."
   ]
  },
  {
   "cell_type": "code",
   "execution_count": 7,
   "metadata": {
    "collapsed": true
   },
   "outputs": [],
   "source": [
    "## Add a few more columns \n",
    "## Now have a total of 44 columns\n",
    "\n",
    "df_reg_detail['WPOD'] = df_reg_detail.WFGA3 * 3 + (df_reg_detail.WFGA - df_reg_detail.WFGA3) * 2 + df_reg_detail.WFTA * 1\n",
    "df_reg_detail['LPOD'] = df_reg_detail.LFGA3 * 3 + (df_reg_detail.LFGA - df_reg_detail.LFGA3) * 2 + df_reg_detail.LFTA * 1\n",
    "\n",
    "df_reg_detail['WOCR'] = 1.0 * df_reg_detail.WScore / df_reg_detail.WPOD\n",
    "df_reg_detail['LOCR'] = 1.0 * df_reg_detail.LScore / df_reg_detail.LPOD\n",
    "\n",
    "df_reg_detail['WFGP'] = df_reg_detail.WFGM / df_reg_detail.WFGA ## Field goal percentage for the winning team\n",
    "df_reg_detail['LFGP'] = df_reg_detail.LFGM / df_reg_detail.LFGA ## Field goal percentage for the losing team\n",
    "\n",
    "df_reg_detail['WFTP'] = df_reg_detail.WFTM / df_reg_detail.WFTA ## Field goal percentage for the winning team\n",
    "df_reg_detail['LFTP'] = df_reg_detail.LFTM / df_reg_detail.LFTA ## Field goal percentage for the losing team"
   ]
  },
  {
   "cell_type": "markdown",
   "metadata": {},
   "source": [
    "Next, we will calculate each team's performance on given field statistics for each season. Then, we will compare it to the overall performance of their league (again for each season) and then de-mean and re-scale the performance of teams by league and season. Lastly, we bin performance to dampen small variations."
   ]
  },
  {
   "cell_type": "code",
   "execution_count": 8,
   "metadata": {
    "collapsed": true
   },
   "outputs": [],
   "source": [
    "# features of interest to aggregate\n",
    "features_todo = ['FGP','FTP','FGA','FTA','Ast','Blk','OR','DR','POD','OCR','Stl']"
   ]
  },
  {
   "cell_type": "code",
   "execution_count": 9,
   "metadata": {
    "collapsed": true
   },
   "outputs": [],
   "source": [
    "# take in string of feature name\n",
    "def calc_feats(dat,feat_list):\n",
    "    \n",
    "    # get just the list of teams, to build our features from\n",
    "    w_cols = dat[[col for col in dat if col.startswith('W')]].copy()\n",
    "    w_cols.columns = [s[1:] for s in w_cols.columns]\n",
    "    w_cols['Season'] = dat['Season']\n",
    "    \n",
    "    l_cols = dat[[col for col in dat if col.startswith('L')]].copy()\n",
    "    l_cols.columns = [s[1:] for s in l_cols.columns]\n",
    "    l_cols['Season'] = dat['Season']\n",
    "    \n",
    "    # this is a dataframe with all games for each season, with relevant stats for each team on a row\n",
    "    all_teams = pd.concat([w_cols,l_cols])\n",
    "    \n",
    "    all_tm_lg_szn = all_teams[['TeamID','LeagueName','Season']].drop_duplicates()\n",
    "    \n",
    "    for f in feat_list:\n",
    "        # aggregate data\n",
    "        team_agg = all_teams.groupby(['Season', 'LeagueName', 'TeamID'], as_index=False).agg({f:['mean']})\n",
    "        team_agg.columns = team_agg.columns.droplevel(1)\n",
    "\n",
    "        league_agg = all_teams.groupby(['Season', 'LeagueName'], as_index=False).agg({f:['mean','std']})\n",
    "        league_agg.columns = [''.join(col).strip() for col in league_agg.columns.values]\n",
    "        \n",
    "        team_agg = pd.merge(left=team_agg,right=league_agg,how='left',on=['Season','LeagueName'])\n",
    "        \n",
    "        team_agg[f+'norm'] = ((team_agg[f] - team_agg[f+'mean'])/ team_agg[f+'std'])\n",
    "        team_agg[f+'bin'] = pd.cut(team_agg[f+'norm'], 24, labels=False)\n",
    "        \n",
    "        all_tm_lg_szn = pd.merge(left=all_tm_lg_szn,right=team_agg,how='left',on=['Season','LeagueName','TeamID'])\n",
    "            \n",
    "    return all_tm_lg_szn  "
   ]
  },
  {
   "cell_type": "markdown",
   "metadata": {},
   "source": [
    "Merge the calculated aggregate information about each performance statistic with the dataframe of teams and league information. This is now our go-to resource for team-level information that will be used going forward. "
   ]
  },
  {
   "cell_type": "code",
   "execution_count": 10,
   "metadata": {
    "collapsed": true,
    "scrolled": false
   },
   "outputs": [],
   "source": [
    "# note: this includes teams from 2018\n",
    "df_engineered_features = calc_feats(df_reg_detail,features_todo)\n",
    "df_engineered_features = pd.merge(left=df_engineered_features,right=df_team_league_perf,how='left',on='TeamID')"
   ]
  },
  {
   "cell_type": "code",
   "execution_count": 11,
   "metadata": {},
   "outputs": [
    {
     "data": {
      "text/html": [
       "<div>\n",
       "<style>\n",
       "    .dataframe thead tr:only-child th {\n",
       "        text-align: right;\n",
       "    }\n",
       "\n",
       "    .dataframe thead th {\n",
       "        text-align: left;\n",
       "    }\n",
       "\n",
       "    .dataframe tbody tr th {\n",
       "        vertical-align: top;\n",
       "    }\n",
       "</style>\n",
       "<table border=\"1\" class=\"dataframe\">\n",
       "  <thead>\n",
       "    <tr style=\"text-align: right;\">\n",
       "      <th></th>\n",
       "      <th>TeamID</th>\n",
       "      <th>LeagueName</th>\n",
       "      <th>Season</th>\n",
       "      <th>FGP</th>\n",
       "      <th>FGPmean</th>\n",
       "      <th>FGPstd</th>\n",
       "      <th>FGPnorm</th>\n",
       "      <th>FGPbin</th>\n",
       "      <th>FTP</th>\n",
       "      <th>FTPmean</th>\n",
       "      <th>...</th>\n",
       "      <th>OCRmean</th>\n",
       "      <th>OCRstd</th>\n",
       "      <th>OCRnorm</th>\n",
       "      <th>OCRbin</th>\n",
       "      <th>Stl</th>\n",
       "      <th>Stlmean</th>\n",
       "      <th>Stlstd</th>\n",
       "      <th>Stlnorm</th>\n",
       "      <th>Stlbin</th>\n",
       "      <th>Leaguebin</th>\n",
       "    </tr>\n",
       "  </thead>\n",
       "  <tbody>\n",
       "    <tr>\n",
       "      <th>0</th>\n",
       "      <td>3103</td>\n",
       "      <td>MAC</td>\n",
       "      <td>2010</td>\n",
       "      <td>0.405346</td>\n",
       "      <td>0.402665</td>\n",
       "      <td>0.072138</td>\n",
       "      <td>0.037166</td>\n",
       "      <td>10</td>\n",
       "      <td>0.704329</td>\n",
       "      <td>0.698111</td>\n",
       "      <td>...</td>\n",
       "      <td>0.432482</td>\n",
       "      <td>0.068308</td>\n",
       "      <td>0.104973</td>\n",
       "      <td>11</td>\n",
       "      <td>8.033333</td>\n",
       "      <td>9.304709</td>\n",
       "      <td>3.193953</td>\n",
       "      <td>-0.398057</td>\n",
       "      <td>5</td>\n",
       "      <td>2.0</td>\n",
       "    </tr>\n",
       "    <tr>\n",
       "      <th>1</th>\n",
       "      <td>3104</td>\n",
       "      <td>SEC</td>\n",
       "      <td>2010</td>\n",
       "      <td>0.400770</td>\n",
       "      <td>0.415768</td>\n",
       "      <td>0.074202</td>\n",
       "      <td>-0.202128</td>\n",
       "      <td>8</td>\n",
       "      <td>0.621109</td>\n",
       "      <td>0.676910</td>\n",
       "      <td>...</td>\n",
       "      <td>0.437030</td>\n",
       "      <td>0.071290</td>\n",
       "      <td>-0.327385</td>\n",
       "      <td>7</td>\n",
       "      <td>7.379310</td>\n",
       "      <td>8.371495</td>\n",
       "      <td>3.859940</td>\n",
       "      <td>-0.257047</td>\n",
       "      <td>6</td>\n",
       "      <td>23.0</td>\n",
       "    </tr>\n",
       "    <tr>\n",
       "      <th>2</th>\n",
       "      <td>3110</td>\n",
       "      <td>Patriot</td>\n",
       "      <td>2010</td>\n",
       "      <td>0.399550</td>\n",
       "      <td>0.381652</td>\n",
       "      <td>0.067985</td>\n",
       "      <td>0.263277</td>\n",
       "      <td>12</td>\n",
       "      <td>0.740438</td>\n",
       "      <td>0.686326</td>\n",
       "      <td>...</td>\n",
       "      <td>0.410244</td>\n",
       "      <td>0.065445</td>\n",
       "      <td>0.343623</td>\n",
       "      <td>14</td>\n",
       "      <td>7.952381</td>\n",
       "      <td>7.600000</td>\n",
       "      <td>3.381968</td>\n",
       "      <td>0.104194</td>\n",
       "      <td>9</td>\n",
       "      <td>0.0</td>\n",
       "    </tr>\n",
       "    <tr>\n",
       "      <th>3</th>\n",
       "      <td>3111</td>\n",
       "      <td>Sun Belt</td>\n",
       "      <td>2010</td>\n",
       "      <td>0.435525</td>\n",
       "      <td>0.394316</td>\n",
       "      <td>0.076786</td>\n",
       "      <td>0.536670</td>\n",
       "      <td>14</td>\n",
       "      <td>0.622631</td>\n",
       "      <td>0.671585</td>\n",
       "      <td>...</td>\n",
       "      <td>0.422639</td>\n",
       "      <td>0.073208</td>\n",
       "      <td>0.376765</td>\n",
       "      <td>14</td>\n",
       "      <td>9.935484</td>\n",
       "      <td>8.425287</td>\n",
       "      <td>3.595169</td>\n",
       "      <td>0.420063</td>\n",
       "      <td>11</td>\n",
       "      <td>1.0</td>\n",
       "    </tr>\n",
       "    <tr>\n",
       "      <th>4</th>\n",
       "      <td>3119</td>\n",
       "      <td>Patriot</td>\n",
       "      <td>2010</td>\n",
       "      <td>0.358097</td>\n",
       "      <td>0.381652</td>\n",
       "      <td>0.067985</td>\n",
       "      <td>-0.346465</td>\n",
       "      <td>7</td>\n",
       "      <td>0.673364</td>\n",
       "      <td>0.686326</td>\n",
       "      <td>...</td>\n",
       "      <td>0.410244</td>\n",
       "      <td>0.065445</td>\n",
       "      <td>-0.471252</td>\n",
       "      <td>6</td>\n",
       "      <td>6.458333</td>\n",
       "      <td>7.600000</td>\n",
       "      <td>3.381968</td>\n",
       "      <td>-0.337575</td>\n",
       "      <td>5</td>\n",
       "      <td>0.0</td>\n",
       "    </tr>\n",
       "  </tbody>\n",
       "</table>\n",
       "<p>5 rows × 59 columns</p>\n",
       "</div>"
      ],
      "text/plain": [
       "   TeamID LeagueName  Season       FGP   FGPmean    FGPstd   FGPnorm  FGPbin  \\\n",
       "0    3103        MAC    2010  0.405346  0.402665  0.072138  0.037166      10   \n",
       "1    3104        SEC    2010  0.400770  0.415768  0.074202 -0.202128       8   \n",
       "2    3110    Patriot    2010  0.399550  0.381652  0.067985  0.263277      12   \n",
       "3    3111   Sun Belt    2010  0.435525  0.394316  0.076786  0.536670      14   \n",
       "4    3119    Patriot    2010  0.358097  0.381652  0.067985 -0.346465       7   \n",
       "\n",
       "        FTP   FTPmean    ...       OCRmean    OCRstd   OCRnorm  OCRbin  \\\n",
       "0  0.704329  0.698111    ...      0.432482  0.068308  0.104973      11   \n",
       "1  0.621109  0.676910    ...      0.437030  0.071290 -0.327385       7   \n",
       "2  0.740438  0.686326    ...      0.410244  0.065445  0.343623      14   \n",
       "3  0.622631  0.671585    ...      0.422639  0.073208  0.376765      14   \n",
       "4  0.673364  0.686326    ...      0.410244  0.065445 -0.471252       6   \n",
       "\n",
       "        Stl   Stlmean    Stlstd   Stlnorm  Stlbin  Leaguebin  \n",
       "0  8.033333  9.304709  3.193953 -0.398057       5        2.0  \n",
       "1  7.379310  8.371495  3.859940 -0.257047       6       23.0  \n",
       "2  7.952381  7.600000  3.381968  0.104194       9        0.0  \n",
       "3  9.935484  8.425287  3.595169  0.420063      11        1.0  \n",
       "4  6.458333  7.600000  3.381968 -0.337575       5        0.0  \n",
       "\n",
       "[5 rows x 59 columns]"
      ]
     },
     "execution_count": 11,
     "metadata": {},
     "output_type": "execute_result"
    }
   ],
   "source": [
    "df_engineered_features.head()"
   ]
  },
  {
   "cell_type": "markdown",
   "metadata": {},
   "source": [
    "Now we create 'winning'/'team 1' and 'losing'/'team 2' versions of the engineered features dataframe. This makes it easier to merge in later parts of the project. We will only use the binned values of each performance measure. "
   ]
  },
  {
   "cell_type": "code",
   "execution_count": 12,
   "metadata": {
    "collapsed": true,
    "scrolled": true
   },
   "outputs": [],
   "source": [
    "# Create 'winning team' and 'losing team' versions of engineered features DF\n",
    "\n",
    "df_engineered_features_w = df_engineered_features[[col for col in df_engineered_features if col.endswith('bin')]].copy()\n",
    "df_engineered_features_w.columns = map(lambda x:'1'+x,df_engineered_features_w.columns)\n",
    "df_engineered_features_w['Season'] = df_engineered_features['Season']\n",
    "df_engineered_features_w['1TeamID'] = df_engineered_features['TeamID']\n",
    "\n",
    "df_engineered_features_l = df_engineered_features[[col for col in df_engineered_features if col.endswith('bin')]].copy()\n",
    "df_engineered_features_l.columns = map(lambda x:'2'+x,df_engineered_features_l.columns)\n",
    "df_engineered_features_l['Season'] = df_engineered_features['Season']\n",
    "df_engineered_features_l['2TeamID'] = df_engineered_features['TeamID']"
   ]
  },
  {
   "cell_type": "code",
   "execution_count": 13,
   "metadata": {},
   "outputs": [
    {
     "data": {
      "text/html": [
       "<div>\n",
       "<style>\n",
       "    .dataframe thead tr:only-child th {\n",
       "        text-align: right;\n",
       "    }\n",
       "\n",
       "    .dataframe thead th {\n",
       "        text-align: left;\n",
       "    }\n",
       "\n",
       "    .dataframe tbody tr th {\n",
       "        vertical-align: top;\n",
       "    }\n",
       "</style>\n",
       "<table border=\"1\" class=\"dataframe\">\n",
       "  <thead>\n",
       "    <tr style=\"text-align: right;\">\n",
       "      <th></th>\n",
       "      <th>2FGPbin</th>\n",
       "      <th>2FTPbin</th>\n",
       "      <th>2FGAbin</th>\n",
       "      <th>2FTAbin</th>\n",
       "      <th>2Astbin</th>\n",
       "      <th>2Blkbin</th>\n",
       "      <th>2ORbin</th>\n",
       "      <th>2DRbin</th>\n",
       "      <th>2PODbin</th>\n",
       "      <th>2OCRbin</th>\n",
       "      <th>2Stlbin</th>\n",
       "      <th>2Leaguebin</th>\n",
       "      <th>Season</th>\n",
       "      <th>2TeamID</th>\n",
       "    </tr>\n",
       "  </thead>\n",
       "  <tbody>\n",
       "    <tr>\n",
       "      <th>0</th>\n",
       "      <td>10</td>\n",
       "      <td>14</td>\n",
       "      <td>7</td>\n",
       "      <td>12</td>\n",
       "      <td>10</td>\n",
       "      <td>6</td>\n",
       "      <td>12</td>\n",
       "      <td>11</td>\n",
       "      <td>6</td>\n",
       "      <td>11</td>\n",
       "      <td>5</td>\n",
       "      <td>2.0</td>\n",
       "      <td>2010</td>\n",
       "      <td>3103</td>\n",
       "    </tr>\n",
       "    <tr>\n",
       "      <th>1</th>\n",
       "      <td>8</td>\n",
       "      <td>9</td>\n",
       "      <td>11</td>\n",
       "      <td>10</td>\n",
       "      <td>9</td>\n",
       "      <td>6</td>\n",
       "      <td>11</td>\n",
       "      <td>14</td>\n",
       "      <td>10</td>\n",
       "      <td>7</td>\n",
       "      <td>6</td>\n",
       "      <td>23.0</td>\n",
       "      <td>2010</td>\n",
       "      <td>3104</td>\n",
       "    </tr>\n",
       "    <tr>\n",
       "      <th>2</th>\n",
       "      <td>12</td>\n",
       "      <td>17</td>\n",
       "      <td>9</td>\n",
       "      <td>13</td>\n",
       "      <td>8</td>\n",
       "      <td>13</td>\n",
       "      <td>14</td>\n",
       "      <td>9</td>\n",
       "      <td>9</td>\n",
       "      <td>14</td>\n",
       "      <td>9</td>\n",
       "      <td>0.0</td>\n",
       "      <td>2010</td>\n",
       "      <td>3110</td>\n",
       "    </tr>\n",
       "    <tr>\n",
       "      <th>3</th>\n",
       "      <td>14</td>\n",
       "      <td>10</td>\n",
       "      <td>11</td>\n",
       "      <td>9</td>\n",
       "      <td>16</td>\n",
       "      <td>22</td>\n",
       "      <td>13</td>\n",
       "      <td>17</td>\n",
       "      <td>9</td>\n",
       "      <td>14</td>\n",
       "      <td>11</td>\n",
       "      <td>1.0</td>\n",
       "      <td>2010</td>\n",
       "      <td>3111</td>\n",
       "    </tr>\n",
       "    <tr>\n",
       "      <th>4</th>\n",
       "      <td>7</td>\n",
       "      <td>12</td>\n",
       "      <td>9</td>\n",
       "      <td>8</td>\n",
       "      <td>5</td>\n",
       "      <td>10</td>\n",
       "      <td>13</td>\n",
       "      <td>10</td>\n",
       "      <td>8</td>\n",
       "      <td>6</td>\n",
       "      <td>5</td>\n",
       "      <td>0.0</td>\n",
       "      <td>2010</td>\n",
       "      <td>3119</td>\n",
       "    </tr>\n",
       "  </tbody>\n",
       "</table>\n",
       "</div>"
      ],
      "text/plain": [
       "   2FGPbin  2FTPbin  2FGAbin  2FTAbin  2Astbin  2Blkbin  2ORbin  2DRbin  \\\n",
       "0       10       14        7       12       10        6      12      11   \n",
       "1        8        9       11       10        9        6      11      14   \n",
       "2       12       17        9       13        8       13      14       9   \n",
       "3       14       10       11        9       16       22      13      17   \n",
       "4        7       12        9        8        5       10      13      10   \n",
       "\n",
       "   2PODbin  2OCRbin  2Stlbin  2Leaguebin  Season  2TeamID  \n",
       "0        6       11        5         2.0    2010     3103  \n",
       "1       10        7        6        23.0    2010     3104  \n",
       "2        9       14        9         0.0    2010     3110  \n",
       "3        9       14       11         1.0    2010     3111  \n",
       "4        8        6        5         0.0    2010     3119  "
      ]
     },
     "execution_count": 13,
     "metadata": {},
     "output_type": "execute_result"
    }
   ],
   "source": [
    "df_engineered_features_l.head()"
   ]
  },
  {
   "cell_type": "markdown",
   "metadata": {},
   "source": [
    "## Build Regular Season and Tournament Datasets"
   ]
  },
  {
   "cell_type": "markdown",
   "metadata": {},
   "source": [
    "Currently, our training dataset only includes 'positive' examples where  the first team is the winner. So, we will generate opposite examples to remove bias in our training data."
   ]
  },
  {
   "cell_type": "code",
   "execution_count": 14,
   "metadata": {
    "collapsed": true
   },
   "outputs": [],
   "source": [
    "# This function can be used to reverse winning and losing teams\n",
    "# to make datapoints with Result = 0\n",
    "def gen_neg_items(df):\n",
    "    df_wins = pd.DataFrame()\n",
    "    df_wins['Season'] = df['Season']\n",
    "    df_wins['1TeamID'] = df['WTeamID']\n",
    "    df_wins['2TeamID'] = df['LTeamID']\n",
    "    df_wins['Result'] = 1\n",
    "\n",
    "    df_losses = pd.DataFrame()\n",
    "    df_losses['Season'] = df['Season']\n",
    "    df_losses['1TeamID'] = df['LTeamID']\n",
    "    df_losses['2TeamID'] = df['WTeamID']\n",
    "    df_losses['Result'] = 0\n",
    "    \n",
    "    return pd.concat((df_wins, df_losses))"
   ]
  },
  {
   "cell_type": "markdown",
   "metadata": {},
   "source": [
    "We are only interested in games that were played in 2010-present because those are the games that we have detailed performance measures for, and those are what we use to calculate the binned measures above.\n"
   ]
  },
  {
   "cell_type": "code",
   "execution_count": 15,
   "metadata": {
    "collapsed": true
   },
   "outputs": [],
   "source": [
    "# get games from 2010-present\n",
    "df_regular_season_games = gen_neg_items(df_reg_detail[df_reg_detail['Season'] > 2009])"
   ]
  },
  {
   "cell_type": "code",
   "execution_count": 16,
   "metadata": {
    "collapsed": true
   },
   "outputs": [],
   "source": [
    "# add engineered features to the detailed results\n",
    "df_regular_season_games_with_features = pd.merge(left=df_regular_season_games, right=df_engineered_features_w, on=['Season', '1TeamID'])\n",
    "df_regular_season_games_with_features = pd.merge(left=df_regular_season_games_with_features, right=df_engineered_features_l, on=['Season', '2TeamID'])"
   ]
  },
  {
   "cell_type": "markdown",
   "metadata": {},
   "source": [
    "At this point, we now have the training set for model 1, which is only used for further feature engineering for our final predictions. It contains all matchups from regular season games 2010-17, plus 2018. This will be separated out for training, as we will predict 2018 games, but it is easiest to include for the sake of calculating these measures. Note that each game appears twice, to reflect both permutations of team matchups. "
   ]
  },
  {
   "cell_type": "code",
   "execution_count": 17,
   "metadata": {},
   "outputs": [
    {
     "data": {
      "text/html": [
       "<div>\n",
       "<style>\n",
       "    .dataframe thead tr:only-child th {\n",
       "        text-align: right;\n",
       "    }\n",
       "\n",
       "    .dataframe thead th {\n",
       "        text-align: left;\n",
       "    }\n",
       "\n",
       "    .dataframe tbody tr th {\n",
       "        vertical-align: top;\n",
       "    }\n",
       "</style>\n",
       "<table border=\"1\" class=\"dataframe\">\n",
       "  <thead>\n",
       "    <tr style=\"text-align: right;\">\n",
       "      <th></th>\n",
       "      <th>Season</th>\n",
       "      <th>1TeamID</th>\n",
       "      <th>2TeamID</th>\n",
       "      <th>Result</th>\n",
       "      <th>1FGPbin</th>\n",
       "      <th>1FTPbin</th>\n",
       "      <th>1FGAbin</th>\n",
       "      <th>1FTAbin</th>\n",
       "      <th>1Astbin</th>\n",
       "      <th>1Blkbin</th>\n",
       "      <th>...</th>\n",
       "      <th>2FGAbin</th>\n",
       "      <th>2FTAbin</th>\n",
       "      <th>2Astbin</th>\n",
       "      <th>2Blkbin</th>\n",
       "      <th>2ORbin</th>\n",
       "      <th>2DRbin</th>\n",
       "      <th>2PODbin</th>\n",
       "      <th>2OCRbin</th>\n",
       "      <th>2Stlbin</th>\n",
       "      <th>2Leaguebin</th>\n",
       "    </tr>\n",
       "  </thead>\n",
       "  <tbody>\n",
       "    <tr>\n",
       "      <th>0</th>\n",
       "      <td>2010</td>\n",
       "      <td>3103</td>\n",
       "      <td>3237</td>\n",
       "      <td>1</td>\n",
       "      <td>10</td>\n",
       "      <td>14</td>\n",
       "      <td>7</td>\n",
       "      <td>12</td>\n",
       "      <td>10</td>\n",
       "      <td>6</td>\n",
       "      <td>...</td>\n",
       "      <td>5</td>\n",
       "      <td>14</td>\n",
       "      <td>2</td>\n",
       "      <td>15</td>\n",
       "      <td>12</td>\n",
       "      <td>11</td>\n",
       "      <td>5</td>\n",
       "      <td>6</td>\n",
       "      <td>7</td>\n",
       "      <td>4.0</td>\n",
       "    </tr>\n",
       "    <tr>\n",
       "      <th>1</th>\n",
       "      <td>2010</td>\n",
       "      <td>3231</td>\n",
       "      <td>3237</td>\n",
       "      <td>1</td>\n",
       "      <td>6</td>\n",
       "      <td>12</td>\n",
       "      <td>14</td>\n",
       "      <td>14</td>\n",
       "      <td>6</td>\n",
       "      <td>2</td>\n",
       "      <td>...</td>\n",
       "      <td>5</td>\n",
       "      <td>14</td>\n",
       "      <td>2</td>\n",
       "      <td>15</td>\n",
       "      <td>12</td>\n",
       "      <td>11</td>\n",
       "      <td>5</td>\n",
       "      <td>6</td>\n",
       "      <td>7</td>\n",
       "      <td>4.0</td>\n",
       "    </tr>\n",
       "    <tr>\n",
       "      <th>2</th>\n",
       "      <td>2010</td>\n",
       "      <td>3282</td>\n",
       "      <td>3237</td>\n",
       "      <td>1</td>\n",
       "      <td>12</td>\n",
       "      <td>14</td>\n",
       "      <td>10</td>\n",
       "      <td>11</td>\n",
       "      <td>10</td>\n",
       "      <td>7</td>\n",
       "      <td>...</td>\n",
       "      <td>5</td>\n",
       "      <td>14</td>\n",
       "      <td>2</td>\n",
       "      <td>15</td>\n",
       "      <td>12</td>\n",
       "      <td>11</td>\n",
       "      <td>5</td>\n",
       "      <td>6</td>\n",
       "      <td>7</td>\n",
       "      <td>4.0</td>\n",
       "    </tr>\n",
       "    <tr>\n",
       "      <th>3</th>\n",
       "      <td>2010</td>\n",
       "      <td>3282</td>\n",
       "      <td>3237</td>\n",
       "      <td>1</td>\n",
       "      <td>12</td>\n",
       "      <td>14</td>\n",
       "      <td>10</td>\n",
       "      <td>11</td>\n",
       "      <td>10</td>\n",
       "      <td>7</td>\n",
       "      <td>...</td>\n",
       "      <td>5</td>\n",
       "      <td>14</td>\n",
       "      <td>2</td>\n",
       "      <td>15</td>\n",
       "      <td>12</td>\n",
       "      <td>11</td>\n",
       "      <td>5</td>\n",
       "      <td>6</td>\n",
       "      <td>7</td>\n",
       "      <td>4.0</td>\n",
       "    </tr>\n",
       "    <tr>\n",
       "      <th>4</th>\n",
       "      <td>2010</td>\n",
       "      <td>3293</td>\n",
       "      <td>3237</td>\n",
       "      <td>1</td>\n",
       "      <td>12</td>\n",
       "      <td>19</td>\n",
       "      <td>13</td>\n",
       "      <td>12</td>\n",
       "      <td>12</td>\n",
       "      <td>13</td>\n",
       "      <td>...</td>\n",
       "      <td>5</td>\n",
       "      <td>14</td>\n",
       "      <td>2</td>\n",
       "      <td>15</td>\n",
       "      <td>12</td>\n",
       "      <td>11</td>\n",
       "      <td>5</td>\n",
       "      <td>6</td>\n",
       "      <td>7</td>\n",
       "      <td>4.0</td>\n",
       "    </tr>\n",
       "  </tbody>\n",
       "</table>\n",
       "<p>5 rows × 28 columns</p>\n",
       "</div>"
      ],
      "text/plain": [
       "   Season  1TeamID  2TeamID  Result  1FGPbin  1FTPbin  1FGAbin  1FTAbin  \\\n",
       "0    2010     3103     3237       1       10       14        7       12   \n",
       "1    2010     3231     3237       1        6       12       14       14   \n",
       "2    2010     3282     3237       1       12       14       10       11   \n",
       "3    2010     3282     3237       1       12       14       10       11   \n",
       "4    2010     3293     3237       1       12       19       13       12   \n",
       "\n",
       "   1Astbin  1Blkbin     ...      2FGAbin  2FTAbin  2Astbin  2Blkbin  2ORbin  \\\n",
       "0       10        6     ...            5       14        2       15      12   \n",
       "1        6        2     ...            5       14        2       15      12   \n",
       "2       10        7     ...            5       14        2       15      12   \n",
       "3       10        7     ...            5       14        2       15      12   \n",
       "4       12       13     ...            5       14        2       15      12   \n",
       "\n",
       "   2DRbin  2PODbin  2OCRbin  2Stlbin  2Leaguebin  \n",
       "0      11        5        6        7         4.0  \n",
       "1      11        5        6        7         4.0  \n",
       "2      11        5        6        7         4.0  \n",
       "3      11        5        6        7         4.0  \n",
       "4      11        5        6        7         4.0  \n",
       "\n",
       "[5 rows x 28 columns]"
      ]
     },
     "execution_count": 17,
     "metadata": {},
     "output_type": "execute_result"
    }
   ],
   "source": [
    "# This is the training dataset for model 1\n",
    "# Contains all matchups from regular season games 2010-18\n",
    "# These are duplicated for both 'win' and 'loss' outcomes \n",
    "df_regular_season_games_with_features.head()"
   ]
  },
  {
   "cell_type": "markdown",
   "metadata": {},
   "source": [
    "While we're at it, let's build our dataset for generating features for our second (actual) model. It will contain all actual tournament data from 2010-18. "
   ]
  },
  {
   "cell_type": "code",
   "execution_count": 18,
   "metadata": {},
   "outputs": [
    {
     "data": {
      "text/plain": [
       "(1008, 4)"
      ]
     },
     "execution_count": 18,
     "metadata": {},
     "output_type": "execute_result"
    }
   ],
   "source": [
    "# This is all actual tournament data from 2010-18\n",
    "\n",
    "# Key difference: 2010-17 tourneys by win-lose team\n",
    "# 2018 is organized by team #\n",
    "\n",
    "df_tour = df_tour_detail[df_tour_detail['Season'] > 2009]\n",
    "df_tour = df_tour[['Season', 'WTeamID', 'LTeamID']]\n",
    "\n",
    "# this now also includes 0 outcome items\n",
    "df_tour = gen_neg_items(df_tour)\n",
    "df_tour.shape"
   ]
  },
  {
   "cell_type": "code",
   "execution_count": 19,
   "metadata": {},
   "outputs": [
    {
     "data": {
      "text/plain": [
       "(1071, 4)"
      ]
     },
     "execution_count": 19,
     "metadata": {},
     "output_type": "execute_result"
    }
   ],
   "source": [
    "df_tour_18 = df_tour_18.rename(columns={'Team1':'1TeamID', 'Team2':'2TeamID'})\n",
    "\n",
    "df_tour_matchups = pd.concat([df_tour, df_tour_18], ignore_index=False)\n",
    "df_tour_matchups.shape # 63 games longer than other"
   ]
  },
  {
   "cell_type": "code",
   "execution_count": 20,
   "metadata": {
    "collapsed": true
   },
   "outputs": [],
   "source": [
    "# Inject regular season stats to tournament games\n",
    "df_tour_matchups_with_features = pd.merge(left=df_tour_matchups, right=df_engineered_features_w, on=['Season', '1TeamID'])\n",
    "df_tour_matchups_with_features = pd.merge(left=df_tour_matchups_with_features, right=df_engineered_features_l, on=['Season', '2TeamID'])"
   ]
  },
  {
   "cell_type": "markdown",
   "metadata": {},
   "source": [
    "## Train Model 1 on Regular Season Results"
   ]
  },
  {
   "cell_type": "markdown",
   "metadata": {},
   "source": [
    "Model 1 is really just used for feature engineering. We have explored various ways to reflect a team's regular season 'performance', and determined that predicting an outcome based on these field performance measures (given, or engineered above) produces the best result. So we will train on 2010-17 data, and then later test on 2018 to gather probabilities that a given matchup ends in success.  "
   ]
  },
  {
   "cell_type": "code",
   "execution_count": 21,
   "metadata": {
    "collapsed": true
   },
   "outputs": [],
   "source": [
    "# For 8 teams, we are missing league information so we've had to drop those from our dataset\n",
    "df_train_1 = df_regular_season_games_with_features.dropna(how='any')\n",
    "\n",
    "# Separate training and test data based on season played\n",
    "# Will eventually be predicting 2018 matchups, so that must be test\n",
    "X_train_1 = df_train_1[df_train_1['Season'] < 2018]\n",
    "#X_test_1 = df_train_1[df_train_1['Season'] == 2018]\n",
    "\n",
    "y_train_1 = X_train_1.Result.values\n",
    "#y_test_1 = X_test_1.Result.values\n",
    "\n",
    "# split data before 2018 to train and dev\n",
    "X_train_1 = X_train_1.drop('Result', 1)\n",
    "#X_test_1 = X_test_1.drop('Result', 1)"
   ]
  },
  {
   "cell_type": "code",
   "execution_count": 22,
   "metadata": {},
   "outputs": [],
   "source": [
    "# this function can be used to evaluate our models\n",
    "def eval(clf,train_x,train_y):\n",
    "    clf.fit(train_x,train_y)\n",
    "    acc = cross_val_score(clf, train_x, train_y, cv=5, scoring='accuracy')\n",
    "    print ('Average Accuracy by CV = {}, vals = {}'.format(np.mean(acc), acc))\n",
    "    \n",
    "    logloss = cross_val_score(clf, train_x, train_y, cv=5, scoring='neg_log_loss')\n",
    "    print ('Average Log Loss by CV = {}, vals = {}'.format(-np.mean(logloss), -logloss))"
   ]
  },
  {
   "cell_type": "markdown",
   "metadata": {},
   "source": [
    "The evaluation aspect of this part is interesting, but we are not trying to optimize log loss at this point. Rather, we are selecting the best model for engineering our 'WinProb' feature in the second model."
   ]
  },
  {
   "cell_type": "code",
   "execution_count": 23,
   "metadata": {},
   "outputs": [
    {
     "name": "stdout",
     "output_type": "stream",
     "text": [
      "fitting logistic regression model\n",
      "Average Accuracy by CV = 0.728279886461759, vals = [ 0.7305258   0.71665044  0.72316212  0.73332522  0.73773585]\n",
      "Average Log Loss by CV = 0.5271754147835821, vals = [ 0.52984772  0.53735087  0.53127971  0.52140304  0.51599573]\n",
      "\n",
      "fitting Naive Bayes model\n",
      "Average Accuracy by CV = 0.6907910992372112, vals = [ 0.68263145  0.68944742  0.68719572  0.69632425  0.69835666]\n",
      "Average Log Loss by CV = 0.7385587900098141, vals = [ 0.76781505  0.74201815  0.74620983  0.71053989  0.72621104]\n",
      "\n",
      "fitting Random Forest model\n",
      "Average Accuracy by CV = 0.6828062622639731, vals = [ 0.67642405  0.68165774  0.68573515  0.68896056  0.6812538 ]\n",
      "Average Log Loss by CV = 0.7179634123507054, vals = [ 0.71422789  0.74294204  0.73021414  0.71653986  0.68589312]\n"
     ]
    }
   ],
   "source": [
    "print ('fitting logistic regression model')\n",
    "modelLR = LogisticRegression()\n",
    "eval(modelLR,X_train_1,y_train_1)\n",
    "\n",
    "print ('\\nfitting Naive Bayes model')\n",
    "modelNB = GaussianNB()\n",
    "eval(modelNB,X_train_1,y_train_1)\n",
    "\n",
    "print ('\\nfitting Random Forest model')\n",
    "modelRF = RandomForestClassifier(n_jobs=2, random_state=0)\n",
    "eval(modelRF,X_train_1,y_train_1)"
   ]
  },
  {
   "cell_type": "markdown",
   "metadata": {},
   "source": [
    "## Engineer Feature 'winprob' for tournament matchups based on regular season data"
   ]
  },
  {
   "cell_type": "markdown",
   "metadata": {},
   "source": [
    "Now we are ready to continue feature engineering for our final model. Here we will use the tournament data with engineered features to make predictions about the outcomes of these tournament games."
   ]
  },
  {
   "cell_type": "code",
   "execution_count": 24,
   "metadata": {
    "scrolled": true
   },
   "outputs": [
    {
     "data": {
      "text/html": [
       "<div>\n",
       "<style>\n",
       "    .dataframe thead tr:only-child th {\n",
       "        text-align: right;\n",
       "    }\n",
       "\n",
       "    .dataframe thead th {\n",
       "        text-align: left;\n",
       "    }\n",
       "\n",
       "    .dataframe tbody tr th {\n",
       "        vertical-align: top;\n",
       "    }\n",
       "</style>\n",
       "<table border=\"1\" class=\"dataframe\">\n",
       "  <thead>\n",
       "    <tr style=\"text-align: right;\">\n",
       "      <th></th>\n",
       "      <th>Season</th>\n",
       "      <th>1TeamID</th>\n",
       "      <th>2TeamID</th>\n",
       "      <th>Result</th>\n",
       "      <th>1FGPbin</th>\n",
       "      <th>1FTPbin</th>\n",
       "      <th>1FGAbin</th>\n",
       "      <th>1FTAbin</th>\n",
       "      <th>1Astbin</th>\n",
       "      <th>1Blkbin</th>\n",
       "      <th>...</th>\n",
       "      <th>2FGAbin</th>\n",
       "      <th>2FTAbin</th>\n",
       "      <th>2Astbin</th>\n",
       "      <th>2Blkbin</th>\n",
       "      <th>2ORbin</th>\n",
       "      <th>2DRbin</th>\n",
       "      <th>2PODbin</th>\n",
       "      <th>2OCRbin</th>\n",
       "      <th>2Stlbin</th>\n",
       "      <th>2Leaguebin</th>\n",
       "    </tr>\n",
       "  </thead>\n",
       "  <tbody>\n",
       "    <tr>\n",
       "      <th>0</th>\n",
       "      <td>2010</td>\n",
       "      <td>3124</td>\n",
       "      <td>3201</td>\n",
       "      <td>1</td>\n",
       "      <td>14</td>\n",
       "      <td>16</td>\n",
       "      <td>8</td>\n",
       "      <td>20</td>\n",
       "      <td>11</td>\n",
       "      <td>18</td>\n",
       "      <td>...</td>\n",
       "      <td>14</td>\n",
       "      <td>14</td>\n",
       "      <td>12</td>\n",
       "      <td>6</td>\n",
       "      <td>12</td>\n",
       "      <td>13</td>\n",
       "      <td>15</td>\n",
       "      <td>13</td>\n",
       "      <td>12</td>\n",
       "      <td>7.0</td>\n",
       "    </tr>\n",
       "    <tr>\n",
       "      <th>1</th>\n",
       "      <td>2010</td>\n",
       "      <td>3124</td>\n",
       "      <td>3207</td>\n",
       "      <td>1</td>\n",
       "      <td>14</td>\n",
       "      <td>16</td>\n",
       "      <td>8</td>\n",
       "      <td>20</td>\n",
       "      <td>11</td>\n",
       "      <td>18</td>\n",
       "      <td>...</td>\n",
       "      <td>12</td>\n",
       "      <td>16</td>\n",
       "      <td>13</td>\n",
       "      <td>6</td>\n",
       "      <td>16</td>\n",
       "      <td>2</td>\n",
       "      <td>13</td>\n",
       "      <td>10</td>\n",
       "      <td>17</td>\n",
       "      <td>15.0</td>\n",
       "    </tr>\n",
       "    <tr>\n",
       "      <th>2</th>\n",
       "      <td>2010</td>\n",
       "      <td>3265</td>\n",
       "      <td>3207</td>\n",
       "      <td>0</td>\n",
       "      <td>15</td>\n",
       "      <td>22</td>\n",
       "      <td>10</td>\n",
       "      <td>15</td>\n",
       "      <td>13</td>\n",
       "      <td>13</td>\n",
       "      <td>...</td>\n",
       "      <td>12</td>\n",
       "      <td>16</td>\n",
       "      <td>13</td>\n",
       "      <td>6</td>\n",
       "      <td>16</td>\n",
       "      <td>2</td>\n",
       "      <td>13</td>\n",
       "      <td>10</td>\n",
       "      <td>17</td>\n",
       "      <td>15.0</td>\n",
       "    </tr>\n",
       "    <tr>\n",
       "      <th>3</th>\n",
       "      <td>2010</td>\n",
       "      <td>3124</td>\n",
       "      <td>3397</td>\n",
       "      <td>1</td>\n",
       "      <td>14</td>\n",
       "      <td>16</td>\n",
       "      <td>8</td>\n",
       "      <td>20</td>\n",
       "      <td>11</td>\n",
       "      <td>18</td>\n",
       "      <td>...</td>\n",
       "      <td>11</td>\n",
       "      <td>11</td>\n",
       "      <td>12</td>\n",
       "      <td>17</td>\n",
       "      <td>13</td>\n",
       "      <td>18</td>\n",
       "      <td>9</td>\n",
       "      <td>16</td>\n",
       "      <td>5</td>\n",
       "      <td>23.0</td>\n",
       "    </tr>\n",
       "    <tr>\n",
       "      <th>4</th>\n",
       "      <td>2010</td>\n",
       "      <td>3173</td>\n",
       "      <td>3397</td>\n",
       "      <td>0</td>\n",
       "      <td>13</td>\n",
       "      <td>14</td>\n",
       "      <td>15</td>\n",
       "      <td>16</td>\n",
       "      <td>13</td>\n",
       "      <td>14</td>\n",
       "      <td>...</td>\n",
       "      <td>11</td>\n",
       "      <td>11</td>\n",
       "      <td>12</td>\n",
       "      <td>17</td>\n",
       "      <td>13</td>\n",
       "      <td>18</td>\n",
       "      <td>9</td>\n",
       "      <td>16</td>\n",
       "      <td>5</td>\n",
       "      <td>23.0</td>\n",
       "    </tr>\n",
       "  </tbody>\n",
       "</table>\n",
       "<p>5 rows × 28 columns</p>\n",
       "</div>"
      ],
      "text/plain": [
       "   Season  1TeamID  2TeamID  Result  1FGPbin  1FTPbin  1FGAbin  1FTAbin  \\\n",
       "0    2010     3124     3201       1       14       16        8       20   \n",
       "1    2010     3124     3207       1       14       16        8       20   \n",
       "2    2010     3265     3207       0       15       22       10       15   \n",
       "3    2010     3124     3397       1       14       16        8       20   \n",
       "4    2010     3173     3397       0       13       14       15       16   \n",
       "\n",
       "   1Astbin  1Blkbin     ...      2FGAbin  2FTAbin  2Astbin  2Blkbin  2ORbin  \\\n",
       "0       11       18     ...           14       14       12        6      12   \n",
       "1       11       18     ...           12       16       13        6      16   \n",
       "2       13       13     ...           12       16       13        6      16   \n",
       "3       11       18     ...           11       11       12       17      13   \n",
       "4       13       14     ...           11       11       12       17      13   \n",
       "\n",
       "   2DRbin  2PODbin  2OCRbin  2Stlbin  2Leaguebin  \n",
       "0      13       15       13       12         7.0  \n",
       "1       2       13       10       17        15.0  \n",
       "2       2       13       10       17        15.0  \n",
       "3      18        9       16        5        23.0  \n",
       "4      18        9       16        5        23.0  \n",
       "\n",
       "[5 rows x 28 columns]"
      ]
     },
     "execution_count": 24,
     "metadata": {},
     "output_type": "execute_result"
    }
   ],
   "source": [
    "df_tour_matchups_with_features.head()"
   ]
  },
  {
   "cell_type": "code",
   "execution_count": 25,
   "metadata": {
    "collapsed": true
   },
   "outputs": [],
   "source": [
    "# Need to make predictions for everything in tournament data\n",
    "# Do not separate 2018 from everything else - need to generate predictions\n",
    "\n",
    "X_train_2 = df_tour_matchups_with_features\n",
    "y_train_2 = X_train_2.Result.values\n",
    "X_train_2 = X_train_2.drop('Result', 1)"
   ]
  },
  {
   "cell_type": "markdown",
   "metadata": {},
   "source": [
    "Use Naive Bayes Probabilities to determine win probability for the first team in the matchup. This reflects their past regular season performance, will combine with other features to strengthen tournament predictions."
   ]
  },
  {
   "cell_type": "code",
   "execution_count": 26,
   "metadata": {
    "scrolled": false
   },
   "outputs": [
    {
     "data": {
      "text/html": [
       "<div>\n",
       "<style>\n",
       "    .dataframe thead tr:only-child th {\n",
       "        text-align: right;\n",
       "    }\n",
       "\n",
       "    .dataframe thead th {\n",
       "        text-align: left;\n",
       "    }\n",
       "\n",
       "    .dataframe tbody tr th {\n",
       "        vertical-align: top;\n",
       "    }\n",
       "</style>\n",
       "<table border=\"1\" class=\"dataframe\">\n",
       "  <thead>\n",
       "    <tr style=\"text-align: right;\">\n",
       "      <th></th>\n",
       "      <th>Season</th>\n",
       "      <th>1TeamID</th>\n",
       "      <th>2TeamID</th>\n",
       "      <th>1FGPbin</th>\n",
       "      <th>1FTPbin</th>\n",
       "      <th>1FGAbin</th>\n",
       "      <th>1FTAbin</th>\n",
       "      <th>1Astbin</th>\n",
       "      <th>1Blkbin</th>\n",
       "      <th>1ORbin</th>\n",
       "      <th>...</th>\n",
       "      <th>2Blkbin</th>\n",
       "      <th>2ORbin</th>\n",
       "      <th>2DRbin</th>\n",
       "      <th>2PODbin</th>\n",
       "      <th>2OCRbin</th>\n",
       "      <th>2Stlbin</th>\n",
       "      <th>2Leaguebin</th>\n",
       "      <th>LossProb</th>\n",
       "      <th>WinProb</th>\n",
       "      <th>Result</th>\n",
       "    </tr>\n",
       "  </thead>\n",
       "  <tbody>\n",
       "    <tr>\n",
       "      <th>1066</th>\n",
       "      <td>2018</td>\n",
       "      <td>3323</td>\n",
       "      <td>3437</td>\n",
       "      <td>19</td>\n",
       "      <td>18</td>\n",
       "      <td>14</td>\n",
       "      <td>16</td>\n",
       "      <td>17</td>\n",
       "      <td>7</td>\n",
       "      <td>13</td>\n",
       "      <td>...</td>\n",
       "      <td>13</td>\n",
       "      <td>7</td>\n",
       "      <td>15</td>\n",
       "      <td>9</td>\n",
       "      <td>10</td>\n",
       "      <td>2</td>\n",
       "      <td>15.0</td>\n",
       "      <td>0.000087</td>\n",
       "      <td>0.999913</td>\n",
       "      <td>1</td>\n",
       "    </tr>\n",
       "    <tr>\n",
       "      <th>1067</th>\n",
       "      <td>2018</td>\n",
       "      <td>3355</td>\n",
       "      <td>3437</td>\n",
       "      <td>13</td>\n",
       "      <td>18</td>\n",
       "      <td>12</td>\n",
       "      <td>15</td>\n",
       "      <td>14</td>\n",
       "      <td>13</td>\n",
       "      <td>14</td>\n",
       "      <td>...</td>\n",
       "      <td>13</td>\n",
       "      <td>7</td>\n",
       "      <td>15</td>\n",
       "      <td>9</td>\n",
       "      <td>10</td>\n",
       "      <td>2</td>\n",
       "      <td>15.0</td>\n",
       "      <td>0.016872</td>\n",
       "      <td>0.983128</td>\n",
       "      <td>0</td>\n",
       "    </tr>\n",
       "    <tr>\n",
       "      <th>1068</th>\n",
       "      <td>2018</td>\n",
       "      <td>3329</td>\n",
       "      <td>3393</td>\n",
       "      <td>9</td>\n",
       "      <td>17</td>\n",
       "      <td>13</td>\n",
       "      <td>18</td>\n",
       "      <td>9</td>\n",
       "      <td>4</td>\n",
       "      <td>12</td>\n",
       "      <td>...</td>\n",
       "      <td>7</td>\n",
       "      <td>13</td>\n",
       "      <td>10</td>\n",
       "      <td>15</td>\n",
       "      <td>8</td>\n",
       "      <td>9</td>\n",
       "      <td>22.0</td>\n",
       "      <td>0.448743</td>\n",
       "      <td>0.551257</td>\n",
       "      <td>1</td>\n",
       "    </tr>\n",
       "    <tr>\n",
       "      <th>1069</th>\n",
       "      <td>2018</td>\n",
       "      <td>3332</td>\n",
       "      <td>3370</td>\n",
       "      <td>17</td>\n",
       "      <td>17</td>\n",
       "      <td>10</td>\n",
       "      <td>14</td>\n",
       "      <td>15</td>\n",
       "      <td>10</td>\n",
       "      <td>10</td>\n",
       "      <td>...</td>\n",
       "      <td>9</td>\n",
       "      <td>13</td>\n",
       "      <td>21</td>\n",
       "      <td>13</td>\n",
       "      <td>12</td>\n",
       "      <td>7</td>\n",
       "      <td>0.0</td>\n",
       "      <td>0.021660</td>\n",
       "      <td>0.978340</td>\n",
       "      <td>1</td>\n",
       "    </tr>\n",
       "    <tr>\n",
       "      <th>1070</th>\n",
       "      <td>2018</td>\n",
       "      <td>3333</td>\n",
       "      <td>3443</td>\n",
       "      <td>16</td>\n",
       "      <td>13</td>\n",
       "      <td>8</td>\n",
       "      <td>6</td>\n",
       "      <td>15</td>\n",
       "      <td>17</td>\n",
       "      <td>10</td>\n",
       "      <td>...</td>\n",
       "      <td>13</td>\n",
       "      <td>19</td>\n",
       "      <td>6</td>\n",
       "      <td>14</td>\n",
       "      <td>14</td>\n",
       "      <td>15</td>\n",
       "      <td>12.0</td>\n",
       "      <td>0.168957</td>\n",
       "      <td>0.831043</td>\n",
       "      <td>1</td>\n",
       "    </tr>\n",
       "  </tbody>\n",
       "</table>\n",
       "<p>5 rows × 30 columns</p>\n",
       "</div>"
      ],
      "text/plain": [
       "      Season  1TeamID  2TeamID  1FGPbin  1FTPbin  1FGAbin  1FTAbin  1Astbin  \\\n",
       "1066    2018     3323     3437       19       18       14       16       17   \n",
       "1067    2018     3355     3437       13       18       12       15       14   \n",
       "1068    2018     3329     3393        9       17       13       18        9   \n",
       "1069    2018     3332     3370       17       17       10       14       15   \n",
       "1070    2018     3333     3443       16       13        8        6       15   \n",
       "\n",
       "      1Blkbin  1ORbin   ...    2Blkbin  2ORbin  2DRbin  2PODbin  2OCRbin  \\\n",
       "1066        7      13   ...         13       7      15        9       10   \n",
       "1067       13      14   ...         13       7      15        9       10   \n",
       "1068        4      12   ...          7      13      10       15        8   \n",
       "1069       10      10   ...          9      13      21       13       12   \n",
       "1070       17      10   ...         13      19       6       14       14   \n",
       "\n",
       "      2Stlbin  2Leaguebin  LossProb   WinProb  Result  \n",
       "1066        2        15.0  0.000087  0.999913       1  \n",
       "1067        2        15.0  0.016872  0.983128       0  \n",
       "1068        9        22.0  0.448743  0.551257       1  \n",
       "1069        7         0.0  0.021660  0.978340       1  \n",
       "1070       15        12.0  0.168957  0.831043       1  \n",
       "\n",
       "[5 rows x 30 columns]"
      ]
     },
     "execution_count": 26,
     "metadata": {},
     "output_type": "execute_result"
    }
   ],
   "source": [
    "# tournament win probability from predictions in model 1\n",
    "df_tour_winprob = pd.DataFrame(modelNB.predict_proba(X_train_2), columns=['LossProb','WinProb'])\n",
    "\n",
    "df_tour_winprob = pd.concat([X_train_2, df_tour_winprob],axis=1)\n",
    "\n",
    "df_tour_winprob['Result'] = y_train_2\n",
    "df_tour_winprob.tail()"
   ]
  },
  {
   "cell_type": "markdown",
   "metadata": {},
   "source": [
    "## Feature Engineering & Selection for Model 2"
   ]
  },
  {
   "cell_type": "markdown",
   "metadata": {},
   "source": [
    "Lastly, we will finalize feature engineering for our model. Since our baseline of just a seed difference feature performs rather well, we would like to include that. But the difference in seed doesn't seem to track with difference in performance as seed value grows, so we develop a % and then calculate the difference for each matchup. Also, as discussed, we will include the difference in league strength based on calculations above.\n",
    "\n",
    "Our features for this model are 'WinProb' (predicted based on regular season performance), 'SeedDiffPct' (weighted seed difference based on seed values), and 'LeaguebinDiff' (difference in the relative league performance of each team)."
   ]
  },
  {
   "cell_type": "code",
   "execution_count": 27,
   "metadata": {},
   "outputs": [
    {
     "data": {
      "text/html": [
       "<div>\n",
       "<style>\n",
       "    .dataframe thead tr:only-child th {\n",
       "        text-align: right;\n",
       "    }\n",
       "\n",
       "    .dataframe thead th {\n",
       "        text-align: left;\n",
       "    }\n",
       "\n",
       "    .dataframe tbody tr th {\n",
       "        vertical-align: top;\n",
       "    }\n",
       "</style>\n",
       "<table border=\"1\" class=\"dataframe\">\n",
       "  <thead>\n",
       "    <tr style=\"text-align: right;\">\n",
       "      <th></th>\n",
       "      <th>Season</th>\n",
       "      <th>1TeamID</th>\n",
       "      <th>2TeamID</th>\n",
       "      <th>1FGPbin</th>\n",
       "      <th>1FTPbin</th>\n",
       "      <th>1FGAbin</th>\n",
       "      <th>1FTAbin</th>\n",
       "      <th>1Astbin</th>\n",
       "      <th>1Blkbin</th>\n",
       "      <th>1ORbin</th>\n",
       "      <th>...</th>\n",
       "      <th>2Stlbin</th>\n",
       "      <th>2Leaguebin</th>\n",
       "      <th>LossProb</th>\n",
       "      <th>WinProb</th>\n",
       "      <th>Result</th>\n",
       "      <th>1Seed</th>\n",
       "      <th>2Seed</th>\n",
       "      <th>SeedDiff</th>\n",
       "      <th>SeedDiffPct</th>\n",
       "      <th>LeaguebinDiff</th>\n",
       "    </tr>\n",
       "  </thead>\n",
       "  <tbody>\n",
       "    <tr>\n",
       "      <th>0</th>\n",
       "      <td>2010</td>\n",
       "      <td>3124</td>\n",
       "      <td>3201</td>\n",
       "      <td>14</td>\n",
       "      <td>16</td>\n",
       "      <td>8</td>\n",
       "      <td>20</td>\n",
       "      <td>11</td>\n",
       "      <td>18</td>\n",
       "      <td>9</td>\n",
       "      <td>...</td>\n",
       "      <td>12</td>\n",
       "      <td>7.0</td>\n",
       "      <td>0.076033</td>\n",
       "      <td>0.923967</td>\n",
       "      <td>1</td>\n",
       "      <td>4</td>\n",
       "      <td>13</td>\n",
       "      <td>9</td>\n",
       "      <td>0.529412</td>\n",
       "      <td>14.0</td>\n",
       "    </tr>\n",
       "    <tr>\n",
       "      <th>1</th>\n",
       "      <td>2010</td>\n",
       "      <td>3124</td>\n",
       "      <td>3207</td>\n",
       "      <td>14</td>\n",
       "      <td>16</td>\n",
       "      <td>8</td>\n",
       "      <td>20</td>\n",
       "      <td>11</td>\n",
       "      <td>18</td>\n",
       "      <td>9</td>\n",
       "      <td>...</td>\n",
       "      <td>17</td>\n",
       "      <td>15.0</td>\n",
       "      <td>0.059654</td>\n",
       "      <td>0.940346</td>\n",
       "      <td>1</td>\n",
       "      <td>4</td>\n",
       "      <td>5</td>\n",
       "      <td>1</td>\n",
       "      <td>0.111111</td>\n",
       "      <td>6.0</td>\n",
       "    </tr>\n",
       "    <tr>\n",
       "      <th>2</th>\n",
       "      <td>2010</td>\n",
       "      <td>3265</td>\n",
       "      <td>3207</td>\n",
       "      <td>15</td>\n",
       "      <td>22</td>\n",
       "      <td>10</td>\n",
       "      <td>15</td>\n",
       "      <td>13</td>\n",
       "      <td>13</td>\n",
       "      <td>7</td>\n",
       "      <td>...</td>\n",
       "      <td>17</td>\n",
       "      <td>15.0</td>\n",
       "      <td>0.088892</td>\n",
       "      <td>0.911108</td>\n",
       "      <td>0</td>\n",
       "      <td>12</td>\n",
       "      <td>5</td>\n",
       "      <td>-7</td>\n",
       "      <td>-0.411765</td>\n",
       "      <td>-12.0</td>\n",
       "    </tr>\n",
       "    <tr>\n",
       "      <th>3</th>\n",
       "      <td>2010</td>\n",
       "      <td>3124</td>\n",
       "      <td>3397</td>\n",
       "      <td>14</td>\n",
       "      <td>16</td>\n",
       "      <td>8</td>\n",
       "      <td>20</td>\n",
       "      <td>11</td>\n",
       "      <td>18</td>\n",
       "      <td>9</td>\n",
       "      <td>...</td>\n",
       "      <td>5</td>\n",
       "      <td>23.0</td>\n",
       "      <td>0.438670</td>\n",
       "      <td>0.561330</td>\n",
       "      <td>1</td>\n",
       "      <td>4</td>\n",
       "      <td>1</td>\n",
       "      <td>-3</td>\n",
       "      <td>-0.600000</td>\n",
       "      <td>-2.0</td>\n",
       "    </tr>\n",
       "    <tr>\n",
       "      <th>4</th>\n",
       "      <td>2010</td>\n",
       "      <td>3173</td>\n",
       "      <td>3397</td>\n",
       "      <td>13</td>\n",
       "      <td>14</td>\n",
       "      <td>15</td>\n",
       "      <td>16</td>\n",
       "      <td>13</td>\n",
       "      <td>14</td>\n",
       "      <td>16</td>\n",
       "      <td>...</td>\n",
       "      <td>5</td>\n",
       "      <td>23.0</td>\n",
       "      <td>0.642625</td>\n",
       "      <td>0.357375</td>\n",
       "      <td>0</td>\n",
       "      <td>8</td>\n",
       "      <td>1</td>\n",
       "      <td>-7</td>\n",
       "      <td>-0.777778</td>\n",
       "      <td>-13.0</td>\n",
       "    </tr>\n",
       "  </tbody>\n",
       "</table>\n",
       "<p>5 rows × 35 columns</p>\n",
       "</div>"
      ],
      "text/plain": [
       "   Season  1TeamID  2TeamID  1FGPbin  1FTPbin  1FGAbin  1FTAbin  1Astbin  \\\n",
       "0    2010     3124     3201       14       16        8       20       11   \n",
       "1    2010     3124     3207       14       16        8       20       11   \n",
       "2    2010     3265     3207       15       22       10       15       13   \n",
       "3    2010     3124     3397       14       16        8       20       11   \n",
       "4    2010     3173     3397       13       14       15       16       13   \n",
       "\n",
       "   1Blkbin  1ORbin      ...        2Stlbin  2Leaguebin  LossProb   WinProb  \\\n",
       "0       18       9      ...             12         7.0  0.076033  0.923967   \n",
       "1       18       9      ...             17        15.0  0.059654  0.940346   \n",
       "2       13       7      ...             17        15.0  0.088892  0.911108   \n",
       "3       18       9      ...              5        23.0  0.438670  0.561330   \n",
       "4       14      16      ...              5        23.0  0.642625  0.357375   \n",
       "\n",
       "   Result  1Seed  2Seed  SeedDiff  SeedDiffPct  LeaguebinDiff  \n",
       "0       1      4     13         9     0.529412           14.0  \n",
       "1       1      4      5         1     0.111111            6.0  \n",
       "2       0     12      5        -7    -0.411765          -12.0  \n",
       "3       1      4      1        -3    -0.600000           -2.0  \n",
       "4       0      8      1        -7    -0.777778          -13.0  \n",
       "\n",
       "[5 rows x 35 columns]"
      ]
     },
     "execution_count": 27,
     "metadata": {},
     "output_type": "execute_result"
    }
   ],
   "source": [
    "# Get seeds for each team\n",
    "df_seeds_w = df_seeds.rename(columns={'TeamID' : '1TeamID','SeedInt' : '1Seed'})\n",
    "df_tour_final_feats = pd.merge(left=df_tour_winprob, right=df_seeds_w, how='left', on=['Season','1TeamID'])\n",
    "\n",
    "df_seeds_l = df_seeds.rename(columns={'TeamID' : '2TeamID','SeedInt' : '2Seed'})\n",
    "df_tour_final_feats = pd.merge(left=df_tour_final_feats, right=df_seeds_l, how='left', on=['Season','2TeamID'])\n",
    "\n",
    "## Calculate 'difference' statistics for teams in the matchup\n",
    "\n",
    "# positive seed difference indicate that Team1 is higher seed\n",
    "df_tour_final_feats['SeedDiff'] = df_tour_final_feats['2Seed'] - df_tour_final_feats['1Seed']\n",
    "df_tour_final_feats['SeedDiffPct'] = df_tour_final_feats['SeedDiff'] / (df_tour_final_feats['1Seed'] + df_tour_final_feats['2Seed'])\n",
    "\n",
    "# We would also like to weight by relative league strength, so calculate that difference\n",
    "df_tour_final_feats['LeaguebinDiff'] = df_tour_final_feats['1Leaguebin'] - df_tour_final_feats['2Leaguebin']\n",
    "\n",
    "## this now contains all reg season features plus select 'difference' features\n",
    "df_tour_final_feats.head()"
   ]
  },
  {
   "cell_type": "code",
   "execution_count": 28,
   "metadata": {
    "collapsed": true
   },
   "outputs": [],
   "source": [
    "# Generate features for baseline data\n",
    "\n",
    "X_train_baseline = df_tour_final_feats[['SeedDiff']][df_tour_final_feats['Season'] < 2018]\n",
    "X_test_baseline = df_tour_final_feats[['SeedDiff']][df_tour_final_feats['Season'] == 2018]\n",
    "\n",
    "# Output = 1 or 0\n",
    "y_train_baseline = df_tour_final_feats[df_tour_final_feats['Season'] < 2018]['Result']\n",
    "y_test_baseline = df_tour_final_feats[df_tour_final_feats['Season'] == 2018]['Result']"
   ]
  },
  {
   "cell_type": "code",
   "execution_count": 29,
   "metadata": {
    "collapsed": true
   },
   "outputs": [],
   "source": [
    "# Final features: SeedDiffPct, LeaguebinDiff, winprob\n",
    "X_train = df_tour_final_feats[['SeedDiffPct','LeaguebinDiff','WinProb']][df_tour_final_feats['Season'] < 2018]\n",
    "X_test = df_tour_final_feats[['SeedDiffPct','LeaguebinDiff','WinProb']][df_tour_final_feats['Season'] == 2018]\n",
    "\n",
    "# Output = 1 or 0\n",
    "y_train = df_tour_final_feats[df_tour_final_feats['Season'] < 2018]['Result']\n",
    "y_test = df_tour_final_feats[df_tour_final_feats['Season'] == 2018]['Result']"
   ]
  },
  {
   "cell_type": "markdown",
   "metadata": {},
   "source": [
    "## Fit Model 2 to Training Tourney Matchups and Predict Test Matchups"
   ]
  },
  {
   "cell_type": "code",
   "execution_count": 30,
   "metadata": {
    "collapsed": true
   },
   "outputs": [],
   "source": [
    "# Determine models we'd like to use\n",
    "model_names = ['Logistic Regression', 'SVM', 'Gaussian NB', 'Random Forests', 'Gradient Boosting']\n",
    "models = [LogisticRegression(),svm.SVC(probability=True),GaussianNB(),RandomForestClassifier(n_jobs=2, random_state=0),GradientBoostingClassifier(n_estimators=10, learning_rate=1.0, max_depth=2, random_state=0)]"
   ]
  },
  {
   "cell_type": "code",
   "execution_count": 31,
   "metadata": {},
   "outputs": [
    {
     "name": "stdout",
     "output_type": "stream",
     "text": [
      "\n",
      "Performance on Logistic Regression\n",
      "Average Accuracy by CV = 0.7807227722772278, vals = [ 0.77722772  0.78712871  0.7970297   0.77722772  0.765     ]\n",
      "Average Log Loss by CV = 0.45727395627017353, vals = [ 0.46095316  0.45891937  0.45084004  0.44146887  0.47418835]\n",
      "\n",
      "Performance on SVM\n",
      "Average Accuracy by CV = 0.7787425742574258, vals = [ 0.77722772  0.78217822  0.79207921  0.77722772  0.765     ]\n",
      "Average Log Loss by CV = 0.5261570793189521, vals = [ 0.52788032  0.52045386  0.51045828  0.52611425  0.54587869]\n",
      "\n",
      "Performance on Gaussian NB\n",
      "Average Accuracy by CV = 0.7807227722772278, vals = [ 0.77722772  0.78712871  0.7970297   0.77722772  0.765     ]\n",
      "Average Log Loss by CV = 0.45735865728375985, vals = [ 0.46123407  0.45847286  0.45085999  0.44131294  0.47491343]\n",
      "\n",
      "Performance on Random Forests\n",
      "Average Accuracy by CV = 0.7787425742574258, vals = [ 0.77722772  0.78217822  0.79207921  0.77722772  0.765     ]\n",
      "Average Log Loss by CV = 0.545406552857261, vals = [ 0.59613746  0.76027311  0.429262    0.43727333  0.50408686]\n",
      "\n",
      "Performance on Gradient Boosting\n",
      "Average Accuracy by CV = 0.7787425742574258, vals = [ 0.77722772  0.78217822  0.79207921  0.77722772  0.765     ]\n",
      "Average Log Loss by CV = 0.4567525547193868, vals = [ 0.43435444  0.47116022  0.43320182  0.43823987  0.50680642]\n"
     ]
    }
   ],
   "source": [
    "## Reminder of baseline predictions\n",
    "\n",
    "#????Since we have baseline comparisom in the evaluation, do we need to keep this????\n",
    "\n",
    "for i, val in enumerate(models):\n",
    "    model = val\n",
    "    print ('\\nPerformance on '+model_names[i])\n",
    "    eval(model,X_train_baseline,y_train_baseline)\n",
    "    print "
   ]
  },
  {
   "cell_type": "code",
   "execution_count": 32,
   "metadata": {
    "scrolled": false
   },
   "outputs": [
    {
     "name": "stdout",
     "output_type": "stream",
     "text": [
      "\n",
      "Performance on Logistic Regression\n",
      "Average Accuracy by CV = 0.7817821782178218, vals = [ 0.74257426  0.78217822  0.78712871  0.7970297   0.8       ]\n",
      "Average Log Loss by CV = 0.4423306662709587, vals = [ 0.45388622  0.43398474  0.42628488  0.43192258  0.46557491]\n",
      "\n",
      "Performance on SVM\n",
      "Average Accuracy by CV = 0.7708415841584159, vals = [ 0.76732673  0.77722772  0.76237624  0.77227723  0.775     ]\n",
      "Average Log Loss by CV = 0.48906013514497043, vals = [ 0.50523879  0.47886395  0.48576812  0.48644888  0.48898093]\n",
      "\n",
      "Performance on Gaussian NB\n",
      "Average Accuracy by CV = 0.7857425742574258, vals = [ 0.75247525  0.7970297   0.78217822  0.7970297   0.8       ]\n",
      "Average Log Loss by CV = 0.4909553749652609, vals = [ 0.52010524  0.45744382  0.47485313  0.47388918  0.52848551]\n",
      "\n",
      "Performance on Random Forests\n",
      "Average Accuracy by CV = 0.757930693069307, vals = [ 0.77227723  0.75742574  0.73762376  0.76732673  0.755     ]\n",
      "Average Log Loss by CV = 1.307822401274977, vals = [ 1.29252658  1.25506192  1.60825097  1.11402124  1.2692513 ]\n",
      "\n",
      "Performance on Gradient Boosting\n",
      "Average Accuracy by CV = 0.7599306930693068, vals = [ 0.72277228  0.77227723  0.77722772  0.76237624  0.765     ]\n",
      "Average Log Loss by CV = 0.4882406917496601, vals = [ 0.5091523   0.44246346  0.469793    0.45845083  0.56134387]\n"
     ]
    }
   ],
   "source": [
    "## Achieve better results using our model\n",
    "\n",
    "for i, val in enumerate(models):\n",
    "    model = val\n",
    "    print (\"\\nPerformance on \"+ model_names[i])\n",
    "    eval(model,X_train,y_train)\n",
    "    print"
   ]
  },
  {
   "cell_type": "markdown",
   "metadata": {},
   "source": [
    "Logistic Regression performs the best in either baseline and final model. Then we fit the baseline model and the optimal logistic regression model for the evaluation and test compared to Kaggle competition."
   ]
  },
  {
   "cell_type": "code",
   "execution_count": 33,
   "metadata": {},
   "outputs": [
    {
     "data": {
      "text/plain": [
       "LogisticRegression(C=1.0, class_weight=None, dual=False, fit_intercept=True,\n",
       "          intercept_scaling=1, max_iter=100, multi_class='ovr', n_jobs=1,\n",
       "          penalty='l2', random_state=None, solver='liblinear', tol=0.0001,\n",
       "          verbose=0, warm_start=False)"
      ]
     },
     "execution_count": 33,
     "metadata": {},
     "output_type": "execute_result"
    }
   ],
   "source": [
    "#Fit the baseline LogisticRegression Model for comparisom \n",
    "logreg_bl = LogisticRegression()\n",
    "logreg_bl.fit(X_train_baseline,y_train_baseline)"
   ]
  },
  {
   "cell_type": "code",
   "execution_count": 34,
   "metadata": {},
   "outputs": [
    {
     "name": "stdout",
     "output_type": "stream",
     "text": [
      "Negative log loss: -0.426873370501\n",
      "The Best C value is : 1.0\n"
     ]
    }
   ],
   "source": [
    "#Fit the LogisticRegression Model\n",
    "C=list(np.power(10.0, np.arange(-10, 10)))\n",
    "\n",
    "searchCV = LogisticRegressionCV(\n",
    "        Cs=list(np.power(10.0, np.arange(-10, 10)))\n",
    "        ,penalty='l2'\n",
    "        ,scoring='neg_log_loss'\n",
    "        ,cv=5\n",
    "        ,random_state=777\n",
    "        ,max_iter=1000\n",
    "        ,fit_intercept=True\n",
    "        ,solver='lbfgs'\n",
    "        ,tol=10\n",
    "    )\n",
    "searchCV.fit(X_train,y_train)\n",
    "max_neg_log_loss = searchCV.scores_[1].max()\n",
    "#searchCV.coef_\n",
    "print ('Negative log loss:', (max_neg_log_loss))\n",
    "print(\"The Best C value is :\",C[np.argwhere(searchCV.scores_[1]==max_neg_log_loss)[0][1]])\n",
    "\n",
    "#print(type(list(np.power(10.0, np.arange(-10, 10)))))\n",
    "\n",
    "\n"
   ]
  },
  {
   "cell_type": "code",
   "execution_count": 35,
   "metadata": {},
   "outputs": [
    {
     "name": "stdout",
     "output_type": "stream",
     "text": [
      "intercept: [-0.76172847]\n",
      "\n",
      "coefficients: [[ 2.04437759  0.06123573  1.53355505]]\n",
      "\n",
      "features: ['SeedDiffPct', 'LeaguebinDiff', 'WinProb']\n"
     ]
    }
   ],
   "source": [
    "#get the intercept and coefficients of features\n",
    "print ('intercept:', searchCV.intercept_ )\n",
    "print ('\\ncoefficients:', searchCV.coef_)\n",
    "print ('\\nfeatures:', list(X_train.columns.values))\n",
    "logreg = searchCV"
   ]
  },
  {
   "cell_type": "markdown",
   "metadata": {},
   "source": [
    "So our optimal model's logistic regression formula is below:\n",
    "\n",
    "$$\n",
    "logit(p) = ln(\\frac{p}{1-p}) = -0.762 + 2.044\\cdot SeedDiffPct + 0.061\\cdot LeaguebinDiff + 1.534\\cdot WinProb\n",
    "$$"
   ]
  },
  {
   "cell_type": "markdown",
   "metadata": {},
   "source": [
    "## Evaluation"
   ]
  },
  {
   "cell_type": "markdown",
   "metadata": {},
   "source": [
    "- We finally choose our optimal model as the logistic regression model with aggregated features 'SeedDiffPct', 'LeaguebinDiff', 'WinProb'.\n",
    "- In the evaluation session, we first compared the performances of optimal model with that of our orginal baseline (just using one feature, ‘SeedDiff’), with cross validation of training data. Then, we can use our optimal model to predict the winning prob of 2018 tournament and got the log loss score to compared with Kaggle leaderboard ranking. "
   ]
  },
  {
   "cell_type": "code",
   "execution_count": 36,
   "metadata": {},
   "outputs": [
    {
     "data": {
      "text/html": [
       "<div>\n",
       "<style>\n",
       "    .dataframe thead tr:only-child th {\n",
       "        text-align: right;\n",
       "    }\n",
       "\n",
       "    .dataframe thead th {\n",
       "        text-align: left;\n",
       "    }\n",
       "\n",
       "    .dataframe tbody tr th {\n",
       "        vertical-align: top;\n",
       "    }\n",
       "</style>\n",
       "<table border=\"1\" class=\"dataframe\">\n",
       "  <thead>\n",
       "    <tr style=\"text-align: right;\">\n",
       "      <th></th>\n",
       "      <th>SeedDiff</th>\n",
       "    </tr>\n",
       "  </thead>\n",
       "  <tbody>\n",
       "    <tr>\n",
       "      <th>0</th>\n",
       "      <td>9</td>\n",
       "    </tr>\n",
       "    <tr>\n",
       "      <th>1</th>\n",
       "      <td>1</td>\n",
       "    </tr>\n",
       "    <tr>\n",
       "      <th>2</th>\n",
       "      <td>-7</td>\n",
       "    </tr>\n",
       "    <tr>\n",
       "      <th>3</th>\n",
       "      <td>-3</td>\n",
       "    </tr>\n",
       "    <tr>\n",
       "      <th>4</th>\n",
       "      <td>-7</td>\n",
       "    </tr>\n",
       "  </tbody>\n",
       "</table>\n",
       "</div>"
      ],
      "text/plain": [
       "   SeedDiff\n",
       "0         9\n",
       "1         1\n",
       "2        -7\n",
       "3        -3\n",
       "4        -7"
      ]
     },
     "execution_count": 36,
     "metadata": {},
     "output_type": "execute_result"
    }
   ],
   "source": [
    "X_train_baseline.head()"
   ]
  },
  {
   "cell_type": "markdown",
   "metadata": {},
   "source": [
    "### Log Loss"
   ]
  },
  {
   "cell_type": "markdown",
   "metadata": {},
   "source": [
    "- Log Loss is the most important classification metric based on probabilities. It is also a key way of evaluation of our prediction from Kaggle NCAA page. \n",
    "- It is also called the Log Likelihood Function. The log of the likelihood that the 2018 tournament bracket actually happens based on our prediction of wining probability of each team matchups.\n",
    "\n",
    "$$\n",
    "LogLoss = \\sum_{i=1}^{n} [y_i log(\\hat{y_i})+(1-y_i) log(1-\\hat{y_i})]\n",
    "$$\n",
    "\n",
    "- The result will be a negative number that's in a range computers keep track of. However, Scikit-learn has a convention in its metrics that lower scores are better. \n",
    "    - So, scikit-learn report \n",
    "    \n",
    "    $$-1* \\frac{LogLoss}{NumObservations}$$\n",
    "    \n",
    "    $$\n",
    "    LogLoss = -\\frac{1}{n} \\sum_{i=1}^{n} [y_i log(\\hat{y_i})+(1-y_i) log(1-\\hat{y_i})]\n",
    "    $$\n",
    "    \n",
    "    - The division by the number of datapoints is used so the range of values doesn't systematically vary with the dataset size. \n",
    "    - The rage of that is 0 to infinity. \n",
    "    - The lower the metrics is, the better model performance is.\n",
    "    \n",
    "- Log loss penalizes both types of errors, but especially those predications that are confident and wrong."
   ]
  },
  {
   "cell_type": "code",
   "execution_count": 37,
   "metadata": {},
   "outputs": [
    {
     "name": "stdout",
     "output_type": "stream",
     "text": [
      "Log Loss of baseline model = 0.45727395627017353, vals = [ 0.46095316  0.45891937  0.45084004  0.44146887  0.47418835]\n",
      "Log Loss of optimal model = 0.4422805131761017, vals = [ 0.45521022  0.43390128  0.42740666  0.43096635  0.46391806]\n"
     ]
    }
   ],
   "source": [
    "#log loss with cross validation\n",
    "logloss_logreg_bl = cross_val_score(logreg_bl, X_train_baseline, y_train_baseline, cv=5, scoring='neg_log_loss')\n",
    "logloss_logreg = cross_val_score(logreg, X_train, y_train, cv=5, scoring='neg_log_loss')\n",
    "\n",
    "print ('Log Loss of baseline model = {}, vals = {}'.format(-np.mean(logloss_logreg_bl), -logloss_logreg_bl))\n",
    "print ('Log Loss of optimal model = {}, vals = {}'.format(-np.mean(logloss_logreg), -logloss_logreg))"
   ]
  },
  {
   "cell_type": "markdown",
   "metadata": {},
   "source": [
    "The Log Loss value of optimal model is 0.44228, which is a very good outcome, better than the baseline model by 0.015. "
   ]
  },
  {
   "cell_type": "markdown",
   "metadata": {},
   "source": [
    "### Accuracy"
   ]
  },
  {
   "cell_type": "markdown",
   "metadata": {},
   "source": [
    "Accuracy measures a fraction of the classifier's predictions that are correct."
   ]
  },
  {
   "cell_type": "code",
   "execution_count": 38,
   "metadata": {},
   "outputs": [
    {
     "name": "stdout",
     "output_type": "stream",
     "text": [
      "Accuracy of baseline model = 0.7807227722772278, vals = [ 0.77722772  0.78712871  0.7970297   0.77722772  0.765     ]\n",
      "Accuracy of optimal model = 0.7817821782178218, vals = [ 0.74257426  0.78217822  0.79207921  0.79207921  0.8       ]\n"
     ]
    }
   ],
   "source": [
    "# Accuracy with cross validation\n",
    "acc_logreg_bl = cross_val_score(logreg_bl, X_train_baseline, y_train_baseline, cv=5, scoring='accuracy')\n",
    "acc_logreg = cross_val_score(logreg, X_train, y_train, cv=5, scoring='accuracy')\n",
    "\n",
    "print ('Accuracy of baseline model = {}, vals = {}'.format(np.mean(acc_logreg_bl), acc_logreg_bl))\n",
    "print ('Accuracy of optimal model = {}, vals = {}'.format(np.mean(acc_logreg), acc_logreg))"
   ]
  },
  {
   "cell_type": "markdown",
   "metadata": {},
   "source": [
    "The accuracy score of optimal model is 0.78178, higher than baseline model by 0.001."
   ]
  },
  {
   "cell_type": "markdown",
   "metadata": {},
   "source": [
    "### F1 measure"
   ]
  },
  {
   "cell_type": "markdown",
   "metadata": {},
   "source": [
    "- **Precision** is the fraction of positive predictions that are correct, which means the team who we predicts as winner that are actually winner. \n",
    "    - (TP = True Positive, FP = False Positive)\n",
    "\n",
    "$$ P = \\frac{TP}{TP+FP}$$\n",
    "\n",
    "\n",
    "- **Recall**, the true positive rate, is the fraction of the truly positive instances that the classifier recognizes. A recall score of one indicates that the classifier did not make any false negative predictions.\n",
    "In our case, recall is the fraction of winner team that were truly classified as winner, according to our prediction of winning proberbility. \n",
    "    - (TP = True Positive, FN = False Negative)\n",
    "    \n",
    "$$ P = \\frac{TP}{TP+FN}$$"
   ]
  },
  {
   "cell_type": "code",
   "execution_count": 39,
   "metadata": {},
   "outputs": [
    {
     "name": "stdout",
     "output_type": "stream",
     "text": [
      "Precision of baseline model = 0.7800654593187712, vals = [ 0.78571429  0.76363636  0.81914894  0.76415094  0.76767677]\n",
      "Precision of optimal model = 0.7811726960784847, vals = [ 0.74257426  0.76635514  0.81052632  0.78640777  0.8       ]\n",
      "\n",
      "Recalls of baseline model = 0.7836831683168317, vals = [ 0.76237624  0.83168317  0.76237624  0.8019802   0.76      ]\n",
      "Recalls of optimal model = 0.7837623762376238, vals = [ 0.74257426  0.81188119  0.76237624  0.8019802   0.8       ]\n"
     ]
    }
   ],
   "source": [
    "# precisions and recalls with cross validation\n",
    "precisions_logreg_bl = cross_val_score(logreg_bl, X_train_baseline, y_train_baseline, cv=5, scoring='precision')\n",
    "print ('Precision of baseline model = {}, vals = {}'.format(np.mean(precisions_logreg_bl), precisions_logreg_bl))\n",
    "precisions_logreg = cross_val_score(logreg, X_train, y_train, cv=5, scoring='precision')\n",
    "print ('Precision of optimal model = {}, vals = {}'.format(np.mean(precisions_logreg), precisions_logreg))\n",
    "\n",
    "recalls_logreg_bl = cross_val_score(logreg_bl, X_train_baseline, y_train_baseline, cv=5, scoring='recall')\n",
    "print ('\\nRecalls of baseline model = {}, vals = {}'.format(np.mean(recalls_logreg_bl), recalls_logreg_bl))\n",
    "recalls_logreg = cross_val_score(logreg, X_train, y_train, cv=5, scoring='recall')\n",
    "print ('Recalls of optimal model = {}, vals = {}'.format(np.mean(recalls_logreg), recalls_logreg))"
   ]
  },
  {
   "cell_type": "markdown",
   "metadata": {},
   "source": [
    "- The **F1 measure** is the harmonic mean, or weighted average, of the precision and recall scores. Also called the f-measure or the f-score. \n",
    "    - (P = precision, R = recall) \n",
    "    $$ F1 = 2 \\frac{PR}{P+R}$$\n",
    "\n",
    "    \n",
    "- The F1 measure penalizes classifiers with imbalanced precision and recall scores, like the trivial classifier that always predicts the positive class. \n",
    "- A model with perfect precision and recall scores will achieve an F1 score of 1. A model with a perfect precision score and a recall score of zero will achieve an F1 score of 0.\n",
    "- Models are sometimes evaluated using the F0.5 and F2 scores, which favor precision over recall and recall over precision, respectively. In our case, we just use F1 score. "
   ]
  },
  {
   "cell_type": "code",
   "execution_count": 40,
   "metadata": {},
   "outputs": [
    {
     "name": "stdout",
     "output_type": "stream",
     "text": [
      "F1 of baseline model = 0.7812498516825012, vals = [ 0.77386935  0.79620853  0.78974359  0.7826087   0.7638191 ]\n",
      "F1 of optimal model = 0.7821735457320782, vals = [ 0.74257426  0.78846154  0.78571429  0.79411765  0.8       ]\n"
     ]
    }
   ],
   "source": [
    "#F1 score with cross validation\n",
    "f1s_logreg_bl = cross_val_score(logreg_bl, X_train_baseline, y_train_baseline, cv=5, scoring='f1')\n",
    "print ('F1 of baseline model = {}, vals = {}'.format(np.mean(f1s_logreg_bl), f1s_logreg_bl))\n",
    "\n",
    "f1s_logreg = cross_val_score(logreg, X_train, y_train, cv=5, scoring='f1')\n",
    "print ('F1 of optimal model = {}, vals = {}'.format(np.mean(f1s_logreg), f1s_logreg))"
   ]
  },
  {
   "cell_type": "markdown",
   "metadata": {},
   "source": [
    "For the optimal model, the arithmetic mean of our classifier's precision and recall scores is 0.7821, slightly higher than that of baseline model, 0.7812. For both model, the F1 scores are high, indicating that the F1 measure's penalty is small. "
   ]
  },
  {
   "cell_type": "markdown",
   "metadata": {
    "collapsed": true
   },
   "source": [
    "### ROC Curve"
   ]
  },
  {
   "cell_type": "markdown",
   "metadata": {},
   "source": [
    "- Receiver Operating Characteristic, or ROC curve, visualizes a classifier's performance.\n",
    "- ROC curve illustrates the classifier's performance for all values of the discrimination threshold. \n",
    "    - The true positive rate (Sensitivity, Recall ) is plotted in function of the false positive rate (100-Specificity, Fall-out) for different cut-off points. \n",
    "    - Each point on the ROC curve represents a sensitivity/specificity pair corresponding to a particular decision threshold. \n",
    "- AUC is the area under the ROC curve; it reduces the ROC curve to a single value, which represents the expected performance of the classifier. \n",
    "- The dashed line in the following figure is for a classifier that predicts classes randomly; it has an AUC of 0.5. The solid curve is for a classifier that outperforms random guessing.\n",
    "- A test with perfect discrimination (no overlap in the two distributions) has a ROC curve that passes through the upper left corner (100% sensitivity, 100% specificity). Therefore the closer the ROC curve is to the upper left corner, the higher the overall accuracy of the test (Zweig & Campbell, 1993)\n",
    "\n",
    "https://www.medcalc.org/manual/roc-curves.php"
   ]
  },
  {
   "cell_type": "code",
   "execution_count": 41,
   "metadata": {
    "collapsed": true
   },
   "outputs": [],
   "source": [
    "from scipy import interp\n",
    "from itertools import cycle\n",
    "\n",
    "from sklearn import svm, datasets\n",
    "from sklearn.metrics import roc_curve, auc\n",
    "from sklearn.model_selection import StratifiedKFold"
   ]
  },
  {
   "cell_type": "code",
   "execution_count": 42,
   "metadata": {},
   "outputs": [
    {
     "data": {
      "image/png": "[encoded data removed]",
      "text/plain": [
       "<matplotlib.figure.Figure at 0x1a0fc0abe0>"
      ]
     },
     "metadata": {},
     "output_type": "display_data"
    }
   ],
   "source": [
    "#plot the ROC curve with cross validation for baseline model\n",
    "X_bl = np.array(X_train_baseline)\n",
    "y_bl = np.array(y_train_baseline)\n",
    "\n",
    "n_samples_bl, n_features_bl = X_bl.shape\n",
    "\n",
    "# Classification and ROC analysis\n",
    "\n",
    "# Run classifier with cross-validation and plot ROC curves\n",
    "cv_bl = StratifiedKFold(n_splits=6)\n",
    "classifier_bl = logreg_bl\n",
    "\n",
    "tprs_bl = []\n",
    "aucs_bl = []\n",
    "mean_fpr_bl = np.linspace(0, 1, 100)\n",
    "\n",
    "i = 0\n",
    "for train, test in cv_bl.split(X_bl, y_bl):\n",
    "    probas__bl = classifier_bl.fit(X_bl[train], y_bl[train]).predict_proba(X_bl[test])\n",
    "    # Compute ROC curve and area the curve\n",
    "    fpr_bl, tpr_bl, thresholds_bl = roc_curve(y_bl[test], probas__bl[:, 1])\n",
    "    tprs_bl.append(interp(mean_fpr_bl, fpr_bl, tpr_bl))\n",
    "    tprs_bl[-1][0] = 0.0\n",
    "    roc_auc_bl = auc(fpr_bl, tpr_bl)\n",
    "    aucs_bl.append(roc_auc_bl)\n",
    "    plt.plot(fpr_bl, tpr_bl, lw=1, alpha=0.3,\n",
    "             label='ROC fold %d (AUC = %0.2f)' % (i, roc_auc_bl))\n",
    "\n",
    "    i += 1\n",
    "plt.plot([0, 1], [0, 1], linestyle='--', lw=2, color='r',\n",
    "         label='Luck', alpha=.8)\n",
    "\n",
    "mean_tpr_bl = np.mean(tprs_bl, axis=0)\n",
    "mean_tpr_bl[-1] = 1.0\n",
    "mean_auc_bl = auc(mean_fpr_bl, mean_tpr_bl)\n",
    "std_auc_bl = np.std(aucs_bl)\n",
    "plt.plot(mean_fpr_bl, mean_tpr_bl, color='b',\n",
    "         label=r'Mean ROC (AUC = %0.2f $\\pm$ %0.2f)' % (mean_auc_bl, std_auc_bl),\n",
    "         lw=2, alpha=.8)\n",
    "\n",
    "std_tpr_bl = np.std(tprs_bl, axis=0)\n",
    "tprs_upper_bl = np.minimum(mean_tpr_bl + std_tpr_bl, 1)\n",
    "tprs_lower_bl = np.maximum(mean_tpr_bl - std_tpr_bl, 0)\n",
    "plt.fill_between(mean_fpr_bl, tprs_lower_bl, tprs_upper_bl, color='grey', alpha=.2,\n",
    "                 label=r'$\\pm$ 1 std. dev.')\n",
    "\n",
    "plt.xlim([-0.05, 1.05])\n",
    "plt.ylim([-0.05, 1.05])\n",
    "plt.xlabel('False Positive Rate')\n",
    "plt.ylabel('True Positive Rate')\n",
    "plt.title('Receiver operating characteristic of baseline model')\n",
    "plt.legend(loc=\"lower right\")\n",
    "plt.show()"
   ]
  },
  {
   "cell_type": "code",
   "execution_count": 43,
   "metadata": {},
   "outputs": [
    {
     "data": {
      "image/png": "[encoded data removed]",
      "text/plain": [
       "<matplotlib.figure.Figure at 0x1a10787be0>"
      ]
     },
     "metadata": {},
     "output_type": "display_data"
    }
   ],
   "source": [
    "#plot the ROC curve with cross validation for optimal model\n",
    "X = np.array(X_train)\n",
    "y = np.array(y_train)\n",
    "\n",
    "n_samples, n_features = X.shape\n",
    "\n",
    "# Classification and ROC analysis\n",
    "\n",
    "# Run classifier with cross-validation and plot ROC curves\n",
    "cv = StratifiedKFold(n_splits=6)\n",
    "classifier = logreg\n",
    "\n",
    "tprs = []\n",
    "aucs = []\n",
    "mean_fpr = np.linspace(0, 1, 100)\n",
    "\n",
    "i = 0\n",
    "for train, test in cv.split(X, y):\n",
    "    probas_ = classifier.fit(X[train], y[train]).predict_proba(X[test])\n",
    "    # Compute ROC curve and area the curve\n",
    "    fpr, tpr, thresholds = roc_curve(y[test], probas_[:, 1])\n",
    "    tprs.append(interp(mean_fpr, fpr, tpr))\n",
    "    tprs[-1][0] = 0.0\n",
    "    roc_auc = auc(fpr, tpr)\n",
    "    aucs.append(roc_auc)\n",
    "    plt.plot(fpr, tpr, lw=1, alpha=0.3,\n",
    "             label='ROC fold %d (AUC = %0.2f)' % (i, roc_auc))\n",
    "\n",
    "    i += 1\n",
    "plt.plot([0, 1], [0, 1], linestyle='--', lw=2, color='r',\n",
    "         label='50/50 Chance', alpha=.8)\n",
    "\n",
    "mean_tpr = np.mean(tprs, axis=0)\n",
    "mean_tpr[-1] = 1.0\n",
    "mean_auc = auc(mean_fpr, mean_tpr)\n",
    "std_auc = np.std(aucs)\n",
    "plt.plot(mean_fpr, mean_tpr, color='b',\n",
    "         label=r'Mean ROC (AUC = %0.2f $\\pm$ %0.2f)' % (mean_auc, std_auc),\n",
    "         lw=2, alpha=.8)\n",
    "\n",
    "std_tpr = np.std(tprs, axis=0)\n",
    "tprs_upper = np.minimum(mean_tpr + std_tpr, 1)\n",
    "tprs_lower = np.maximum(mean_tpr - std_tpr, 0)\n",
    "plt.fill_between(mean_fpr, tprs_lower, tprs_upper, color='grey', alpha=.2,\n",
    "                 label=r'$\\pm$ 1 std. dev.')\n",
    "\n",
    "plt.xlim([-0.05, 1.05])\n",
    "plt.ylim([-0.05, 1.05])\n",
    "plt.xlabel('False Positive Rate')\n",
    "plt.ylabel('True Positive Rate')\n",
    "plt.title('Receiver operating characteristic of optimal model')\n",
    "plt.legend(loc=\"lower right\")\n",
    "plt.show()"
   ]
  },
  {
   "cell_type": "code",
   "execution_count": 44,
   "metadata": {},
   "outputs": [
    {
     "data": {
      "image/png": "[encoded data removed]",
      "text/plain": [
       "<matplotlib.figure.Figure at 0x1a107817f0>"
      ]
     },
     "metadata": {},
     "output_type": "display_data"
    }
   ],
   "source": [
    "plt.plot([0, 1], [0, 1], linestyle='--', lw=2, color='r',\n",
    "         label='50/50 Chance', alpha=.8)\n",
    "\n",
    "mean_tpr_bl = np.mean(tprs_bl, axis=0)\n",
    "mean_tpr_bl[-1] = 1.0\n",
    "mean_auc_bl = auc(mean_fpr_bl, mean_tpr_bl)\n",
    "std_auc_bl = np.std(aucs_bl)\n",
    "plt.plot(mean_fpr_bl, mean_tpr_bl, color='b',\n",
    "         label=r'Mean ROC of baseline model(AUC = %0.2f )' % (mean_auc_bl),\n",
    "         lw=2, alpha=.8)\n",
    "\n",
    "mean_tpr = np.mean(tprs, axis=0)\n",
    "mean_tpr[-1] = 1.0\n",
    "mean_auc = auc(mean_fpr, mean_tpr)\n",
    "std_auc = np.std(aucs)\n",
    "plt.plot(mean_fpr, mean_tpr, color='g',\n",
    "         label=r'Mean ROC of optimal model(AUC = %0.2f )' % (mean_auc),\n",
    "         lw=2, alpha=.8)\n",
    "\n",
    "plt.xlim([-0.05, 1.05])\n",
    "plt.ylim([-0.05, 1.05])\n",
    "plt.xlabel('False Positive Rate')\n",
    "plt.ylabel('True Positive Rate')\n",
    "plt.title('Receiver operating characteristic of models comparisom')\n",
    "plt.legend(loc=\"lower right\")\n",
    "plt.show()"
   ]
  },
  {
   "cell_type": "markdown",
   "metadata": {},
   "source": [
    "- Both of the ROC curves are on the upper left corner, indicating a good discrimination. The average AUC value from cross validation of optimal model is 0.87, higher than that of baseline model, which is 0.86. Hence, the expected performance of the optimal model is better than baseline model. \n",
    "\n",
    "\n",
    "- The ROC curve of the optimal model is slightly deeper at the beginning than that of baseline model. Kaggle punishes the prediction that something is true when it is actually false, the false positive prediction, which means we are looking for less false positive rate. So, the optimal model performs better, under the rule of Kaggle (https://www.kaggle.com/c/womens-machine-learning-competition-2018#evaluation)"
   ]
  },
  {
   "cell_type": "markdown",
   "metadata": {},
   "source": [
    "### Summary"
   ]
  },
  {
   "cell_type": "markdown",
   "metadata": {},
   "source": [
    "After checking Log Loss, Accuracy, Precision and recall, F1 measure, and ROC Curve with cross validation of training data, the optimal model performs better in all measurements: \n",
    "- Higher accuracy and F1 score; \n",
    "- less false positive rate and higher AUC in ROC curve; \n",
    "- and most importantly, smaller log loss score. "
   ]
  },
  {
   "cell_type": "markdown",
   "metadata": {},
   "source": [
    "# Deployment"
   ]
  },
  {
   "cell_type": "markdown",
   "metadata": {},
   "source": [
    "### Log Loss on 2018 Tournament Result"
   ]
  },
  {
   "cell_type": "markdown",
   "metadata": {},
   "source": [
    "The Kaggle competition required a submission of predictions for the win likelihood of every potential matchup in the 2018 NCAA Division I Women’s Basketball Tournament. Since team1 vs. team2 is the same as team2 vs. team1, we only included the game pairs where team1 has the lower team id (total of 64*63 / 2 = 2,016 matchups). Predictions were submitted as a .csv file with a list of every possible matchup between the tournament teams and the prediction of the probability that team1 in the matchup would be team2.\n",
    "\n",
    "However, evaluation (as described above) could only be completed for games actually played (63 matchups). The evaluation technique used in this competition is log loss. The [winning Kaggle competition submission](https://www.kaggle.com/c/womens-machine-learning-competition-2018/leaderboard) "
   ]
  },
  {
   "cell_type": "code",
   "execution_count": 45,
   "metadata": {
    "collapsed": true
   },
   "outputs": [],
   "source": [
    "#Create the each team matchups ID for submission file\n",
    "X_test_baseline_with_ID = df_tour_final_feats[['SeedDiff','1TeamID','2TeamID','Season']][df_tour_final_feats['Season'] == 2018]\n",
    "X_test_baseline_with_ID['ID'] = X_test_baseline_with_ID.apply(lambda row: str(int(row['Season']))+'_'+ \\\n",
    "                                            str(int(row['1TeamID']))+'_'+ \\\n",
    "                                            str(int(row['2TeamID'])), axis=1) \n",
    "X_test_with_ID = df_tour_final_feats[['Season','1TeamID','2TeamID','SeedDiffPct','LeaguebinDiff','WinProb']]\\\n",
    "                    [df_tour_final_feats['Season'] == 2018]\n",
    "X_test_with_ID['ID'] = X_test_with_ID.apply(lambda row: str(int(row['Season']))+'_'+ \\\n",
    "                                            str(int(row['1TeamID']))+'_'+ \\\n",
    "                                            str(int(row['2TeamID'])), axis=1) "
   ]
  },
  {
   "cell_type": "code",
   "execution_count": 46,
   "metadata": {},
   "outputs": [
    {
     "data": {
      "text/html": [
       "<div>\n",
       "<style>\n",
       "    .dataframe thead tr:only-child th {\n",
       "        text-align: right;\n",
       "    }\n",
       "\n",
       "    .dataframe thead th {\n",
       "        text-align: left;\n",
       "    }\n",
       "\n",
       "    .dataframe tbody tr th {\n",
       "        vertical-align: top;\n",
       "    }\n",
       "</style>\n",
       "<table border=\"1\" class=\"dataframe\">\n",
       "  <thead>\n",
       "    <tr style=\"text-align: right;\">\n",
       "      <th></th>\n",
       "      <th>ID</th>\n",
       "      <th>Result</th>\n",
       "      <th>Pred</th>\n",
       "    </tr>\n",
       "  </thead>\n",
       "  <tbody>\n",
       "    <tr>\n",
       "      <th>0</th>\n",
       "      <td>2018_3163_3384</td>\n",
       "      <td>1</td>\n",
       "      <td>0.959154</td>\n",
       "    </tr>\n",
       "    <tr>\n",
       "      <th>1</th>\n",
       "      <td>2018_3274_3346</td>\n",
       "      <td>0</td>\n",
       "      <td>0.615477</td>\n",
       "    </tr>\n",
       "    <tr>\n",
       "      <th>2</th>\n",
       "      <td>2018_3125_3181</td>\n",
       "      <td>0</td>\n",
       "      <td>0.208890</td>\n",
       "    </tr>\n",
       "    <tr>\n",
       "      <th>3</th>\n",
       "      <td>2018_3208_3273</td>\n",
       "      <td>1</td>\n",
       "      <td>0.837981</td>\n",
       "    </tr>\n",
       "    <tr>\n",
       "      <th>4</th>\n",
       "      <td>2018_3138_3378</td>\n",
       "      <td>1</td>\n",
       "      <td>0.413795</td>\n",
       "    </tr>\n",
       "  </tbody>\n",
       "</table>\n",
       "</div>"
      ],
      "text/plain": [
       "               ID  Result      Pred\n",
       "0  2018_3163_3384       1  0.959154\n",
       "1  2018_3274_3346       0  0.615477\n",
       "2  2018_3125_3181       0  0.208890\n",
       "3  2018_3208_3273       1  0.837981\n",
       "4  2018_3138_3378       1  0.413795"
      ]
     },
     "execution_count": 46,
     "metadata": {},
     "output_type": "execute_result"
    }
   ],
   "source": [
    "#Create the final prediction data frame and output the subission csv file\n",
    "df_sub = pd.DataFrame(data=X_test_with_ID['ID'],columns=['ID'])\n",
    "pred_sub = searchCV.predict_proba(X_test)\n",
    "df_sub['Pred']=pred_sub[:,1]\n",
    "df_sub.to_csv('NCAA_Pred_2018.csv', index=False)\n",
    "\n",
    "#create the final test dataframe\n",
    "#df_sub = pd.read_csv('NCAA_Pred_2018.csv')\n",
    "df_result = pd.read_csv('NCAA_Result_2018.csv')\n",
    "df_eval = df_result.merge(df_sub, left_on='ID', right_on='ID', how='left')\n",
    "df_eval.head()"
   ]
  },
  {
   "cell_type": "code",
   "execution_count": 47,
   "metadata": {},
   "outputs": [
    {
     "name": "stdout",
     "output_type": "stream",
     "text": [
      "Log Loss of 2018 Tournament Result: 0.431590444807\n",
      "Accuracy of 2018 Tournament Result: 0.761904761905\n"
     ]
    }
   ],
   "source": [
    "y_pred = df_eval.loc[:,'Pred'].as_matrix()\n",
    "y_true = df_eval.loc[:,'Result'].as_matrix()\n",
    "\n",
    "y_pred_bin = y_pred > .5\n",
    "y_pred_bin = [x*1 for x in y_pred_bin]\n",
    "\n",
    "print ('Log Loss of 2018 Tournament Result:', log_loss(y_true, y_pred, eps=1e-15))\n",
    "print ('Accuracy of 2018 Tournament Result:',  accuracy_score(y_true, y_pred_bin))"
   ]
  },
  {
   "cell_type": "markdown",
   "metadata": {},
   "source": [
    "The log loss score for optimal model is 0.43159, which is a great outcome. The Log Loss score follows the evaluation criteria of Kaggle competition, we would be placed in the rank of 16 from 505 teams. Accuracy is 0.7619, which is also relatively high. "
   ]
  },
  {
   "cell_type": "code",
   "execution_count": null,
   "metadata": {
    "collapsed": true
   },
   "outputs": [],
   "source": []
  }
 ],
 "metadata": {
  "kernelspec": {
   "display_name": "Python 3",
   "language": "python",
   "name": "python3"
  },
  "language_info": {
   "codemirror_mode": {
    "name": "ipython",
    "version": 3
   },
   "file_extension": ".py",
   "mimetype": "text/x-python",
   "name": "python",
   "nbconvert_exporter": "python",
   "pygments_lexer": "ipython3",
   "version": "3.6.3"
  }
 },
 "nbformat": 4,
 "nbformat_minor": 2
}
